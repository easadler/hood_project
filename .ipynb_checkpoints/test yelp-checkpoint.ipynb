{
 "cells": [
  {
   "cell_type": "code",
   "execution_count": 1,
   "metadata": {
    "collapsed": true
   },
   "outputs": [],
   "source": [
    "import site\n",
    "site.addsitedir('/anaconda/lib/python2.7/site-packages')\n",
    "import json\n",
    "from shapely.geometry import Point, shape\n",
    "import requests\n",
    "import pandas as pd\n",
    "import numpy as np\n",
    "from multiprocessing import Pool\n",
    "from itertools import izip\n",
    "from pymongo import MongoClient\n",
    "import rauth"
   ]
  },
  {
   "cell_type": "code",
   "execution_count": 2,
   "metadata": {
    "collapsed": false
   },
   "outputs": [
    {
     "name": "stdout",
     "output_type": "stream",
     "text": [
      "\u001b[34mDimension Reduction\u001b[m\u001b[m/  \u001b[34mdata collection\u001b[m\u001b[m/\r\n",
      "One time tasks.ipynb  \u001b[34mfeature engineering\u001b[m\u001b[m/\r\n",
      "Untitled.ipynb        homepage.html\r\n",
      "Untitled1.ipynb       \u001b[34mold files - ignore\u001b[m\u001b[m/\r\n",
      "Untitled2.ipynb       pca_zillow.ipynb\r\n"
     ]
    }
   ],
   "source": []
  },
  {
   "cell_type": "code",
   "execution_count": 4,
   "metadata": {
    "collapsed": false
   },
   "outputs": [],
   "source": [
    "df = pd.read_csv('feature engineering/final.csv')\n"
   ]
  },
  {
   "cell_type": "code",
   "execution_count": 37,
   "metadata": {
    "collapsed": false
   },
   "outputs": [
    {
     "data": {
      "text/html": [
       "<div>\n",
       "<table border=\"1\" class=\"dataframe\">\n",
       "  <thead>\n",
       "    <tr style=\"text-align: right;\">\n",
       "      <th></th>\n",
       "      <th>name</th>\n",
       "      <th>latitude</th>\n",
       "      <th>longitude</th>\n",
       "    </tr>\n",
       "  </thead>\n",
       "  <tbody>\n",
       "    <tr>\n",
       "      <th>52</th>\n",
       "      <td>Alki</td>\n",
       "      <td>47.576466</td>\n",
       "      <td>-122.398842</td>\n",
       "    </tr>\n",
       "  </tbody>\n",
       "</table>\n",
       "</div>"
      ],
      "text/plain": [
       "    name   latitude   longitude\n",
       "52  Alki  47.576466 -122.398842"
      ]
     },
     "execution_count": 37,
     "metadata": {},
     "output_type": "execute_result"
    }
   ],
   "source": [
    "df.ix[df['name'] == 'Alki', ['name', 'latitude', 'longitude']]"
   ]
  },
  {
   "cell_type": "code",
   "execution_count": 48,
   "metadata": {
    "collapsed": false
   },
   "outputs": [],
   "source": [
    "def parameters(offset):\n",
    "    params = {}\n",
    "    params[\"cll\"] = str(47.576466\t) + ',' + str(-122.398842)\n",
    "    params[\"location\"] = 'Alki Seattle WA'\n",
    "    params['category_filter'] = 'nightlife'\n",
    "    params['offset'] = offset\n",
    "    params['sort'] = 1\n",
    "    return params"
   ]
  },
  {
   "cell_type": "code",
   "execution_count": 49,
   "metadata": {
    "collapsed": true
   },
   "outputs": [],
   "source": [
    "def yelp(params):\n",
    "    consumer_key = \"qJEg7amAswZXSS5FuCk_hw\"\n",
    "    consumer_secret = \"tqQcsIUE2A4Z4POJQDJNgz7RvdA\"\n",
    "    token = \"V9jFtdX6V9PweZm7dAioEPbitM1WNfbo\"\n",
    "    token_secret = \"nA3b5R6bU99wQoTmgk3M2epKit0\"\n",
    "\n",
    "    session = rauth.OAuth1Session(\n",
    "    consumer_key = consumer_key\n",
    "    ,consumer_secret = consumer_secret\n",
    "    ,access_token = token\n",
    "    ,access_token_secret = token_secret)\n",
    "\n",
    "    request = session.get(\"http://api.yelp.com/v2/search\",params=params)\n",
    "\n",
    "    data = request.json()\n",
    "    session.close()\n",
    "    return data"
   ]
  },
  {
   "cell_type": "code",
   "execution_count": 50,
   "metadata": {
    "collapsed": false
   },
   "outputs": [],
   "source": [
    "data = []\n",
    "for offset in xrange(0,40,20):\n",
    "    params = parameters(offset)\n",
    "    r = yelp(params)\n",
    "    data.extend(r['businesses'])"
   ]
  },
  {
   "cell_type": "code",
   "execution_count": 51,
   "metadata": {
    "collapsed": false
   },
   "outputs": [
    {
     "name": "stdout",
     "output_type": "stream",
     "text": [
      "karaoke-kurt-seattle\n",
      "seattle-guitar-teacher-seattle-2\n",
      "feel-good-productions-renton\n",
      "dj-doug-friday-harbor\n"
     ]
    }
   ],
   "source": [
    "for i in data:\n",
    "    print i['id']"
   ]
  },
  {
   "cell_type": "code",
   "execution_count": null,
   "metadata": {
    "collapsed": true
   },
   "outputs": [],
   "source": []
  }
 ],
 "metadata": {
  "kernelspec": {
   "display_name": "Python 2",
   "language": "python",
   "name": "python2"
  },
  "language_info": {
   "codemirror_mode": {
    "name": "ipython",
    "version": 2
   },
   "file_extension": ".py",
   "mimetype": "text/x-python",
   "name": "python",
   "nbconvert_exporter": "python",
   "pygments_lexer": "ipython2",
   "version": "2.7.10"
  }
 },
 "nbformat": 4,
 "nbformat_minor": 0
}
