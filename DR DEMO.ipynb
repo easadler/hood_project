{
 "cells": [
  {
   "cell_type": "code",
   "execution_count": 2,
   "metadata": {
    "collapsed": true
   },
   "outputs": [],
   "source": [
    "import numpy as np\n",
    "import pandas as pd\n",
    "import matplotlib.pyplot as plt\n",
    "\n",
    "%matplotlib inline"
   ]
  },
  {
   "cell_type": "code",
   "execution_count": 37,
   "metadata": {
    "collapsed": false
   },
   "outputs": [],
   "source": [
    "#Load demographic data set\n",
    "\n",
    "\n",
    "df_z = pd.read_csv('data collection/demographics_final.csv')\n",
    "ids = df.id_y\n",
    "names = df.name\n"
   ]
  },
  {
   "cell_type": "code",
   "execution_count": 38,
   "metadata": {
    "collapsed": false
   },
   "outputs": [],
   "source": [
    "#Drop bad columns (_id was removed)\n",
    "df_z.drop(['latitude','longitude','id_x','id_y','url', 'city','state', 'name','People Data: Median Household Income','People Data: Average Commute Time (Minutes)','Affordability Data: Median List Price','Affordability Data: Percent Homes Decreasing','Affordability Data: Percent Listing Price Reduction','Affordability Data: Median Sale Price','Affordability Data: Turnover (Sold Within Last Yr)','Affordability Data: Median Condo Value','Affordability Data: Homes Recently Sold','Affordability Data: Homes For Sale','Affordability Data: 1-Yr Change','Affordability Data: Median Value Per Sq Ft','Homes & Real Estate Data: Median Home Size (Sq Ft)','Homes & Real Estate Data: Median Home Size (Sq Ft)','Census Summary-RelationshipStatus: Divorced-Female'], axis = 1, inplace = True)\n"
   ]
  },
  {
   "cell_type": "code",
   "execution_count": 39,
   "metadata": {
    "collapsed": false
   },
   "outputs": [
    {
     "name": "stdout",
     "output_type": "stream",
     "text": [
      "/Users/evansadler/Desktop/Project Files/Dimension Reduction\n"
     ]
    }
   ],
   "source": [
    "cd Dimension\\ Reduction"
   ]
  },
  {
   "cell_type": "code",
   "execution_count": 40,
   "metadata": {
    "collapsed": false
   },
   "outputs": [],
   "source": [
    "from pca_class import ReduceFeatures"
   ]
  },
  {
   "cell_type": "code",
   "execution_count": 58,
   "metadata": {
    "collapsed": false
   },
   "outputs": [
    {
     "name": "stdout",
     "output_type": "stream",
     "text": [
      "For n_clusters = 3 The average silhouette_score is : 0.283008482735\n",
      "For n_clusters = 4 The average silhouette_score is : 0.290840795699\n",
      "For n_clusters = 5 The average silhouette_score is : 0.284004424282\n",
      "For n_clusters = 6 The average silhouette_score is : 0.304657208275\n",
      "For n_clusters = 7 The average silhouette_score is : 0.31356309783\n",
      "For n_clusters = 8 The average silhouette_score is : 0.289730384397\n",
      "For n_clusters = 9 The average silhouette_score is : 0.299779627144\n",
      "For n_clusters = 10 The average silhouette_score is : 0.289818033925\n"
     ]
    }
   ],
   "source": [
    "rf_z = ReduceFeatures(df_z, names )\n",
    "rf_z.preprocessing(75)\n",
    "rf_z.hcluster_cols(0.3)\n",
    "rf_z.preprocessing()\n",
    "df_cz = rf_z.sparse_pca(n_components = 3,alpha = 5)\n",
    "rf_z.best_cluster()"
   ]
  },
  {
   "cell_type": "code",
   "execution_count": 59,
   "metadata": {
    "collapsed": false
   },
   "outputs": [
    {
     "data": {
      "text/html": [
       "<div>\n",
       "<table border=\"1\" class=\"dataframe\">\n",
       "  <thead>\n",
       "    <tr style=\"text-align: right;\">\n",
       "      <th></th>\n",
       "      <th>1</th>\n",
       "      <th>2</th>\n",
       "      <th>3</th>\n",
       "    </tr>\n",
       "  </thead>\n",
       "  <tbody>\n",
       "    <tr>\n",
       "      <th>['Affordability Data: Median 3-Bedroom Home Value'\\n 'Affordability Data: Median 4-Bedroom Home Value'\\n 'Affordability Data: Median Single Family Home Value'\\n 'Affordability Data: Zillow Home Value Index']</th>\n",
       "      <td>0.000000</td>\n",
       "      <td>-2.931623</td>\n",
       "      <td>0.000000</td>\n",
       "    </tr>\n",
       "    <tr>\n",
       "      <th>Affordability Data: Median 2-Bedroom Home Value</th>\n",
       "      <td>0.000000</td>\n",
       "      <td>-2.527509</td>\n",
       "      <td>0.000000</td>\n",
       "    </tr>\n",
       "    <tr>\n",
       "      <th>Affordability Data: Property Tax</th>\n",
       "      <td>0.000000</td>\n",
       "      <td>-1.103234</td>\n",
       "      <td>0.000000</td>\n",
       "    </tr>\n",
       "    <tr>\n",
       "      <th>Census Summary-AgeDecade: 50s</th>\n",
       "      <td>0.000000</td>\n",
       "      <td>-0.959363</td>\n",
       "      <td>0.000000</td>\n",
       "    </tr>\n",
       "    <tr>\n",
       "      <th>Affordability Data: Median List Price Per Sq Ft</th>\n",
       "      <td>0.000000</td>\n",
       "      <td>0.000000</td>\n",
       "      <td>0.000000</td>\n",
       "    </tr>\n",
       "    <tr>\n",
       "      <th>Census Summary-CommuteTime: 20-30min</th>\n",
       "      <td>0.000000</td>\n",
       "      <td>0.000000</td>\n",
       "      <td>0.000000</td>\n",
       "    </tr>\n",
       "    <tr>\n",
       "      <th>Census Summary-RelationshipStatus: Widowed-Male</th>\n",
       "      <td>0.000000</td>\n",
       "      <td>0.000000</td>\n",
       "      <td>1.637720</td>\n",
       "    </tr>\n",
       "    <tr>\n",
       "      <th>Census Summary-RelationshipStatus: Widowed-Female</th>\n",
       "      <td>0.000000</td>\n",
       "      <td>0.000000</td>\n",
       "      <td>2.335639</td>\n",
       "    </tr>\n",
       "    <tr>\n",
       "      <th>Census Summary-AgeDecade: 60s</th>\n",
       "      <td>0.000000</td>\n",
       "      <td>0.000000</td>\n",
       "      <td>1.391821</td>\n",
       "    </tr>\n",
       "    <tr>\n",
       "      <th>['Census Summary-AgeDecade: &gt;=70s' 'People Data: Median Age']</th>\n",
       "      <td>0.000000</td>\n",
       "      <td>0.000000</td>\n",
       "      <td>3.349607</td>\n",
       "    </tr>\n",
       "    <tr>\n",
       "      <th>Census Summary-CommuteTime: 45-60min</th>\n",
       "      <td>0.000000</td>\n",
       "      <td>0.000000</td>\n",
       "      <td>0.000000</td>\n",
       "    </tr>\n",
       "    <tr>\n",
       "      <th>Census Summary-CommuteTime: 30-45min</th>\n",
       "      <td>0.000000</td>\n",
       "      <td>0.000000</td>\n",
       "      <td>0.000000</td>\n",
       "    </tr>\n",
       "    <tr>\n",
       "      <th>['Census Summary-Occupancy: Own'\\n 'Census Summary-RelationshipStatus: Married-Female'\\n 'Census Summary-RelationshipStatus: Married-Male'\\n 'Homes &amp; Real Estate Data: Owners']</th>\n",
       "      <td>3.414861</td>\n",
       "      <td>0.000000</td>\n",
       "      <td>0.000000</td>\n",
       "    </tr>\n",
       "    <tr>\n",
       "      <th>['Census Summary-AgeDecade: 0s' 'Census Summary-AgeDecade: 10s'\\n 'Census Summary-Household: WithKids' 'People Data: Average Household Size'\\n 'People Data: Homes With Kids']</th>\n",
       "      <td>2.598752</td>\n",
       "      <td>0.000000</td>\n",
       "      <td>0.000000</td>\n",
       "    </tr>\n",
       "    <tr>\n",
       "      <th>Census Summary-CommuteTime: 10-20min</th>\n",
       "      <td>0.000000</td>\n",
       "      <td>0.000000</td>\n",
       "      <td>0.000000</td>\n",
       "    </tr>\n",
       "    <tr>\n",
       "      <th>Census Summary-AgeDecade: 30s</th>\n",
       "      <td>-0.445494</td>\n",
       "      <td>0.000000</td>\n",
       "      <td>0.000000</td>\n",
       "    </tr>\n",
       "    <tr>\n",
       "      <th>['Census Summary-AgeDecade: 20s'\\n 'Census Summary-RelationshipStatus: Single-Female'\\n 'People Data: Single Females']</th>\n",
       "      <td>-1.383182</td>\n",
       "      <td>0.000000</td>\n",
       "      <td>0.000000</td>\n",
       "    </tr>\n",
       "    <tr>\n",
       "      <th>Census Summary-CommuteTime: &lt;10min</th>\n",
       "      <td>0.000000</td>\n",
       "      <td>0.000000</td>\n",
       "      <td>0.000000</td>\n",
       "    </tr>\n",
       "    <tr>\n",
       "      <th>Census Summary-RelationshipStatus: Divorced-Male</th>\n",
       "      <td>0.000000</td>\n",
       "      <td>0.000000</td>\n",
       "      <td>0.000000</td>\n",
       "    </tr>\n",
       "    <tr>\n",
       "      <th>['Census Summary-Occupancy: Rent'\\n 'Census Summary-RelationshipStatus: Single-Male'\\n 'Homes &amp; Real Estate Data: Renters' 'People Data: Single Males']</th>\n",
       "      <td>-3.219274</td>\n",
       "      <td>0.000000</td>\n",
       "      <td>0.000000</td>\n",
       "    </tr>\n",
       "    <tr>\n",
       "      <th>['Census Summary-Household: NoKids' 'Homes &amp; Real Estate Data: Condos']</th>\n",
       "      <td>-3.151408</td>\n",
       "      <td>0.000000</td>\n",
       "      <td>0.000000</td>\n",
       "    </tr>\n",
       "    <tr>\n",
       "      <th>Homes &amp; Real Estate Data: Avg Year Built</th>\n",
       "      <td>0.000000</td>\n",
       "      <td>0.000000</td>\n",
       "      <td>0.000000</td>\n",
       "    </tr>\n",
       "    <tr>\n",
       "      <th>Homes &amp; Real Estate Data: Single-Family Homes</th>\n",
       "      <td>2.037146</td>\n",
       "      <td>0.000000</td>\n",
       "      <td>0.000000</td>\n",
       "    </tr>\n",
       "    <tr>\n",
       "      <th>Census Summary-AgeDecade: 40s</th>\n",
       "      <td>0.000000</td>\n",
       "      <td>0.000000</td>\n",
       "      <td>0.000000</td>\n",
       "    </tr>\n",
       "    <tr>\n",
       "      <th>Census Summary-CommuteTime: &gt;=60min</th>\n",
       "      <td>0.000000</td>\n",
       "      <td>2.298786</td>\n",
       "      <td>0.000000</td>\n",
       "    </tr>\n",
       "  </tbody>\n",
       "</table>\n",
       "</div>"
      ],
      "text/plain": [
       "                                                           1         2  \\\n",
       "['Affordability Data: Median 3-Bedroom Home Val...  0.000000 -2.931623   \n",
       "Affordability Data: Median 2-Bedroom Home Value     0.000000 -2.527509   \n",
       "Affordability Data: Property Tax                    0.000000 -1.103234   \n",
       "Census Summary-AgeDecade: 50s                       0.000000 -0.959363   \n",
       "Affordability Data: Median List Price Per Sq Ft     0.000000  0.000000   \n",
       "Census Summary-CommuteTime: 20-30min                0.000000  0.000000   \n",
       "Census Summary-RelationshipStatus: Widowed-Male     0.000000  0.000000   \n",
       "Census Summary-RelationshipStatus: Widowed-Female   0.000000  0.000000   \n",
       "Census Summary-AgeDecade: 60s                       0.000000  0.000000   \n",
       "['Census Summary-AgeDecade: >=70s' 'People Data...  0.000000  0.000000   \n",
       "Census Summary-CommuteTime: 45-60min                0.000000  0.000000   \n",
       "Census Summary-CommuteTime: 30-45min                0.000000  0.000000   \n",
       "['Census Summary-Occupancy: Own'\\n 'Census Summ...  3.414861  0.000000   \n",
       "['Census Summary-AgeDecade: 0s' 'Census Summary...  2.598752  0.000000   \n",
       "Census Summary-CommuteTime: 10-20min                0.000000  0.000000   \n",
       "Census Summary-AgeDecade: 30s                      -0.445494  0.000000   \n",
       "['Census Summary-AgeDecade: 20s'\\n 'Census Summ... -1.383182  0.000000   \n",
       "Census Summary-CommuteTime: <10min                  0.000000  0.000000   \n",
       "Census Summary-RelationshipStatus: Divorced-Male    0.000000  0.000000   \n",
       "['Census Summary-Occupancy: Rent'\\n 'Census Sum... -3.219274  0.000000   \n",
       "['Census Summary-Household: NoKids' 'Homes & Re... -3.151408  0.000000   \n",
       "Homes & Real Estate Data: Avg Year Built            0.000000  0.000000   \n",
       "Homes & Real Estate Data: Single-Family Homes       2.037146  0.000000   \n",
       "Census Summary-AgeDecade: 40s                       0.000000  0.000000   \n",
       "Census Summary-CommuteTime: >=60min                 0.000000  2.298786   \n",
       "\n",
       "                                                           3  \n",
       "['Affordability Data: Median 3-Bedroom Home Val...  0.000000  \n",
       "Affordability Data: Median 2-Bedroom Home Value     0.000000  \n",
       "Affordability Data: Property Tax                    0.000000  \n",
       "Census Summary-AgeDecade: 50s                       0.000000  \n",
       "Affordability Data: Median List Price Per Sq Ft     0.000000  \n",
       "Census Summary-CommuteTime: 20-30min                0.000000  \n",
       "Census Summary-RelationshipStatus: Widowed-Male     1.637720  \n",
       "Census Summary-RelationshipStatus: Widowed-Female   2.335639  \n",
       "Census Summary-AgeDecade: 60s                       1.391821  \n",
       "['Census Summary-AgeDecade: >=70s' 'People Data...  3.349607  \n",
       "Census Summary-CommuteTime: 45-60min                0.000000  \n",
       "Census Summary-CommuteTime: 30-45min                0.000000  \n",
       "['Census Summary-Occupancy: Own'\\n 'Census Summ...  0.000000  \n",
       "['Census Summary-AgeDecade: 0s' 'Census Summary...  0.000000  \n",
       "Census Summary-CommuteTime: 10-20min                0.000000  \n",
       "Census Summary-AgeDecade: 30s                       0.000000  \n",
       "['Census Summary-AgeDecade: 20s'\\n 'Census Summ...  0.000000  \n",
       "Census Summary-CommuteTime: <10min                  0.000000  \n",
       "Census Summary-RelationshipStatus: Divorced-Male    0.000000  \n",
       "['Census Summary-Occupancy: Rent'\\n 'Census Sum...  0.000000  \n",
       "['Census Summary-Household: NoKids' 'Homes & Re...  0.000000  \n",
       "Homes & Real Estate Data: Avg Year Built            0.000000  \n",
       "Homes & Real Estate Data: Single-Family Homes       0.000000  \n",
       "Census Summary-AgeDecade: 40s                       0.000000  \n",
       "Census Summary-CommuteTime: >=60min                 0.000000  "
      ]
     },
     "execution_count": 59,
     "metadata": {},
     "output_type": "execute_result"
    }
   ],
   "source": [
    "df_cz.sort(2,ascending = True)"
   ]
  },
  {
   "cell_type": "code",
   "execution_count": 60,
   "metadata": {
    "collapsed": false
   },
   "outputs": [
    {
     "data": {
      "image/png": "[encoded data removed]",
      "text/plain": [
       "<matplotlib.figure.Figure at 0x10b677310>"
      ]
     },
     "metadata": {},
     "output_type": "display_data"
    }
   ],
   "source": [
    "rf_z.plot_embedding()"
   ]
  },
  {
   "cell_type": "code",
   "execution_count": 63,
   "metadata": {
    "collapsed": false
   },
   "outputs": [],
   "source": [
    "df_zf = pd.DataFrame(rf_z.X, index = names).reset_index()\n",
    "df_zf.columns = ['hood','family vs single','expensiveness', 'Age']\n",
    "df_zf.to_csv('zillow_pca_data.csv', index = False)"
   ]
  },
  {
   "cell_type": "code",
   "execution_count": 64,
   "metadata": {
    "collapsed": false
   },
   "outputs": [
    {
     "data": {
      "text/plain": [
       "78"
      ]
     },
     "execution_count": 64,
     "metadata": {},
     "output_type": "execute_result"
    }
   ],
   "source": []
  },
  {
   "cell_type": "code",
   "execution_count": null,
   "metadata": {
    "collapsed": true
   },
   "outputs": [],
   "source": []
  }
 ],
 "metadata": {
  "kernelspec": {
   "display_name": "Python 2",
   "language": "python",
   "name": "python2"
  },
  "language_info": {
   "codemirror_mode": {
    "name": "ipython",
    "version": 2
   },
   "file_extension": ".py",
   "mimetype": "text/x-python",
   "name": "python",
   "nbconvert_exporter": "python",
   "pygments_lexer": "ipython2",
   "version": "2.7.10"
  }
 },
 "nbformat": 4,
 "nbformat_minor": 0
}
