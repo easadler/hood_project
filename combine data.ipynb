{
 "cells": [
  {
   "cell_type": "code",
   "execution_count": 96,
   "metadata": {
    "collapsed": true
   },
   "outputs": [],
   "source": [
    "import numpy as np\n",
    "import pandas as pd\n",
    "import matplotlib.pyplot as plt\n",
    "import ast\n",
    "import re\n",
    "\n",
    "from sklearn.decomposition import PCA, SparsePCA,TruncatedSVD\n",
    "from sklearn import preprocessing\n",
    "from sklearn.cluster import KMeans\n",
    "from mpl_toolkits.mplot3d import Axes3D\n",
    "from sklearn.metrics import silhouette_samples, silhouette_score\n",
    "from pymongo import MongoClient\n",
    "import re\n",
    "\n",
    "from scipy.spatial.distance import pdist, squareform\n",
    "import matplotlib.pyplot as plt\n",
    "from scipy.cluster.hierarchy import linkage, dendrogram, fcluster\n",
    "\n",
    "\n",
    "%matplotlib inline"
   ]
  },
  {
   "cell_type": "code",
   "execution_count": 114,
   "metadata": {
    "collapsed": false
   },
   "outputs": [],
   "source": [
    "df_c = pd.read_csv('crime_pca_data.csv')"
   ]
  },
  {
   "cell_type": "code",
   "execution_count": 4,
   "metadata": {
    "collapsed": false
   },
   "outputs": [
    {
     "name": "stdout",
     "output_type": "stream",
     "text": [
      "/Users/evansadler/Desktop/Project Files/Dimension Reduction\n"
     ]
    }
   ],
   "source": [
    "cd Dimension\\ Reduction"
   ]
  },
  {
   "cell_type": "code",
   "execution_count": 115,
   "metadata": {
    "collapsed": true
   },
   "outputs": [],
   "source": [
    "df_z = pd.read_csv('zillow_pca_data.csv')"
   ]
  },
  {
   "cell_type": "code",
   "execution_count": 116,
   "metadata": {
    "collapsed": false
   },
   "outputs": [],
   "source": [
    "df_f = df_c.merge(df_z, on='hood')"
   ]
  },
  {
   "cell_type": "code",
   "execution_count": 117,
   "metadata": {
    "collapsed": false
   },
   "outputs": [],
   "source": [
    "city = 'Seattle'\n",
    "state = 'WA'\n",
    "client = MongoClient()\n",
    "db = client['neighborhood_recommender']\n",
    "collection = db['hood_data' + '_' + city + '_' + state]\n",
    "\n",
    "hood_zillow = [hood for hood in collection.find()]\n",
    "df_zo = pd.DataFrame(hood_zillow, dtype = np.float64)\n",
    "names = df_zo['name'].values\n",
    "df_zo = df_zo[['id', 'name']]\n",
    "df_zo.columns = ['id', 'hood']"
   ]
  },
  {
   "cell_type": "code",
   "execution_count": 118,
   "metadata": {
    "collapsed": false
   },
   "outputs": [],
   "source": [
    "df_f = df_f.merge(df_zo, on='hood')"
   ]
  },
  {
   "cell_type": "code",
   "execution_count": 29,
   "metadata": {
    "collapsed": false
   },
   "outputs": [],
   "source": [
    "from combine_data import CombineData"
   ]
  },
  {
   "cell_type": "code",
   "execution_count": null,
   "metadata": {
    "collapsed": true
   },
   "outputs": [],
   "source": [
    "cb = CombineData('Seattle', 'WA')\n",
    "cb.load_data_and_engineer_features()"
   ]
  },
  {
   "cell_type": "code",
   "execution_count": 119,
   "metadata": {
    "collapsed": false
   },
   "outputs": [],
   "source": [
    "df_y = pd.read_csv('yelp_pca_data.csv')"
   ]
  },
  {
   "cell_type": "code",
   "execution_count": null,
   "metadata": {
    "collapsed": false
   },
   "outputs": [],
   "source": []
  },
  {
   "cell_type": "code",
   "execution_count": 120,
   "metadata": {
    "collapsed": false
   },
   "outputs": [],
   "source": [
    "df_y.rename(columns = {'hood_id': 'id'}, inplace = True)"
   ]
  },
  {
   "cell_type": "code",
   "execution_count": 121,
   "metadata": {
    "collapsed": false
   },
   "outputs": [],
   "source": [
    "\n",
    "df_f = df_f.merge(df_y, on = 'id')"
   ]
  },
  {
   "cell_type": "code",
   "execution_count": 122,
   "metadata": {
    "collapsed": false
   },
   "outputs": [],
   "source": [
    "w = WalkscoreFeatures('Seattle', 'WA')\n",
    "df_ws = w.engineer_features()\n",
    "df_ws['id'] = df_ws['id'].astype(int)"
   ]
  },
  {
   "cell_type": "code",
   "execution_count": 44,
   "metadata": {
    "collapsed": false
   },
   "outputs": [],
   "source": [
    "from walkscore_features import WalkscoreFeatures"
   ]
  },
  {
   "cell_type": "code",
   "execution_count": null,
   "metadata": {
    "collapsed": false
   },
   "outputs": [],
   "source": []
  },
  {
   "cell_type": "code",
   "execution_count": 124,
   "metadata": {
    "collapsed": false
   },
   "outputs": [],
   "source": [
    "df_f = df_ws.merge(df_f, on ='id')"
   ]
  },
  {
   "cell_type": "code",
   "execution_count": 79,
   "metadata": {
    "collapsed": true
   },
   "outputs": [],
   "source": [
    "names = df_f['hood']\n",
    "df_f.drop('id', axis = 1, inplace = True)"
   ]
  },
  {
   "cell_type": "code",
   "execution_count": 65,
   "metadata": {
    "collapsed": false
   },
   "outputs": [],
   "source": [
    "from pca_class import ReduceFeatures"
   ]
  },
  {
   "cell_type": "code",
   "execution_count": 88,
   "metadata": {
    "collapsed": false
   },
   "outputs": [
    {
     "name": "stdout",
     "output_type": "stream",
     "text": [
      "For n_clusters = 3 The average silhouette_score is : 0.285476657747\n",
      "For n_clusters = 4 The average silhouette_score is : 0.270739924881\n",
      "For n_clusters = 5 The average silhouette_score is : 0.286060148861\n",
      "For n_clusters = 6 The average silhouette_score is : 0.280979887418\n",
      "For n_clusters = 7 The average silhouette_score is : 0.271517841639\n",
      "For n_clusters = 8 The average silhouette_score is : 0.259430615592\n",
      "For n_clusters = 9 The average silhouette_score is : 0.283117971254\n",
      "For n_clusters = 10 The average silhouette_score is : 0.269825435618\n"
     ]
    }
   ],
   "source": [
    "rf = ReduceFeatures(df_f, names)\n",
    "rf.preprocessing(0)\n",
    "#rf.hcluster_cols(0.3)\n",
    "#rf.preprocessing(0)\n",
    "df_c = rf.sparse_pca(n_components = 5, alpha = 1)\n",
    "rf.best_cluster()"
   ]
  },
  {
   "cell_type": "code",
   "execution_count": 92,
   "metadata": {
    "collapsed": false
   },
   "outputs": [
    {
     "data": {
      "text/html": [
       "<div>\n",
       "<table border=\"1\" class=\"dataframe\">\n",
       "  <thead>\n",
       "    <tr style=\"text-align: right;\">\n",
       "      <th></th>\n",
       "      <th>1</th>\n",
       "      <th>2</th>\n",
       "      <th>3</th>\n",
       "    </tr>\n",
       "  </thead>\n",
       "  <tbody>\n",
       "    <tr>\n",
       "      <th>transit_score</th>\n",
       "      <td>-6.590399</td>\n",
       "      <td>0.000000</td>\n",
       "      <td>0.000000</td>\n",
       "    </tr>\n",
       "    <tr>\n",
       "      <th>walkscore</th>\n",
       "      <td>-6.231634</td>\n",
       "      <td>0.000000</td>\n",
       "      <td>0.283360</td>\n",
       "    </tr>\n",
       "    <tr>\n",
       "      <th>crime</th>\n",
       "      <td>5.893753</td>\n",
       "      <td>0.000000</td>\n",
       "      <td>0.000000</td>\n",
       "    </tr>\n",
       "    <tr>\n",
       "      <th>serious crime</th>\n",
       "      <td>0.000000</td>\n",
       "      <td>-2.542314</td>\n",
       "      <td>-3.561765</td>\n",
       "    </tr>\n",
       "    <tr>\n",
       "      <th>prostitution</th>\n",
       "      <td>-3.870505</td>\n",
       "      <td>-3.160507</td>\n",
       "      <td>0.000000</td>\n",
       "    </tr>\n",
       "    <tr>\n",
       "      <th>family vs single</th>\n",
       "      <td>6.271583</td>\n",
       "      <td>0.000000</td>\n",
       "      <td>0.000000</td>\n",
       "    </tr>\n",
       "    <tr>\n",
       "      <th>expensiveness</th>\n",
       "      <td>0.000000</td>\n",
       "      <td>6.818006</td>\n",
       "      <td>0.000000</td>\n",
       "    </tr>\n",
       "    <tr>\n",
       "      <th>Age</th>\n",
       "      <td>0.000000</td>\n",
       "      <td>0.000000</td>\n",
       "      <td>-6.842315</td>\n",
       "    </tr>\n",
       "  </tbody>\n",
       "</table>\n",
       "</div>"
      ],
      "text/plain": [
       "                         1         2         3\n",
       "transit_score    -6.590399  0.000000  0.000000\n",
       "walkscore        -6.231634  0.000000  0.283360\n",
       "crime             5.893753  0.000000  0.000000\n",
       "serious crime     0.000000 -2.542314 -3.561765\n",
       "prostitution     -3.870505 -3.160507  0.000000\n",
       "family vs single  6.271583  0.000000  0.000000\n",
       "expensiveness     0.000000  6.818006  0.000000\n",
       "Age               0.000000  0.000000 -6.842315"
      ]
     },
     "execution_count": 92,
     "metadata": {},
     "output_type": "execute_result"
    }
   ],
   "source": [
    "df_c"
   ]
  },
  {
   "cell_type": "code",
   "execution_count": 125,
   "metadata": {
    "collapsed": false
   },
   "outputs": [],
   "source": [
    "df_f.to_csv('final_1.csv', index = False)"
   ]
  },
  {
   "cell_type": "code",
   "execution_count": 113,
   "metadata": {
    "collapsed": false
   },
   "outputs": [
    {
     "data": {
      "text/html": [
       "<div>\n",
       "<table border=\"1\" class=\"dataframe\">\n",
       "  <thead>\n",
       "    <tr style=\"text-align: right;\">\n",
       "      <th></th>\n",
       "      <th>id</th>\n",
       "      <th>transit_score</th>\n",
       "      <th>walkscore</th>\n",
       "      <th>hood</th>\n",
       "      <th>crime</th>\n",
       "      <th>serious crime</th>\n",
       "      <th>prostitution</th>\n",
       "      <th>family vs single</th>\n",
       "      <th>expensiveness</th>\n",
       "      <th>Age</th>\n",
       "      <th>active</th>\n",
       "      <th>arts</th>\n",
       "      <th>nightlife</th>\n",
       "      <th>restaurants</th>\n",
       "      <th>shopping</th>\n",
       "    </tr>\n",
       "  </thead>\n",
       "  <tbody>\n",
       "  </tbody>\n",
       "</table>\n",
       "</div>"
      ],
      "text/plain": [
       "Empty DataFrame\n",
       "Columns: [id, transit_score, walkscore, hood, crime, serious crime, prostitution, family vs single, expensiveness, Age, active, arts, nightlife, restaurants, shopping]\n",
       "Index: []"
      ]
     },
     "execution_count": 113,
     "metadata": {},
     "output_type": "execute_result"
    }
   ],
   "source": [
    "df_f"
   ]
  },
  {
   "cell_type": "code",
   "execution_count": 127,
   "metadata": {
    "collapsed": false
   },
   "outputs": [
    {
     "data": {
      "text/html": [
       "<div>\n",
       "<table border=\"1\" class=\"dataframe\">\n",
       "  <thead>\n",
       "    <tr style=\"text-align: right;\">\n",
       "      <th></th>\n",
       "      <th>id</th>\n",
       "      <th>transit_score</th>\n",
       "      <th>walkscore</th>\n",
       "      <th>hood</th>\n",
       "      <th>crime</th>\n",
       "      <th>serious crime</th>\n",
       "      <th>prostitution</th>\n",
       "      <th>family vs single</th>\n",
       "      <th>expensiveness</th>\n",
       "      <th>Age</th>\n",
       "      <th>active</th>\n",
       "      <th>arts</th>\n",
       "      <th>nightlife</th>\n",
       "      <th>restaurants</th>\n",
       "      <th>shopping</th>\n",
       "    </tr>\n",
       "  </thead>\n",
       "  <tbody>\n",
       "    <tr>\n",
       "      <th>1</th>\n",
       "      <td>250050</td>\n",
       "      <td>53.96</td>\n",
       "      <td>61.32</td>\n",
       "      <td>Beacon Hill</td>\n",
       "      <td>-0.080443</td>\n",
       "      <td>0.009634</td>\n",
       "      <td>0.519038</td>\n",
       "      <td>0.113373</td>\n",
       "      <td>-0.115577</td>\n",
       "      <td>0.066851</td>\n",
       "      <td>75</td>\n",
       "      <td>47</td>\n",
       "      <td>32</td>\n",
       "      <td>179</td>\n",
       "      <td>170</td>\n",
       "    </tr>\n",
       "  </tbody>\n",
       "</table>\n",
       "</div>"
      ],
      "text/plain": [
       "       id  transit_score  walkscore         hood     crime  serious crime  \\\n",
       "1  250050          53.96      61.32  Beacon Hill -0.080443       0.009634   \n",
       "\n",
       "   prostitution  family vs single  expensiveness       Age  active  arts  \\\n",
       "1      0.519038          0.113373      -0.115577  0.066851      75    47   \n",
       "\n",
       "   nightlife  restaurants  shopping  \n",
       "1         32          179       170  "
      ]
     },
     "execution_count": 127,
     "metadata": {},
     "output_type": "execute_result"
    }
   ],
   "source": [
    "df_f.ix[df_f['hood'] == 'Beacon Hill', :]"
   ]
  },
  {
   "cell_type": "code",
   "execution_count": null,
   "metadata": {
    "collapsed": true
   },
   "outputs": [],
   "source": []
  }
 ],
 "metadata": {
  "kernelspec": {
   "display_name": "Python 2",
   "language": "python",
   "name": "python2"
  },
  "language_info": {
   "codemirror_mode": {
    "name": "ipython",
    "version": 2
   },
   "file_extension": ".py",
   "mimetype": "text/x-python",
   "name": "python",
   "nbconvert_exporter": "python",
   "pygments_lexer": "ipython2",
   "version": "2.7.10"
  }
 },
 "nbformat": 4,
 "nbformat_minor": 0
}
