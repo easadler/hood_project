{
 "cells": [
  {
   "cell_type": "code",
   "execution_count": 1,
   "metadata": {
    "collapsed": false
   },
   "outputs": [],
   "source": [
    "from greatschools_class import GreatSchools"
   ]
  },
  {
   "cell_type": "code",
   "execution_count": 2,
   "metadata": {
    "collapsed": true
   },
   "outputs": [],
   "source": [
    "gs = GreatSchools('Seattle', 'WA')"
   ]
  },
  {
   "cell_type": "code",
   "execution_count": 3,
   "metadata": {
    "collapsed": false
   },
   "outputs": [],
   "source": [
    "gs.get_data()"
   ]
  },
  {
   "cell_type": "code",
   "execution_count": 4,
   "metadata": {
    "collapsed": false
   },
   "outputs": [],
   "source": [
    "gs.add_hood()"
   ]
  },
  {
   "cell_type": "code",
   "execution_count": 7,
   "metadata": {
    "collapsed": false
   },
   "outputs": [],
   "source": [
    "d = [school for school in gs.gs_collection.find()]"
   ]
  },
  {
   "cell_type": "code",
   "execution_count": 19,
   "metadata": {
    "collapsed": false
   },
   "outputs": [
    {
     "name": "stdout",
     "output_type": "stream",
     "text": [
      "Evening School (Marshall) NA\n",
      "Ballard High School 9\n",
      "Nathan Hale High School 9\n",
      "Roosevelt High School 9\n",
      "Cleveland High School 7\n",
      "Franklin High School 7\n",
      "West Seattle High School 7\n",
      "The Center School 7\n",
      "Garfield High School 6\n",
      "Ingraham High School 6\n",
      "Rainier Beach High School 4\n",
      "Health Sciences & Human Services 4\n",
      "Technology Engineering & Communications 4\n",
      "Arts & Academics Academy 2\n",
      "Career Link 2\n",
      "New Start 1\n",
      "Black River High School NA\n",
      "Nova High School NA\n",
      "South Lake High School NA\n",
      "Middle College High School NA\n"
     ]
    }
   ],
   "source": [
    "for x in d:\n",
    "    if x['type'] == 'public' and x['gradeRange'] == '9-12':\n",
    "        print x['name'], x['gsRating']"
   ]
  },
  {
   "cell_type": "code",
   "execution_count": null,
   "metadata": {
    "collapsed": true
   },
   "outputs": [],
   "source": []
  }
 ],
 "metadata": {
  "kernelspec": {
   "display_name": "Python 2",
   "language": "python",
   "name": "python2"
  },
  "language_info": {
   "codemirror_mode": {
    "name": "ipython",
    "version": 2
   },
   "file_extension": ".py",
   "mimetype": "text/x-python",
   "name": "python",
   "nbconvert_exporter": "python",
   "pygments_lexer": "ipython2",
   "version": "2.7.10"
  }
 },
 "nbformat": 4,
 "nbformat_minor": 0
}
