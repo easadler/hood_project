{
 "cells": [
  {
   "cell_type": "code",
   "execution_count": 1,
   "metadata": {
    "collapsed": true
   },
   "outputs": [],
   "source": [
    "from greatschools_class import GreatSchools"
   ]
  },
  {
   "cell_type": "code",
   "execution_count": 2,
   "metadata": {
    "collapsed": true
   },
   "outputs": [],
   "source": [
    "gs = GreatSchools('Seattle', 'WA')"
   ]
  },
  {
   "cell_type": "code",
   "execution_count": 3,
   "metadata": {
    "collapsed": false
   },
   "outputs": [],
   "source": [
    "data = gs.get_data()"
   ]
  },
  {
   "cell_type": "code",
   "execution_count": 5,
   "metadata": {
    "collapsed": false
   },
   "outputs": [],
   "source": [
    "from bs4 import BeautifulSoup"
   ]
  },
  {
   "cell_type": "code",
   "execution_count": 13,
   "metadata": {
    "collapsed": false
   },
   "outputs": [],
   "source": [
    "soup = BeautifulSoup(data, 'xml')"
   ]
  },
  {
   "cell_type": "code",
   "execution_count": 21,
   "metadata": {
    "collapsed": false
   },
   "outputs": [
    {
     "name": "stdout",
     "output_type": "stream",
     "text": [
      "Bryant Elementary School 10 4 47.671703 -122.292046\n",
      "Coe Elementary School 10 5 47.640797 -122.36566\n",
      "Hamilton International Middle School 10 3 47.656845 -122.3378\n",
      "Hay Elementary School 10 4 47.632927 -122.35222\n",
      "John Stanford International Elementary School 10 4 47.65709 -122.32387\n",
      "Laurelhurst Elementary School 10 4 47.66219 -122.27784\n",
      "Lawton Elementary School 10 4 47.657097 -122.390495\n",
      "Loyal Heights Elementary School 10 5 47.686466 -122.38929\n",
      "Montlake Elementary School 10 4 47.640644 -122.30425\n",
      "North Beach Elementary School 10 4 47.69481 -122.387115\n"
     ]
    }
   ],
   "source": [
    "for school in soup.findAll('school'):\n",
    "    name = school.find('name').text\n",
    "    gsRating = school.find('gsRating').text\n",
    "    parRating = school.find('parentRating').text\n",
    "    latitude = school.find('lat').text\n",
    "    longitude = school.find('lon').text\n",
    "    row = {'name': name, 'gsRating': gsRating, 'parRating': parRating, 'latitude': latitude, 'longitude': longitude}\n",
    "    self.gs_collection.insert(row)"
   ]
  },
  {
   "cell_type": "code",
   "execution_count": null,
   "metadata": {
    "collapsed": true
   },
   "outputs": [],
   "source": []
  }
 ],
 "metadata": {
  "kernelspec": {
   "display_name": "Python 2",
   "language": "python",
   "name": "python2"
  },
  "language_info": {
   "codemirror_mode": {
    "name": "ipython",
    "version": 2
   },
   "file_extension": ".py",
   "mimetype": "text/x-python",
   "name": "python",
   "nbconvert_exporter": "python",
   "pygments_lexer": "ipython2",
   "version": "2.7.10"
  }
 },
 "nbformat": 4,
 "nbformat_minor": 0
}
