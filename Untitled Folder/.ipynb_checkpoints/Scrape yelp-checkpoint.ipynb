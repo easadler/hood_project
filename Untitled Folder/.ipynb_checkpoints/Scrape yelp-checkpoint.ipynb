{
 "cells": [
  {
   "cell_type": "code",
   "execution_count": 1,
   "metadata": {
    "collapsed": false
   },
   "outputs": [],
   "source": [
    "import pandas as pd \n",
    "import numpy as np\n",
    "from bs4 import BeautifulSoup\n",
    "import requests\n",
    "from pymongo import MongoClient\n",
    "import socks\n",
    "import socket\n",
    "import nose\n",
    "from fake_useragent import UserAgent\n",
    "import time\n",
    "from numpy.random import poisson"
   ]
  },
  {
   "cell_type": "code",
   "execution_count": 2,
   "metadata": {
    "collapsed": false
   },
   "outputs": [],
   "source": [
    "# get names of neighborhoods\n",
    "df_o = pd.read_csv('final_1.csv')\n",
    "hoods = df_o['hood'].values\n",
    "ids = df_o['id'].values\n",
    "categories = ['nightlife', 'arts', 'active','restaurants', 'shopping']\n",
    "prices = ['1','2','3','4']\n",
    "# from scrape_yelp import ScrapeYelp\n",
    "# sy = ScrapeYelp(hoods, ids, categories, prices)\n",
    "# sy.scrape_GS()"
   ]
  },
  {
   "cell_type": "code",
   "execution_count": 11,
   "metadata": {
    "collapsed": true
   },
   "outputs": [],
   "source": [
    "client = MongoClient('localhost', 27017)\n",
    "db = client['hood_app']\n",
    "collection = db['yelp_scrape']"
   ]
  },
  {
   "cell_type": "code",
   "execution_count": 29,
   "metadata": {
    "collapsed": false
   },
   "outputs": [],
   "source": [
    "data = [c for c in collection.find({})]\n",
    "df = pd.DataFrame(data)\n",
    "    "
   ]
  },
  {
   "cell_type": "code",
   "execution_count": 5,
   "metadata": {
    "collapsed": false
   },
   "outputs": [],
   "source": [
    "names = df.ix[(df['pages'] != 0) & (df['price'] == '2') & (df['category'] == 'restaurants'),:].groupby(['hood']).count().index"
   ]
  },
  {
   "cell_type": "code",
   "execution_count": 6,
   "metadata": {
    "collapsed": false
   },
   "outputs": [],
   "source": [
    "new_names = []\n",
    "new_ids = []\n",
    "set_hood = set(names)\n",
    "for name, idd in zip(hoods, ids):\n",
    "    if name not in set_hood:\n",
    "        new_names.append(name)\n",
    "        new_ids.append(idd)\n"
   ]
  },
  {
   "cell_type": "code",
   "execution_count": 4,
   "metadata": {
    "collapsed": false
   },
   "outputs": [],
   "source": [
    "from scrape_yelp import ScrapeYelp\n"
   ]
  },
  {
   "cell_type": "code",
   "execution_count": null,
   "metadata": {
    "collapsed": false
   },
   "outputs": [],
   "source": [
    "sy = ScrapeYelp(hoods, ids, categories, prices)\n",
    "sy.scrape_GS()"
   ]
  },
  {
   "cell_type": "code",
   "execution_count": 30,
   "metadata": {
    "collapsed": false
   },
   "outputs": [],
   "source": [
    "df.drop('_id', axis = 1, inplace = True)\n",
    "df = df.drop_duplicates()"
   ]
  },
  {
   "cell_type": "code",
   "execution_count": 34,
   "metadata": {
    "collapsed": false
   },
   "outputs": [],
   "source": [
    "df['pages'] = df['pages'].astype(float)"
   ]
  },
  {
   "cell_type": "code",
   "execution_count": 35,
   "metadata": {
    "collapsed": false
   },
   "outputs": [],
   "source": [
    "df_g = pd.DataFrame(df.groupby(['hood', 'category', 'price']).sum()).reset_index()"
   ]
  },
  {
   "cell_type": "code",
   "execution_count": 36,
   "metadata": {
    "collapsed": true
   },
   "outputs": [],
   "source": [
    "df_g['col'] = df_g['category'] + '_' + df_g['price']"
   ]
  },
  {
   "cell_type": "code",
   "execution_count": 83,
   "metadata": {
    "collapsed": false
   },
   "outputs": [],
   "source": [
    "df_piv = df_g.pivot(index = 'hood', columns = 'col', values = 'pages')"
   ]
  },
  {
   "cell_type": "code",
   "execution_count": 19,
   "metadata": {
    "collapsed": false
   },
   "outputs": [
    {
     "name": "stdout",
     "output_type": "stream",
     "text": [
      "/Users/evansadler/Desktop/Project Files\n"
     ]
    }
   ],
   "source": [
    "cd .."
   ]
  },
  {
   "cell_type": "code",
   "execution_count": 20,
   "metadata": {
    "collapsed": false
   },
   "outputs": [
    {
     "name": "stdout",
     "output_type": "stream",
     "text": [
      "/Users/evansadler/Desktop/Project Files/Dimension Reduction\n"
     ]
    }
   ],
   "source": [
    "cd Dimension\\ Reduction"
   ]
  },
  {
   "cell_type": "code",
   "execution_count": 21,
   "metadata": {
    "collapsed": false
   },
   "outputs": [],
   "source": [
    "from pca_class import ReduceFeatures\n",
    "%matplotlib inline"
   ]
  },
  {
   "cell_type": "code",
   "execution_count": 84,
   "metadata": {
    "collapsed": false
   },
   "outputs": [],
   "source": [
    "for cat in ['active']:\n",
    "    df_piv[cat + '_0'] = df_piv[cat + '_all'] - df_piv[cat + '_4'] -df_piv[cat + '_3'] -df_piv[cat + '_2'] - df_piv[cat + '_1']"
   ]
  },
  {
   "cell_type": "code",
   "execution_count": 135,
   "metadata": {
    "collapsed": false
   },
   "outputs": [],
   "source": [
    "for cat in categories:\n",
    "    df_piv.drop(cat + '_all', axis = 1, inplace = True)\n",
    "\n",
    "df_piv.drop('active_4', axis = 1, inplace = True)\n",
    "df_piv.drop('active_0', axis = 1, inplace = True)\n"
   ]
  },
  {
   "cell_type": "code",
   "execution_count": 139,
   "metadata": {
    "collapsed": false
   },
   "outputs": [
    {
     "name": "stdout",
     "output_type": "stream",
     "text": [
      "For n_clusters = 3 The average silhouette_score is : 0.661594649264\n",
      "For n_clusters = 4 The average silhouette_score is : 0.687174806432\n",
      "For n_clusters = 5 The average silhouette_score is : 0.664945169832\n",
      "For n_clusters = 6 The average silhouette_score is : 0.630541481077\n",
      "For n_clusters = 7 The average silhouette_score is : 0.640084957918\n",
      "For n_clusters = 8 The average silhouette_score is : 0.62251496354\n",
      "For n_clusters = 9 The average silhouette_score is : 0.559429194924\n",
      "For n_clusters = 10 The average silhouette_score is : 0.567654174561\n"
     ]
    }
   ],
   "source": [
    "rf = ReduceFeatures(df_piv, list(df_piv.index))\n",
    "rf.preprocessing(0)\n",
    "rf.hcluster_cols(.1)\n",
    "rf.preprocessing(0)\n",
    "df_sp = rf.sparse_pca(n_components = 3, alpha = 4)\n",
    "rf.best_cluster()"
   ]
  },
  {
   "cell_type": "code",
   "execution_count": 142,
   "metadata": {
    "collapsed": false
   },
   "outputs": [
    {
     "data": {
      "text/html": [
       "<div>\n",
       "<table border=\"1\" class=\"dataframe\">\n",
       "  <thead>\n",
       "    <tr style=\"text-align: right;\">\n",
       "      <th></th>\n",
       "      <th>1</th>\n",
       "      <th>2</th>\n",
       "      <th>3</th>\n",
       "    </tr>\n",
       "  </thead>\n",
       "  <tbody>\n",
       "    <tr>\n",
       "      <th>shopping_4</th>\n",
       "      <td>0.000000</td>\n",
       "      <td>4.627373</td>\n",
       "      <td>0.000000</td>\n",
       "    </tr>\n",
       "    <tr>\n",
       "      <th>nightlife_3</th>\n",
       "      <td>0.000000</td>\n",
       "      <td>4.455515</td>\n",
       "      <td>0.000000</td>\n",
       "    </tr>\n",
       "    <tr>\n",
       "      <th>arts_3</th>\n",
       "      <td>0.000000</td>\n",
       "      <td>4.163162</td>\n",
       "      <td>0.000000</td>\n",
       "    </tr>\n",
       "    <tr>\n",
       "      <th>restaurants_3</th>\n",
       "      <td>0.000000</td>\n",
       "      <td>3.618226</td>\n",
       "      <td>0.000000</td>\n",
       "    </tr>\n",
       "    <tr>\n",
       "      <th>arts_4</th>\n",
       "      <td>0.000000</td>\n",
       "      <td>3.300883</td>\n",
       "      <td>0.000000</td>\n",
       "    </tr>\n",
       "    <tr>\n",
       "      <th>nightlife_4</th>\n",
       "      <td>0.000000</td>\n",
       "      <td>2.790768</td>\n",
       "      <td>0.000000</td>\n",
       "    </tr>\n",
       "    <tr>\n",
       "      <th>restaurants_4</th>\n",
       "      <td>-0.884845</td>\n",
       "      <td>2.288929</td>\n",
       "      <td>0.000000</td>\n",
       "    </tr>\n",
       "    <tr>\n",
       "      <th>arts_2</th>\n",
       "      <td>-3.173191</td>\n",
       "      <td>1.389736</td>\n",
       "      <td>0.000000</td>\n",
       "    </tr>\n",
       "    <tr>\n",
       "      <th>restaurants_1</th>\n",
       "      <td>-2.823086</td>\n",
       "      <td>0.000000</td>\n",
       "      <td>0.000000</td>\n",
       "    </tr>\n",
       "    <tr>\n",
       "      <th>shopping_1</th>\n",
       "      <td>-4.096632</td>\n",
       "      <td>0.000000</td>\n",
       "      <td>0.000000</td>\n",
       "    </tr>\n",
       "    <tr>\n",
       "      <th>active_3</th>\n",
       "      <td>0.000000</td>\n",
       "      <td>0.000000</td>\n",
       "      <td>-5.273618</td>\n",
       "    </tr>\n",
       "    <tr>\n",
       "      <th>nightlife_2</th>\n",
       "      <td>-4.326684</td>\n",
       "      <td>0.000000</td>\n",
       "      <td>0.000000</td>\n",
       "    </tr>\n",
       "    <tr>\n",
       "      <th>arts_1</th>\n",
       "      <td>-4.123776</td>\n",
       "      <td>0.000000</td>\n",
       "      <td>0.000000</td>\n",
       "    </tr>\n",
       "    <tr>\n",
       "      <th>restaurants_2</th>\n",
       "      <td>-2.419912</td>\n",
       "      <td>0.000000</td>\n",
       "      <td>0.000000</td>\n",
       "    </tr>\n",
       "    <tr>\n",
       "      <th>active_2</th>\n",
       "      <td>-2.314789</td>\n",
       "      <td>0.000000</td>\n",
       "      <td>0.000000</td>\n",
       "    </tr>\n",
       "    <tr>\n",
       "      <th>nightlife_1</th>\n",
       "      <td>-4.400239</td>\n",
       "      <td>0.000000</td>\n",
       "      <td>0.000000</td>\n",
       "    </tr>\n",
       "    <tr>\n",
       "      <th>shopping_3</th>\n",
       "      <td>-3.789425</td>\n",
       "      <td>0.000000</td>\n",
       "      <td>0.000000</td>\n",
       "    </tr>\n",
       "    <tr>\n",
       "      <th>shopping_2</th>\n",
       "      <td>-4.507082</td>\n",
       "      <td>0.000000</td>\n",
       "      <td>0.000000</td>\n",
       "    </tr>\n",
       "    <tr>\n",
       "      <th>active_1</th>\n",
       "      <td>0.000000</td>\n",
       "      <td>0.000000</td>\n",
       "      <td>0.000000</td>\n",
       "    </tr>\n",
       "  </tbody>\n",
       "</table>\n",
       "</div>"
      ],
      "text/plain": [
       "                      1         2         3\n",
       "shopping_4     0.000000  4.627373  0.000000\n",
       "nightlife_3    0.000000  4.455515  0.000000\n",
       "arts_3         0.000000  4.163162  0.000000\n",
       "restaurants_3  0.000000  3.618226  0.000000\n",
       "arts_4         0.000000  3.300883  0.000000\n",
       "nightlife_4    0.000000  2.790768  0.000000\n",
       "restaurants_4 -0.884845  2.288929  0.000000\n",
       "arts_2        -3.173191  1.389736  0.000000\n",
       "restaurants_1 -2.823086  0.000000  0.000000\n",
       "shopping_1    -4.096632  0.000000  0.000000\n",
       "active_3       0.000000  0.000000 -5.273618\n",
       "nightlife_2   -4.326684  0.000000  0.000000\n",
       "arts_1        -4.123776  0.000000  0.000000\n",
       "restaurants_2 -2.419912  0.000000  0.000000\n",
       "active_2      -2.314789  0.000000  0.000000\n",
       "nightlife_1   -4.400239  0.000000  0.000000\n",
       "shopping_3    -3.789425  0.000000  0.000000\n",
       "shopping_2    -4.507082  0.000000  0.000000\n",
       "active_1       0.000000  0.000000  0.000000"
      ]
     },
     "execution_count": 142,
     "metadata": {},
     "output_type": "execute_result"
    }
   ],
   "source": [
    "df_sp.sort(, ascending = False)"
   ]
  },
  {
   "cell_type": "code",
   "execution_count": 138,
   "metadata": {
    "collapsed": false
   },
   "outputs": [
    {
     "data": {
      "image/png": "[encoded data removed]",
      "text/plain": [
       "<matplotlib.figure.Figure at 0x1121c7d50>"
      ]
     },
     "metadata": {},
     "output_type": "display_data"
    }
   ],
   "source": [
    "rf.plot_embedding()"
   ]
  },
  {
   "cell_type": "code",
   "execution_count": 118,
   "metadata": {
    "collapsed": false
   },
   "outputs": [
    {
     "data": {
      "text/html": [
       "<div>\n",
       "<table border=\"1\" class=\"dataframe\">\n",
       "  <thead>\n",
       "    <tr style=\"text-align: right;\">\n",
       "      <th>col</th>\n",
       "      <th>active_1</th>\n",
       "      <th>active_2</th>\n",
       "      <th>active_3</th>\n",
       "      <th>active_4</th>\n",
       "      <th>arts_1</th>\n",
       "      <th>arts_2</th>\n",
       "      <th>arts_3</th>\n",
       "      <th>arts_4</th>\n",
       "      <th>nightlife_1</th>\n",
       "      <th>nightlife_2</th>\n",
       "      <th>...</th>\n",
       "      <th>nightlife_4</th>\n",
       "      <th>restaurants_1</th>\n",
       "      <th>restaurants_2</th>\n",
       "      <th>restaurants_3</th>\n",
       "      <th>restaurants_4</th>\n",
       "      <th>shopping_1</th>\n",
       "      <th>shopping_2</th>\n",
       "      <th>shopping_3</th>\n",
       "      <th>shopping_4</th>\n",
       "      <th>active_0</th>\n",
       "    </tr>\n",
       "    <tr>\n",
       "      <th>hood</th>\n",
       "      <th></th>\n",
       "      <th></th>\n",
       "      <th></th>\n",
       "      <th></th>\n",
       "      <th></th>\n",
       "      <th></th>\n",
       "      <th></th>\n",
       "      <th></th>\n",
       "      <th></th>\n",
       "      <th></th>\n",
       "      <th></th>\n",
       "      <th></th>\n",
       "      <th></th>\n",
       "      <th></th>\n",
       "      <th></th>\n",
       "      <th></th>\n",
       "      <th></th>\n",
       "      <th></th>\n",
       "      <th></th>\n",
       "      <th></th>\n",
       "      <th></th>\n",
       "    </tr>\n",
       "  </thead>\n",
       "  <tbody>\n",
       "    <tr>\n",
       "      <th>Ballard</th>\n",
       "      <td>0.1</td>\n",
       "      <td>0.3</td>\n",
       "      <td>0</td>\n",
       "      <td>0.1</td>\n",
       "      <td>0.2</td>\n",
       "      <td>0.8</td>\n",
       "      <td>0.4</td>\n",
       "      <td>0.1</td>\n",
       "      <td>2</td>\n",
       "      <td>5</td>\n",
       "      <td>...</td>\n",
       "      <td>0.1</td>\n",
       "      <td>7</td>\n",
       "      <td>0</td>\n",
       "      <td>0.3</td>\n",
       "      <td>0.1</td>\n",
       "      <td>2</td>\n",
       "      <td>9</td>\n",
       "      <td>3</td>\n",
       "      <td>0.9</td>\n",
       "      <td>0.5</td>\n",
       "    </tr>\n",
       "  </tbody>\n",
       "</table>\n",
       "<p>1 rows × 21 columns</p>\n",
       "</div>"
      ],
      "text/plain": [
       "col      active_1  active_2  active_3  active_4  arts_1  arts_2  arts_3  \\\n",
       "hood                                                                      \n",
       "Ballard       0.1       0.3         0       0.1     0.2     0.8     0.4   \n",
       "\n",
       "col      arts_4  nightlife_1  nightlife_2    ...     nightlife_4  \\\n",
       "hood                                         ...                   \n",
       "Ballard     0.1            2            5    ...             0.1   \n",
       "\n",
       "col      restaurants_1  restaurants_2  restaurants_3  restaurants_4  \\\n",
       "hood                                                                  \n",
       "Ballard              7              0            0.3            0.1   \n",
       "\n",
       "col      shopping_1  shopping_2  shopping_3  shopping_4  active_0  \n",
       "hood                                                               \n",
       "Ballard           2           9           3         0.9       0.5  \n",
       "\n",
       "[1 rows x 21 columns]"
      ]
     },
     "execution_count": 118,
     "metadata": {},
     "output_type": "execute_result"
    }
   ],
   "source": []
  },
  {
   "cell_type": "code",
   "execution_count": 7,
   "metadata": {
    "collapsed": true
   },
   "outputs": [],
   "source": [
    "import json"
   ]
  },
  {
   "cell_type": "code",
   "execution_count": 8,
   "metadata": {
    "collapsed": false
   },
   "outputs": [],
   "source": [
    "with open('seattle.json', 'r') as f:\n",
    "    neibs = json.load(f)\n"
   ]
  },
  {
   "cell_type": "code",
   "execution_count": 198,
   "metadata": {
    "collapsed": false
   },
   "outputs": [],
   "source": [
    "hoods_new = []\n",
    "for i in neibs['features']:\n",
    "    hoods_new.append(i['properties']['NAME'])"
   ]
  },
  {
   "cell_type": "code",
   "execution_count": 2,
   "metadata": {
    "collapsed": false
   },
   "outputs": [],
   "source": [
    "df = pd.read_csv('demographics.csv')\n",
    "df = df.ix[:, ['name', 'id']]"
   ]
  },
  {
   "cell_type": "code",
   "execution_count": 3,
   "metadata": {
    "collapsed": false
   },
   "outputs": [],
   "source": [
    "with open('hood_list.txt', 'r') as f:\n",
    "    h = []\n",
    "    for i in f:\n",
    "        h.append(i.strip())"
   ]
  },
  {
   "cell_type": "code",
   "execution_count": 4,
   "metadata": {
    "collapsed": false
   },
   "outputs": [],
   "source": [
    "h = pd.DataFrame(h, columns = ['name'])"
   ]
  },
  {
   "cell_type": "code",
   "execution_count": 5,
   "metadata": {
    "collapsed": false
   },
   "outputs": [],
   "source": [
    "df_scrape = h.merge(df, on = 'name', how = 'left')"
   ]
  },
  {
   "cell_type": "code",
   "execution_count": null,
   "metadata": {
    "collapsed": false
   },
   "outputs": [],
   "source": []
  },
  {
   "cell_type": "code",
   "execution_count": 7,
   "metadata": {
    "collapsed": false
   },
   "outputs": [],
   "source": [
    "ids = df_scrape['id'].values\n",
    "hoods = df_scrape['name'].values\n",
    "\n",
    "categories = ['nightlife', 'arts', 'active','restaurants', 'shopping']\n",
    "prices = ['all','1','2','3','4']"
   ]
  },
  {
   "cell_type": "code",
   "execution_count": 8,
   "metadata": {
    "collapsed": true
   },
   "outputs": [],
   "source": [
    "from scrape_yelp import ScrapeYelp\n"
   ]
  },
  {
   "cell_type": "code",
   "execution_count": 10,
   "metadata": {
    "collapsed": false
   },
   "outputs": [],
   "source": [
    "sy = ScrapeYelp(hoods, ids, categories, prices)\n",
    "sy.scrape_GS()"
   ]
  },
  {
   "cell_type": "code",
   "execution_count": null,
   "metadata": {
    "collapsed": true
   },
   "outputs": [],
   "source": []
  }
 ],
 "metadata": {
  "kernelspec": {
   "display_name": "Python 2",
   "language": "python",
   "name": "python2"
  },
  "language_info": {
   "codemirror_mode": {
    "name": "ipython",
    "version": 2
   },
   "file_extension": ".py",
   "mimetype": "text/x-python",
   "name": "python",
   "nbconvert_exporter": "python",
   "pygments_lexer": "ipython2",
   "version": "2.7.10"
  }
 },
 "nbformat": 4,
 "nbformat_minor": 0
}
