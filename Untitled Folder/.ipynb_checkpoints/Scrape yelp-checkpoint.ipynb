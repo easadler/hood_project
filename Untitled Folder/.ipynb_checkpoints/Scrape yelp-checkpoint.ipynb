{
 "cells": [
  {
   "cell_type": "code",
   "execution_count": 2,
   "metadata": {
    "collapsed": false
   },
   "outputs": [],
   "source": [
    "import pandas as pd \n",
    "import numpy as np\n",
    "from bs4 import BeautifulSoup\n",
    "import requests\n",
    "from pymongo import MongoClient\n",
    "import socks\n",
    "import socket\n",
    "import nose\n",
    "from fake_useragent import UserAgent\n",
    "import time\n",
    "from numpy.random import poisson"
   ]
  },
  {
   "cell_type": "code",
   "execution_count": 2,
   "metadata": {
    "collapsed": false
   },
   "outputs": [],
   "source": [
    "# get names of neighborhoods\n",
    "df_o = pd.read_csv('final_1.csv')\n",
    "hoods = df_o['hood'].values\n",
    "ids = df_o['id'].values\n",
    "categories = ['nightlife', 'arts', 'active','restaurants', 'shopping']\n",
    "prices = ['1','2','3','4']\n",
    "# from scrape_yelp import ScrapeYelp\n",
    "# sy = ScrapeYelp(hoods, ids, categories, prices)\n",
    "# sy.scrape_GS()"
   ]
  },
  {
   "cell_type": "code",
   "execution_count": 3,
   "metadata": {
    "collapsed": false
   },
   "outputs": [],
   "source": [
    "client = MongoClient('localhost', 27017)\n",
    "db = client['hood_app']\n",
    "collection = db['yelp_scrape']"
   ]
  },
  {
   "cell_type": "code",
   "execution_count": 4,
   "metadata": {
    "collapsed": false
   },
   "outputs": [],
   "source": [
    "data = [c for c in collection.find({})]\n",
    "df = pd.DataFrame(data)\n",
    "    "
   ]
  },
  {
   "cell_type": "code",
   "execution_count": 7,
   "metadata": {
    "collapsed": false
   },
   "outputs": [],
   "source": [
    "df.drop('_id', axis = 1, inplace = True)\n",
    "df = df.drop_duplicates()"
   ]
  },
  {
   "cell_type": "code",
   "execution_count": 8,
   "metadata": {
    "collapsed": false
   },
   "outputs": [],
   "source": [
    "df['pages'] = df['pages'].astype(float)"
   ]
  },
  {
   "cell_type": "code",
   "execution_count": 9,
   "metadata": {
    "collapsed": false
   },
   "outputs": [],
   "source": [
    "df_g = pd.DataFrame(df.groupby(['hood', 'category', 'price']).sum()).reset_index()"
   ]
  },
  {
   "cell_type": "code",
   "execution_count": 10,
   "metadata": {
    "collapsed": true
   },
   "outputs": [],
   "source": [
    "df_g['col'] = df_g['category'] + '_' + df_g['price']"
   ]
  },
  {
   "cell_type": "code",
   "execution_count": 11,
   "metadata": {
    "collapsed": false
   },
   "outputs": [],
   "source": [
    "df_piv = df_g.pivot(index = 'hood', columns = 'col', values = 'pages')"
   ]
  },
  {
   "cell_type": "code",
   "execution_count": 18,
   "metadata": {
    "collapsed": false
   },
   "outputs": [
    {
     "name": "stdout",
     "output_type": "stream",
     "text": [
      "/Users/evansadler/Desktop/Project Files\n"
     ]
    }
   ],
   "source": [
    "cd .."
   ]
  },
  {
   "cell_type": "code",
   "execution_count": 19,
   "metadata": {
    "collapsed": false
   },
   "outputs": [
    {
     "name": "stdout",
     "output_type": "stream",
     "text": [
      "/Users/evansadler/Desktop/Project Files/Dimension Reduction\n"
     ]
    }
   ],
   "source": [
    "cd Dimension\\ Reduction"
   ]
  },
  {
   "cell_type": "code",
   "execution_count": 20,
   "metadata": {
    "collapsed": false
   },
   "outputs": [],
   "source": [
    "from pca_class import ReduceFeatures\n",
    "%matplotlib inline"
   ]
  },
  {
   "cell_type": "code",
   "execution_count": 15,
   "metadata": {
    "collapsed": false
   },
   "outputs": [],
   "source": [
    "df_piv.drop('active_all', axis = 1, inplace = True)\n"
   ]
  },
  {
   "cell_type": "code",
   "execution_count": 66,
   "metadata": {
    "collapsed": false
   },
   "outputs": [],
   "source": [
    "from sklearn.cluster import KMeans"
   ]
  },
  {
   "cell_type": "code",
   "execution_count": 22,
   "metadata": {
    "collapsed": false
   },
   "outputs": [
    {
     "name": "stdout",
     "output_type": "stream",
     "text": [
      "For n_clusters = 3 The average silhouette_score is : 0.686647783783\n",
      "For n_clusters = 4 The average silhouette_score is : 0.659674859264\n",
      "For n_clusters = 5 The average silhouette_score is : 0.65923533927\n",
      "For n_clusters = 6 The average silhouette_score is : 0.663500414221\n",
      "For n_clusters = 7 The average silhouette_score is : 0.466323215269\n",
      "For n_clusters = 8 The average silhouette_score is : 0.46412337112\n",
      "For n_clusters = 9 The average silhouette_score is : 0.429067466306\n",
      "For n_clusters = 10 The average silhouette_score is : 0.449570243715\n"
     ]
    },
    {
     "name": "stderr",
     "output_type": "stream",
     "text": [
      "//anaconda/lib/python2.7/site-packages/numpy/core/_methods.py:59: RuntimeWarning: Mean of empty slice.\n",
      "  warnings.warn(\"Mean of empty slice.\", RuntimeWarning)\n"
     ]
    }
   ],
   "source": [
    "rf = ReduceFeatures(df_piv, list(df_piv.index))\n",
    "rf.preprocessing(0)\n",
    "rf.hcluster_cols(.1)\n",
    "rf.preprocessing(0)\n",
    "df_sp = rf.sparse_pca(n_components = 3, alpha = 2)\n",
    "rf.best_cluster()"
   ]
  },
  {
   "cell_type": "code",
   "execution_count": 23,
   "metadata": {
    "collapsed": false
   },
   "outputs": [
    {
     "data": {
      "text/html": [
       "<div>\n",
       "<table border=\"1\" class=\"dataframe\">\n",
       "  <thead>\n",
       "    <tr style=\"text-align: right;\">\n",
       "      <th></th>\n",
       "      <th>1</th>\n",
       "      <th>2</th>\n",
       "      <th>3</th>\n",
       "    </tr>\n",
       "  </thead>\n",
       "  <tbody>\n",
       "    <tr>\n",
       "      <th>arts_all</th>\n",
       "      <td>0.000000</td>\n",
       "      <td>0.000000</td>\n",
       "      <td>-7.273618</td>\n",
       "    </tr>\n",
       "    <tr>\n",
       "      <th>nightlife_all</th>\n",
       "      <td>0.000000</td>\n",
       "      <td>-7.273618</td>\n",
       "      <td>0.000000</td>\n",
       "    </tr>\n",
       "    <tr>\n",
       "      <th>[u'restaurants_all' u'shopping_all']</th>\n",
       "      <td>-7.273618</td>\n",
       "      <td>0.000000</td>\n",
       "      <td>0.000000</td>\n",
       "    </tr>\n",
       "  </tbody>\n",
       "</table>\n",
       "</div>"
      ],
      "text/plain": [
       "                                             1         2         3\n",
       "arts_all                              0.000000  0.000000 -7.273618\n",
       "nightlife_all                         0.000000 -7.273618  0.000000\n",
       "[u'restaurants_all' u'shopping_all'] -7.273618  0.000000  0.000000"
      ]
     },
     "execution_count": 23,
     "metadata": {},
     "output_type": "execute_result"
    }
   ],
   "source": [
    "df_sp.sort(1, ascending = False)"
   ]
  },
  {
   "cell_type": "code",
   "execution_count": 24,
   "metadata": {
    "collapsed": false
   },
   "outputs": [
    {
     "data": {
      "image/png": "[encoded data removed]",
      "text/plain": [
       "<matplotlib.figure.Figure at 0x1072efb50>"
      ]
     },
     "metadata": {},
     "output_type": "display_data"
    }
   ],
   "source": [
    "rf.plot_embedding()"
   ]
  },
  {
   "cell_type": "code",
   "execution_count": 25,
   "metadata": {
    "collapsed": false
   },
   "outputs": [
    {
     "data": {
      "text/html": [
       "<div>\n",
       "<table border=\"1\" class=\"dataframe\">\n",
       "  <thead>\n",
       "    <tr style=\"text-align: right;\">\n",
       "      <th>col</th>\n",
       "      <th>arts_all</th>\n",
       "      <th>nightlife_all</th>\n",
       "      <th>restaurants_all</th>\n",
       "      <th>shopping_all</th>\n",
       "    </tr>\n",
       "    <tr>\n",
       "      <th>hood</th>\n",
       "      <th></th>\n",
       "      <th></th>\n",
       "      <th></th>\n",
       "      <th></th>\n",
       "    </tr>\n",
       "  </thead>\n",
       "  <tbody>\n",
       "    <tr>\n",
       "      <th>Pioneer Square</th>\n",
       "      <td>9</td>\n",
       "      <td>5</td>\n",
       "      <td>10</td>\n",
       "      <td>16</td>\n",
       "    </tr>\n",
       "  </tbody>\n",
       "</table>\n",
       "</div>"
      ],
      "text/plain": [
       "col             arts_all  nightlife_all  restaurants_all  shopping_all\n",
       "hood                                                                  \n",
       "Pioneer Square         9              5               10            16"
      ]
     },
     "execution_count": 25,
     "metadata": {},
     "output_type": "execute_result"
    }
   ],
   "source": [
    "df_zf = pd.DataFrame(rf_z.X, index = names).reset_index()\n",
    "df_zf.columns = ['hood','family vs single','expensiveness', 'Age']\n",
    "df_zf.to_csv('zillow_pca_data.csv', index = False)"
   ]
  },
  {
   "cell_type": "code",
   "execution_count": 8,
   "metadata": {
    "collapsed": false
   },
   "outputs": [],
   "source": []
  },
  {
   "cell_type": "code",
   "execution_count": 198,
   "metadata": {
    "collapsed": false
   },
   "outputs": [],
   "source": []
  },
  {
   "cell_type": "code",
   "execution_count": 4,
   "metadata": {
    "collapsed": false
   },
   "outputs": [],
   "source": [
    "# accidentally deleted, but get list of "
   ]
  },
  {
   "cell_type": "code",
   "execution_count": 7,
   "metadata": {
    "collapsed": false
   },
   "outputs": [],
   "source": [
    "from scrape_yelp import ScrapeYelp\n",
    "sy = ScrapeYelp(hoods, ids, categories, prices)\n",
    "sy.scrape_GS()"
   ]
  }
 ],
 "metadata": {
  "kernelspec": {
   "display_name": "Python 2",
   "language": "python",
   "name": "python2"
  },
  "language_info": {
   "codemirror_mode": {
    "name": "ipython",
    "version": 2
   },
   "file_extension": ".py",
   "mimetype": "text/x-python",
   "name": "python",
   "nbconvert_exporter": "python",
   "pygments_lexer": "ipython2",
   "version": "2.7.10"
  }
 },
 "nbformat": 4,
 "nbformat_minor": 0
}
