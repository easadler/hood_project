{
 "cells": [
  {
   "cell_type": "code",
   "execution_count": 1,
   "metadata": {
    "collapsed": false
   },
   "outputs": [],
   "source": [
    "import pandas as pd \n",
    "import numpy as np\n",
    "from bs4 import BeautifulSoup\n",
    "import requests\n",
    "from pymongo import MongoClient\n",
    "import socks\n",
    "import socket\n",
    "import nose\n",
    "from fake_useragent import UserAgent\n",
    "import time\n",
    "from numpy.random import poisson"
   ]
  },
  {
   "cell_type": "code",
   "execution_count": 2,
   "metadata": {
    "collapsed": false
   },
   "outputs": [],
   "source": [
    "# get names of neighborhoods\n",
    "df_o = pd.read_csv('final_1.csv')\n",
    "hoods = df_o['hood'].values\n",
    "ids = df_o['id'].values\n",
    "categories = ['nightlife', 'arts', 'active','restaurants', 'shopping']\n",
    "prices = ['all']\n",
    "# categories = ['nightlife', 'arts', 'active','restaurants', 'shopping']\n",
    "# prices = ['1','2','3','4']\n",
    "# from scrape_yelp import ScrapeYelp\n",
    "# sy = ScrapeYelp(hoods, ids, categories, prices)\n",
    "# sy.scrape_GS()"
   ]
  },
  {
   "cell_type": "code",
   "execution_count": 3,
   "metadata": {
    "collapsed": true
   },
   "outputs": [],
   "source": [
    "client = MongoClient('localhost', 27017)\n",
    "db = client['neighborhood_recommender']\n",
    "collection = db['yelp_scrape']"
   ]
  },
  {
   "cell_type": "code",
   "execution_count": 4,
   "metadata": {
    "collapsed": false
   },
   "outputs": [],
   "source": [
    "data = [c for c in collection.find({})]\n",
    "df = pd.DataFrame(data)\n",
    "    "
   ]
  },
  {
   "cell_type": "code",
   "execution_count": 5,
   "metadata": {
    "collapsed": false
   },
   "outputs": [],
   "source": [
    "names = df.ix[(df['pages'] != 0) & (df['price'] == '2') & (df['category'] == 'restaurants'),:].groupby(['hood']).count().index"
   ]
  },
  {
   "cell_type": "code",
   "execution_count": 6,
   "metadata": {
    "collapsed": false
   },
   "outputs": [],
   "source": [
    "new_names = []\n",
    "new_ids = []\n",
    "set_hood = set(names)\n",
    "for name, idd in zip(hoods, ids):\n",
    "    if name not in set_hood:\n",
    "        new_names.append(name)\n",
    "        new_ids.append(idd)\n"
   ]
  },
  {
   "cell_type": "code",
   "execution_count": 7,
   "metadata": {
    "collapsed": false
   },
   "outputs": [
    {
     "name": "stdout",
     "output_type": "stream",
     "text": [
      "{'category': 'nightlife', 'price': '1', 'id': 250149, 'hood': 'Broadmoor', 'pages': 0}\n",
      "{'category': 'nightlife', 'price': '2', 'id': 250149, 'hood': 'Broadmoor', 'pages': 0}\n",
      "{'category': 'nightlife', 'price': '3', 'id': 250149, 'hood': 'Broadmoor', 'pages': 0}\n",
      "{'category': 'nightlife', 'price': '4', 'id': 250149, 'hood': 'Broadmoor', 'pages': 0}\n",
      "{'category': 'arts', 'price': '1', 'id': 250149, 'hood': 'Broadmoor', 'pages': 0}\n",
      "{'category': 'arts', 'price': '2', 'id': 250149, 'hood': 'Broadmoor', 'pages': 0}\n",
      "{'category': 'arts', 'price': '3', 'id': 250149, 'hood': 'Broadmoor', 'pages': 0}\n",
      "{'category': 'arts', 'price': '4', 'id': 250149, 'hood': 'Broadmoor', 'pages': 0}\n",
      "{'category': 'active', 'price': '1', 'id': 250149, 'hood': 'Broadmoor', 'pages': 0}\n",
      "{'category': 'active', 'price': '2', 'id': 250149, 'hood': 'Broadmoor', 'pages': 0}\n",
      "{'category': 'active', 'price': '3', 'id': 250149, 'hood': 'Broadmoor', 'pages': 0}\n",
      "{'category': 'active', 'price': '4', 'id': 250149, 'hood': 'Broadmoor', 'pages': 0}\n",
      "{'category': 'restaurants', 'price': '1', 'id': 250149, 'hood': 'Broadmoor', 'pages': 0}\n",
      "{'category': 'restaurants', 'price': '2', 'id': 250149, 'hood': 'Broadmoor', 'pages': 0}\n",
      "{'category': 'restaurants', 'price': '3', 'id': 250149, 'hood': 'Broadmoor', 'pages': 0}\n",
      "{'category': 'restaurants', 'price': '4', 'id': 250149, 'hood': 'Broadmoor', 'pages': 0}\n",
      "{'category': 'shopping', 'price': '1', 'id': 250149, 'hood': 'Broadmoor', 'pages': 0}\n",
      "{'category': 'shopping', 'price': '2', 'id': 250149, 'hood': 'Broadmoor', 'pages': 0}\n"
     ]
    },
    {
     "ename": "KeyboardInterrupt",
     "evalue": "",
     "output_type": "error",
     "traceback": [
      "\u001b[0;31m---------------------------------------------------------------------------\u001b[0m",
      "\u001b[0;31mKeyboardInterrupt\u001b[0m                         Traceback (most recent call last)",
      "\u001b[0;32m<ipython-input-7-73f66b317308>\u001b[0m in \u001b[0;36m<module>\u001b[0;34m()\u001b[0m\n\u001b[1;32m      1\u001b[0m \u001b[0;32mfrom\u001b[0m \u001b[0mscrape_yelp\u001b[0m \u001b[0;32mimport\u001b[0m \u001b[0mScrapeYelp\u001b[0m\u001b[0;34m\u001b[0m\u001b[0m\n\u001b[1;32m      2\u001b[0m \u001b[0msy\u001b[0m \u001b[0;34m=\u001b[0m \u001b[0mScrapeYelp\u001b[0m\u001b[0;34m(\u001b[0m\u001b[0mnew_names\u001b[0m\u001b[0;34m,\u001b[0m \u001b[0mnew_ids\u001b[0m\u001b[0;34m,\u001b[0m \u001b[0mcategories\u001b[0m\u001b[0;34m,\u001b[0m \u001b[0mprices\u001b[0m\u001b[0;34m)\u001b[0m\u001b[0;34m\u001b[0m\u001b[0m\n\u001b[0;32m----> 3\u001b[0;31m \u001b[0mnew_entries\u001b[0m \u001b[0;34m=\u001b[0m \u001b[0msy\u001b[0m\u001b[0;34m.\u001b[0m\u001b[0mscrape_GS\u001b[0m\u001b[0;34m(\u001b[0m\u001b[0;34m)\u001b[0m\u001b[0;34m\u001b[0m\u001b[0m\n\u001b[0m",
      "\u001b[0;32m/Users/evansadler/Desktop/Project Files/Untitled Folder/scrape_yelp.py\u001b[0m in \u001b[0;36mscrape_GS\u001b[0;34m(self)\u001b[0m\n\u001b[1;32m     39\u001b[0m                             \u001b[0mrow\u001b[0m \u001b[0;34m=\u001b[0m \u001b[0;34m{\u001b[0m\u001b[0;34m'id'\u001b[0m\u001b[0;34m:\u001b[0m \u001b[0midd\u001b[0m\u001b[0;34m,\u001b[0m \u001b[0;34m'pages'\u001b[0m\u001b[0;34m:\u001b[0m \u001b[0mpages\u001b[0m\u001b[0;34m,\u001b[0m \u001b[0;34m'hood'\u001b[0m\u001b[0;34m:\u001b[0m \u001b[0mhood\u001b[0m\u001b[0;34m,\u001b[0m \u001b[0;34m'category'\u001b[0m\u001b[0;34m:\u001b[0m \u001b[0mcategory\u001b[0m\u001b[0;34m,\u001b[0m \u001b[0;34m'price'\u001b[0m\u001b[0;34m:\u001b[0m \u001b[0mprice\u001b[0m\u001b[0;34m}\u001b[0m\u001b[0;34m\u001b[0m\u001b[0m\n\u001b[1;32m     40\u001b[0m                             \u001b[0;31m#self.collection.insert(row)\u001b[0m\u001b[0;34m\u001b[0m\u001b[0;34m\u001b[0m\u001b[0m\n\u001b[0;32m---> 41\u001b[0;31m                             \u001b[0mtime\u001b[0m\u001b[0;34m.\u001b[0m\u001b[0msleep\u001b[0m\u001b[0;34m(\u001b[0m\u001b[0mpois\u001b[0m\u001b[0;34m)\u001b[0m\u001b[0;34m\u001b[0m\u001b[0m\n\u001b[0m\u001b[1;32m     42\u001b[0m                             \u001b[0marr\u001b[0m\u001b[0;34m.\u001b[0m\u001b[0mappend\u001b[0m\u001b[0;34m(\u001b[0m\u001b[0mrow\u001b[0m\u001b[0;34m)\u001b[0m\u001b[0;34m\u001b[0m\u001b[0m\n\u001b[1;32m     43\u001b[0m                             \u001b[0;32mprint\u001b[0m \u001b[0mrow\u001b[0m\u001b[0;34m\u001b[0m\u001b[0m\n",
      "\u001b[0;31mKeyboardInterrupt\u001b[0m: "
     ]
    }
   ],
   "source": [
    "from scrape_yelp import ScrapeYelp\n",
    "sy = ScrapeYelp(new_names[6:7], new_ids[6:7], ['active'], prices)\n",
    "new_entries = sy.scrape_GS()"
   ]
  },
  {
   "cell_type": "code",
   "execution_count": 12,
   "metadata": {
    "collapsed": false
   },
   "outputs": [
    {
     "data": {
      "text/plain": [
       "['Sand Point']"
      ]
     },
     "execution_count": 12,
     "metadata": {},
     "output_type": "execute_result"
    }
   ],
   "source": [
    "new_names[6:7]"
   ]
  },
  {
   "cell_type": "code",
   "execution_count": null,
   "metadata": {
    "collapsed": true
   },
   "outputs": [],
   "source": []
  }
 ],
 "metadata": {
  "kernelspec": {
   "display_name": "Python 2",
   "language": "python",
   "name": "python2"
  },
  "language_info": {
   "codemirror_mode": {
    "name": "ipython",
    "version": 2
   },
   "file_extension": ".py",
   "mimetype": "text/x-python",
   "name": "python",
   "nbconvert_exporter": "python",
   "pygments_lexer": "ipython2",
   "version": "2.7.10"
  }
 },
 "nbformat": 4,
 "nbformat_minor": 0
}
