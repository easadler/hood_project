{
 "cells": [
  {
   "cell_type": "code",
   "execution_count": 1,
   "metadata": {
    "collapsed": false
   },
   "outputs": [],
   "source": [
    "import pandas as pd \n",
    "import numpy as np\n",
    "from bs4 import BeautifulSoup\n",
    "import requests\n",
    "from pymongo import MongoClient\n",
    "import socks\n",
    "import socket\n",
    "import nose\n",
    "from fake_useragent import UserAgent\n",
    "import time\n",
    "from numpy.random import poisson"
   ]
  },
  {
   "cell_type": "code",
   "execution_count": 2,
   "metadata": {
    "collapsed": false
   },
   "outputs": [],
   "source": [
    "# get names of neighborhoods\n",
    "df_o = pd.read_csv('final_1.csv')\n",
    "hoods = df_o['hood'].values\n",
    "ids = df_o['id'].values\n",
    "categories = ['nightlife', 'arts', 'active','restaurants', 'shopping']\n",
    "prices = ['all']\n",
    "# categories = ['nightlife', 'arts', 'active','restaurants', 'shopping']\n",
    "# prices = ['1','2','3','4']\n",
    "# from scrape_yelp import ScrapeYelp\n",
    "# sy = ScrapeYelp(hoods, ids, categories, prices)\n",
    "# sy.scrape_GS()"
   ]
  },
  {
   "cell_type": "code",
   "execution_count": 9,
   "metadata": {
    "collapsed": true
   },
   "outputs": [],
   "source": [
    "client = MongoClient('localhost', 27017)\n",
    "db = client['neighborhood_recommender']\n",
    "collection = db['hood_data_Seattle_WA']"
   ]
  },
  {
   "cell_type": "code",
   "execution_count": 10,
   "metadata": {
    "collapsed": false
   },
   "outputs": [],
   "source": [
    "data = [c for c in collection.find({})]\n",
    "df = pd.DataFrame(data)\n",
    "    "
   ]
  },
  {
   "cell_type": "code",
   "execution_count": 5,
   "metadata": {
    "collapsed": false
   },
   "outputs": [],
   "source": [
    "names = df.ix[(df['pages'] != 0) & (df['price'] == '2') & (df['category'] == 'restaurants'),:].groupby(['hood']).count().index"
   ]
  },
  {
   "cell_type": "code",
   "execution_count": 6,
   "metadata": {
    "collapsed": false
   },
   "outputs": [],
   "source": [
    "new_names = []\n",
    "new_ids = []\n",
    "set_hood = set(names)\n",
    "for name, idd in zip(hoods, ids):\n",
    "    if name not in set_hood:\n",
    "        new_names.append(name)\n",
    "        new_ids.append(idd)\n"
   ]
  },
  {
   "cell_type": "code",
   "execution_count": 4,
   "metadata": {
    "collapsed": false
   },
   "outputs": [],
   "source": [
    "from scrape_yelp import ScrapeYelp\n"
   ]
  },
  {
   "cell_type": "code",
   "execution_count": null,
   "metadata": {
    "collapsed": false
   },
   "outputs": [],
   "source": [
    "sy = ScrapeYelp(hoods, ids, categories, prices)\n",
    "sy.scrape_GS()"
   ]
  },
  {
   "cell_type": "code",
   "execution_count": 25,
   "metadata": {
    "collapsed": false
   },
   "outputs": [],
   "source": [
    "df.drop('_id', axis = 1, inplace = True)\n",
    "df = df.drop_duplicates()"
   ]
  },
  {
   "cell_type": "code",
   "execution_count": 68,
   "metadata": {
    "collapsed": false
   },
   "outputs": [],
   "source": [
    "#df['pages'] = df['pages'].astype(float)"
   ]
  },
  {
   "cell_type": "code",
   "execution_count": 69,
   "metadata": {
    "collapsed": false
   },
   "outputs": [],
   "source": [
    "df_g = pd.DataFrame(df.groupby(['hood', 'category', 'price']).sum()).reset_index()"
   ]
  },
  {
   "cell_type": "code",
   "execution_count": 70,
   "metadata": {
    "collapsed": true
   },
   "outputs": [],
   "source": [
    "df_g['col'] = df_g['category'] + '_' + df_g['price']"
   ]
  },
  {
   "cell_type": "code",
   "execution_count": 76,
   "metadata": {
    "collapsed": false
   },
   "outputs": [],
   "source": [
    "df_piv = df_g.pivot(index = 'hood', columns = 'col', values = 'pages')"
   ]
  },
  {
   "cell_type": "code",
   "execution_count": 95,
   "metadata": {
    "collapsed": false
   },
   "outputs": [
    {
     "name": "stdout",
     "output_type": "stream",
     "text": [
      "/Users/evansadler/Desktop/Project Files\n"
     ]
    }
   ],
   "source": [
    "cd .."
   ]
  },
  {
   "cell_type": "code",
   "execution_count": 96,
   "metadata": {
    "collapsed": false
   },
   "outputs": [
    {
     "name": "stdout",
     "output_type": "stream",
     "text": [
      "/Users/evansadler/Desktop/Project Files/Dimension Reduction\n"
     ]
    }
   ],
   "source": [
    "cd Dimension\\ Reduction"
   ]
  },
  {
   "cell_type": "code",
   "execution_count": 3,
   "metadata": {
    "collapsed": false
   },
   "outputs": [
    {
     "ename": "ImportError",
     "evalue": "No module named pca_class",
     "output_type": "error",
     "traceback": [
      "\u001b[0;31m---------------------------------------------------------------------------\u001b[0m",
      "\u001b[0;31mImportError\u001b[0m                               Traceback (most recent call last)",
      "\u001b[0;32m<ipython-input-3-79603038bbb3>\u001b[0m in \u001b[0;36m<module>\u001b[0;34m()\u001b[0m\n\u001b[0;32m----> 1\u001b[0;31m \u001b[0;32mfrom\u001b[0m \u001b[0mpca_class\u001b[0m \u001b[0;32mimport\u001b[0m \u001b[0mReduceFeatures\u001b[0m\u001b[0;34m\u001b[0m\u001b[0m\n\u001b[0m\u001b[1;32m      2\u001b[0m \u001b[0mget_ipython\u001b[0m\u001b[0;34m(\u001b[0m\u001b[0;34m)\u001b[0m\u001b[0;34m.\u001b[0m\u001b[0mmagic\u001b[0m\u001b[0;34m(\u001b[0m\u001b[0;34mu'matplotlib inline'\u001b[0m\u001b[0;34m)\u001b[0m\u001b[0;34m\u001b[0m\u001b[0m\n",
      "\u001b[0;31mImportError\u001b[0m: No module named pca_class"
     ]
    }
   ],
   "source": [
    "from pca_class import ReduceFeatures\n",
    "%matplotlib inline"
   ]
  },
  {
   "cell_type": "code",
   "execution_count": 154,
   "metadata": {
    "collapsed": false
   },
   "outputs": [
    {
     "name": "stdout",
     "output_type": "stream",
     "text": [
      "For n_clusters = 3 The average silhouette_score is : 0.660475820979\n",
      "For n_clusters = 4 The average silhouette_score is : 0.668465066509\n",
      "For n_clusters = 5 The average silhouette_score is : 0.649522033803\n",
      "For n_clusters = 6 The average silhouette_score is : 0.661148624514\n",
      "For n_clusters = 7 The average silhouette_score is : 0.682070503433\n",
      "For n_clusters = 8 The average silhouette_score is : 0.674025057125\n",
      "For n_clusters = 9 The average silhouette_score is : 0.591598381151\n",
      "For n_clusters = 10 The average silhouette_score is : 0.586217516466\n"
     ]
    }
   ],
   "source": [
    "rf = ReduceFeatures(df_piv, list(df_piv.index))\n",
    "rf.preprocessing(0)\n",
    "rf.hcluster_cols(0.1)\n",
    "rf.preprocessing(0)\n",
    "df_sp = rf.sparse_pca(n_components = 3, alpha = 2)\n",
    "rf.best_cluster()"
   ]
  },
  {
   "cell_type": "code",
   "execution_count": 155,
   "metadata": {
    "collapsed": false
   },
   "outputs": [
    {
     "data": {
      "text/html": [
       "<div>\n",
       "<table border=\"1\" class=\"dataframe\">\n",
       "  <thead>\n",
       "    <tr style=\"text-align: right;\">\n",
       "      <th></th>\n",
       "      <th>1</th>\n",
       "      <th>2</th>\n",
       "      <th>3</th>\n",
       "    </tr>\n",
       "  </thead>\n",
       "  <tbody>\n",
       "    <tr>\n",
       "      <th>shopping_2</th>\n",
       "      <td>-5.765033</td>\n",
       "      <td>0.000000</td>\n",
       "      <td>0.000000</td>\n",
       "    </tr>\n",
       "    <tr>\n",
       "      <th>nightlife_1</th>\n",
       "      <td>-5.351969</td>\n",
       "      <td>0.000000</td>\n",
       "      <td>0.000000</td>\n",
       "    </tr>\n",
       "    <tr>\n",
       "      <th>shopping_3</th>\n",
       "      <td>-5.324897</td>\n",
       "      <td>0.000000</td>\n",
       "      <td>0.000000</td>\n",
       "    </tr>\n",
       "    <tr>\n",
       "      <th>arts_all</th>\n",
       "      <td>-5.134404</td>\n",
       "      <td>0.000000</td>\n",
       "      <td>0.000000</td>\n",
       "    </tr>\n",
       "    <tr>\n",
       "      <th>restaurants_1</th>\n",
       "      <td>-4.905372</td>\n",
       "      <td>0.000000</td>\n",
       "      <td>0.000000</td>\n",
       "    </tr>\n",
       "    <tr>\n",
       "      <th>restaurants_2</th>\n",
       "      <td>-4.650585</td>\n",
       "      <td>0.000000</td>\n",
       "      <td>0.000000</td>\n",
       "    </tr>\n",
       "    <tr>\n",
       "      <th>shopping_1</th>\n",
       "      <td>-4.276281</td>\n",
       "      <td>1.084876</td>\n",
       "      <td>0.000000</td>\n",
       "    </tr>\n",
       "    <tr>\n",
       "      <th>nightlife_2</th>\n",
       "      <td>-3.989881</td>\n",
       "      <td>1.792675</td>\n",
       "      <td>0.000000</td>\n",
       "    </tr>\n",
       "    <tr>\n",
       "      <th>arts_1</th>\n",
       "      <td>-3.940312</td>\n",
       "      <td>1.803120</td>\n",
       "      <td>0.000000</td>\n",
       "    </tr>\n",
       "    <tr>\n",
       "      <th>restaurants_all</th>\n",
       "      <td>-3.789348</td>\n",
       "      <td>0.000000</td>\n",
       "      <td>0.000000</td>\n",
       "    </tr>\n",
       "    <tr>\n",
       "      <th>active_2</th>\n",
       "      <td>-3.737063</td>\n",
       "      <td>0.000000</td>\n",
       "      <td>0.000000</td>\n",
       "    </tr>\n",
       "    <tr>\n",
       "      <th>nightlife_all</th>\n",
       "      <td>-3.360642</td>\n",
       "      <td>2.988076</td>\n",
       "      <td>0.000000</td>\n",
       "    </tr>\n",
       "    <tr>\n",
       "      <th>active_all</th>\n",
       "      <td>-3.103122</td>\n",
       "      <td>0.000000</td>\n",
       "      <td>0.000000</td>\n",
       "    </tr>\n",
       "    <tr>\n",
       "      <th>arts_2</th>\n",
       "      <td>-2.770191</td>\n",
       "      <td>3.368992</td>\n",
       "      <td>0.000000</td>\n",
       "    </tr>\n",
       "    <tr>\n",
       "      <th>shopping_all</th>\n",
       "      <td>-2.183874</td>\n",
       "      <td>0.000000</td>\n",
       "      <td>0.000000</td>\n",
       "    </tr>\n",
       "    <tr>\n",
       "      <th>restaurants_4</th>\n",
       "      <td>-0.702291</td>\n",
       "      <td>4.404475</td>\n",
       "      <td>0.000000</td>\n",
       "    </tr>\n",
       "    <tr>\n",
       "      <th>arts_3</th>\n",
       "      <td>0.000000</td>\n",
       "      <td>5.260528</td>\n",
       "      <td>0.000000</td>\n",
       "    </tr>\n",
       "    <tr>\n",
       "      <th>arts_4</th>\n",
       "      <td>0.000000</td>\n",
       "      <td>4.477105</td>\n",
       "      <td>0.000000</td>\n",
       "    </tr>\n",
       "    <tr>\n",
       "      <th>restaurants_3</th>\n",
       "      <td>0.000000</td>\n",
       "      <td>5.182936</td>\n",
       "      <td>0.000000</td>\n",
       "    </tr>\n",
       "    <tr>\n",
       "      <th>[u'nightlife_3' u'shopping_4']</th>\n",
       "      <td>0.000000</td>\n",
       "      <td>5.944107</td>\n",
       "      <td>0.000000</td>\n",
       "    </tr>\n",
       "    <tr>\n",
       "      <th>nightlife_4</th>\n",
       "      <td>0.000000</td>\n",
       "      <td>3.775635</td>\n",
       "      <td>-2.197428</td>\n",
       "    </tr>\n",
       "    <tr>\n",
       "      <th>active_3</th>\n",
       "      <td>0.000000</td>\n",
       "      <td>3.431824</td>\n",
       "      <td>0.000000</td>\n",
       "    </tr>\n",
       "    <tr>\n",
       "      <th>active_1</th>\n",
       "      <td>0.000000</td>\n",
       "      <td>0.000000</td>\n",
       "      <td>-2.739370</td>\n",
       "    </tr>\n",
       "    <tr>\n",
       "      <th>active_4</th>\n",
       "      <td>0.000000</td>\n",
       "      <td>0.000000</td>\n",
       "      <td>-5.844068</td>\n",
       "    </tr>\n",
       "  </tbody>\n",
       "</table>\n",
       "</div>"
      ],
      "text/plain": [
       "                                       1         2         3\n",
       "shopping_2                     -5.765033  0.000000  0.000000\n",
       "nightlife_1                    -5.351969  0.000000  0.000000\n",
       "shopping_3                     -5.324897  0.000000  0.000000\n",
       "arts_all                       -5.134404  0.000000  0.000000\n",
       "restaurants_1                  -4.905372  0.000000  0.000000\n",
       "restaurants_2                  -4.650585  0.000000  0.000000\n",
       "shopping_1                     -4.276281  1.084876  0.000000\n",
       "nightlife_2                    -3.989881  1.792675  0.000000\n",
       "arts_1                         -3.940312  1.803120  0.000000\n",
       "restaurants_all                -3.789348  0.000000  0.000000\n",
       "active_2                       -3.737063  0.000000  0.000000\n",
       "nightlife_all                  -3.360642  2.988076  0.000000\n",
       "active_all                     -3.103122  0.000000  0.000000\n",
       "arts_2                         -2.770191  3.368992  0.000000\n",
       "shopping_all                   -2.183874  0.000000  0.000000\n",
       "restaurants_4                  -0.702291  4.404475  0.000000\n",
       "arts_3                          0.000000  5.260528  0.000000\n",
       "arts_4                          0.000000  4.477105  0.000000\n",
       "restaurants_3                   0.000000  5.182936  0.000000\n",
       "[u'nightlife_3' u'shopping_4']  0.000000  5.944107  0.000000\n",
       "nightlife_4                     0.000000  3.775635 -2.197428\n",
       "active_3                        0.000000  3.431824  0.000000\n",
       "active_1                        0.000000  0.000000 -2.739370\n",
       "active_4                        0.000000  0.000000 -5.844068"
      ]
     },
     "execution_count": 155,
     "metadata": {},
     "output_type": "execute_result"
    }
   ],
   "source": [
    "df_sp.sort(1)"
   ]
  },
  {
   "cell_type": "code",
   "execution_count": 156,
   "metadata": {
    "collapsed": false
   },
   "outputs": [
    {
     "data": {
      "image/png": "[encoded data removed]",
      "text/plain": [
       "<matplotlib.figure.Figure at 0x10a8341d0>"
      ]
     },
     "metadata": {},
     "output_type": "display_data"
    }
   ],
   "source": [
    "rf.plot_embedding()"
   ]
  },
  {
   "cell_type": "code",
   "execution_count": null,
   "metadata": {
    "collapsed": false
   },
   "outputs": [],
   "source": []
  },
  {
   "cell_type": "code",
   "execution_count": 166,
   "metadata": {
    "collapsed": false
   },
   "outputs": [],
   "source": [
    "df_a = pd.read_csv('final_Original.csv')"
   ]
  },
  {
   "cell_type": "code",
   "execution_count": 179,
   "metadata": {
    "collapsed": false
   },
   "outputs": [
    {
     "data": {
      "text/plain": [
       "27     Columbia City\n",
       "52              Alki\n",
       "70    North Delridge\n",
       "Name: hood, dtype: object"
      ]
     },
     "execution_count": 179,
     "metadata": {},
     "output_type": "execute_result"
    }
   ],
   "source": [
    "df_a['hood'][~df_a['hood'].isin(df_o['hood'])]"
   ]
  },
  {
   "cell_type": "code",
   "execution_count": 5,
   "metadata": {
    "collapsed": false
   },
   "outputs": [
    {
     "name": "stdout",
     "output_type": "stream",
     "text": [
      "/Users/evansadler/Desktop/Project Files\n"
     ]
    }
   ],
   "source": [
    "cd .."
   ]
  },
  {
   "cell_type": "code",
   "execution_count": 6,
   "metadata": {
    "collapsed": false
   },
   "outputs": [
    {
     "name": "stdout",
     "output_type": "stream",
     "text": [
      "/Users/evansadler/Desktop/Project Files/data collection\n"
     ]
    }
   ],
   "source": [
    "cd data\\ collection"
   ]
  },
  {
   "cell_type": "code",
   "execution_count": 7,
   "metadata": {
    "collapsed": true
   },
   "outputs": [],
   "source": [
    "import json"
   ]
  },
  {
   "cell_type": "code",
   "execution_count": 8,
   "metadata": {
    "collapsed": false
   },
   "outputs": [],
   "source": [
    "with open('seattle.json', 'r') as f:\n",
    "    neibs = json.load(f)\n"
   ]
  },
  {
   "cell_type": "code",
   "execution_count": 198,
   "metadata": {
    "collapsed": false
   },
   "outputs": [],
   "source": [
    "hoods_new = []\n",
    "for i in neibs['features']:\n",
    "    hoods_new.append(i['properties']['NAME'])"
   ]
  },
  {
   "cell_type": "code",
   "execution_count": 217,
   "metadata": {
    "collapsed": false
   },
   "outputs": [],
   "source": [
    "missing = pd.Series(hoods_new)[~pd.Series(hoods_new).isin(df_o['hood'])]"
   ]
  },
  {
   "cell_type": "code",
   "execution_count": 222,
   "metadata": {
    "collapsed": false
   },
   "outputs": [],
   "source": [
    "missing = missing.values"
   ]
  },
  {
   "cell_type": "code",
   "execution_count": 223,
   "metadata": {
    "collapsed": false
   },
   "outputs": [
    {
     "data": {
      "text/plain": [
       "array([u'Alki', u'Central District', u'Columbia City', u'Denny-Blaine',\n",
       "       u'Mount Baker', u'North Delridge', u'Queen Anne', u'West Seattle'], dtype=object)"
      ]
     },
     "execution_count": 223,
     "metadata": {},
     "output_type": "execute_result"
    }
   ],
   "source": [
    "missing\n"
   ]
  },
  {
   "cell_type": "code",
   "execution_count": 15,
   "metadata": {
    "collapsed": false
   },
   "outputs": [],
   "source": [
    "missing = np.array([u'Alki', u'Central District', u'Columbia City', u'Denny-Blaine',u'Mount Baker', u'North Delridge', u'Queen Anne', u'West Seattle'], dtype=object)"
   ]
  },
  {
   "cell_type": "code",
   "execution_count": 16,
   "metadata": {
    "collapsed": false
   },
   "outputs": [
    {
     "data": {
      "text/html": [
       "<div>\n",
       "<table border=\"1\" class=\"dataframe\">\n",
       "  <thead>\n",
       "    <tr style=\"text-align: right;\">\n",
       "      <th></th>\n",
       "      <th>id</th>\n",
       "      <th>name</th>\n",
       "    </tr>\n",
       "  </thead>\n",
       "  <tbody>\n",
       "    <tr>\n",
       "      <th>27</th>\n",
       "      <td>271839</td>\n",
       "      <td>Columbia City</td>\n",
       "    </tr>\n",
       "    <tr>\n",
       "      <th>28</th>\n",
       "      <td>343997</td>\n",
       "      <td>Alki</td>\n",
       "    </tr>\n",
       "    <tr>\n",
       "      <th>70</th>\n",
       "      <td>344032</td>\n",
       "      <td>North Delridge</td>\n",
       "    </tr>\n",
       "  </tbody>\n",
       "</table>\n",
       "</div>"
      ],
      "text/plain": [
       "        id            name\n",
       "27  271839   Columbia City\n",
       "28  343997            Alki\n",
       "70  344032  North Delridge"
      ]
     },
     "execution_count": 16,
     "metadata": {},
     "output_type": "execute_result"
    }
   ],
   "source": [
    "df.ix[df['name'].isin(missing), ['id', 'name']]"
   ]
  },
  {
   "cell_type": "code",
   "execution_count": 17,
   "metadata": {
    "collapsed": false
   },
   "outputs": [
    {
     "data": {
      "text/plain": [
       "107"
      ]
     },
     "execution_count": 17,
     "metadata": {},
     "output_type": "execute_result"
    }
   ],
   "source": []
  },
  {
   "cell_type": "code",
   "execution_count": null,
   "metadata": {
    "collapsed": true
   },
   "outputs": [],
   "source": []
  }
 ],
 "metadata": {
  "kernelspec": {
   "display_name": "Python 2",
   "language": "python",
   "name": "python2"
  },
  "language_info": {
   "codemirror_mode": {
    "name": "ipython",
    "version": 2
   },
   "file_extension": ".py",
   "mimetype": "text/x-python",
   "name": "python",
   "nbconvert_exporter": "python",
   "pygments_lexer": "ipython2",
   "version": "2.7.10"
  }
 },
 "nbformat": 4,
 "nbformat_minor": 0
}
