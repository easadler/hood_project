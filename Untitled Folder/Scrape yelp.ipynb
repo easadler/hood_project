{
 "cells": [
  {
   "cell_type": "code",
   "execution_count": 1,
   "metadata": {
    "collapsed": false
   },
   "outputs": [],
   "source": [
    "import pandas as pd \n",
    "import numpy as np\n",
    "from bs4 import BeautifulSoup\n",
    "import requests\n",
    "from pymongo import MongoClient\n",
    "import socks\n",
    "import socket\n",
    "import nose\n",
    "from fake_useragent import UserAgent\n",
    "import time\n",
    "from numpy.random import poisson"
   ]
  },
  {
   "cell_type": "code",
   "execution_count": 2,
   "metadata": {
    "collapsed": false
   },
   "outputs": [],
   "source": [
    "# get names of neighborhoods\n",
    "df_o = pd.read_csv('final_1.csv')\n",
    "hoods = df_o['hood'].values\n",
    "ids = df_o['id'].values\n",
    "categories = ['nightlife', 'arts', 'active','restaurants', 'shopping']\n",
    "prices = ['1','2','3','4']\n",
    "# from scrape_yelp import ScrapeYelp\n",
    "# sy = ScrapeYelp(hoods, ids, categories, prices)\n",
    "# sy.scrape_GS()"
   ]
  },
  {
   "cell_type": "code",
   "execution_count": 13,
   "metadata": {
    "collapsed": true
   },
   "outputs": [],
   "source": [
    "client = MongoClient('localhost', 27017)\n",
    "db = client['hood_app']\n",
    "collection = db['yelp_scrape']"
   ]
  },
  {
   "cell_type": "code",
   "execution_count": 14,
   "metadata": {
    "collapsed": false
   },
   "outputs": [],
   "source": [
    "data = [c for c in collection.find({})]\n",
    "df = pd.DataFrame(data)\n",
    "    "
   ]
  },
  {
   "cell_type": "code",
   "execution_count": 5,
   "metadata": {
    "collapsed": false
   },
   "outputs": [],
   "source": [
    "names = df.ix[(df['pages'] != 0) & (df['price'] == '2') & (df['category'] == 'restaurants'),:].groupby(['hood']).count().index"
   ]
  },
  {
   "cell_type": "code",
   "execution_count": 6,
   "metadata": {
    "collapsed": false
   },
   "outputs": [],
   "source": [
    "new_names = []\n",
    "new_ids = []\n",
    "set_hood = set(names)\n",
    "for name, idd in zip(hoods, ids):\n",
    "    if name not in set_hood:\n",
    "        new_names.append(name)\n",
    "        new_ids.append(idd)\n"
   ]
  },
  {
   "cell_type": "code",
   "execution_count": 2,
   "metadata": {
    "collapsed": false
   },
   "outputs": [],
   "source": [
    "from scrape_yelp import ScrapeYelp\n"
   ]
  },
  {
   "cell_type": "code",
   "execution_count": null,
   "metadata": {
    "collapsed": false
   },
   "outputs": [],
   "source": [
    "sy = ScrapeYelp(hoods, ids, categories, prices)\n",
    "sy.scrape_GS()"
   ]
  },
  {
   "cell_type": "code",
   "execution_count": 15,
   "metadata": {
    "collapsed": false
   },
   "outputs": [],
   "source": [
    "df.drop('_id', axis = 1, inplace = True)\n",
    "df = df.drop_duplicates()"
   ]
  },
  {
   "cell_type": "code",
   "execution_count": 16,
   "metadata": {
    "collapsed": false
   },
   "outputs": [],
   "source": [
    "df['pages'] = df['pages'].astype(float)"
   ]
  },
  {
   "cell_type": "code",
   "execution_count": 17,
   "metadata": {
    "collapsed": false
   },
   "outputs": [],
   "source": [
    "df_g = pd.DataFrame(df.groupby(['hood', 'category', 'price']).sum()).reset_index()"
   ]
  },
  {
   "cell_type": "code",
   "execution_count": 18,
   "metadata": {
    "collapsed": true
   },
   "outputs": [],
   "source": [
    "df_g['col'] = df_g['category'] + '_' + df_g['price']"
   ]
  },
  {
   "cell_type": "code",
   "execution_count": 19,
   "metadata": {
    "collapsed": false
   },
   "outputs": [],
   "source": [
    "df_piv = df_g.pivot(index = 'hood', columns = 'col', values = 'pages')"
   ]
  },
  {
   "cell_type": "code",
   "execution_count": 24,
   "metadata": {
    "collapsed": false
   },
   "outputs": [
    {
     "name": "stdout",
     "output_type": "stream",
     "text": [
      "/Users/evansadler/Desktop/Project Files\n"
     ]
    }
   ],
   "source": [
    "cd .."
   ]
  },
  {
   "cell_type": "code",
   "execution_count": 25,
   "metadata": {
    "collapsed": false
   },
   "outputs": [
    {
     "name": "stdout",
     "output_type": "stream",
     "text": [
      "/Users/evansadler/Desktop/Project Files/Dimension Reduction\n"
     ]
    }
   ],
   "source": [
    "cd Dimension\\ Reduction"
   ]
  },
  {
   "cell_type": "code",
   "execution_count": 26,
   "metadata": {
    "collapsed": false
   },
   "outputs": [],
   "source": [
    "from pca_class import ReduceFeatures\n",
    "%matplotlib inline"
   ]
  },
  {
   "cell_type": "code",
   "execution_count": 84,
   "metadata": {
    "collapsed": false
   },
   "outputs": [],
   "source": [
    "for cat in ['active']:\n",
    "    df_piv[cat + '_0'] = df_piv[cat + '_all'] - df_piv[cat + '_4'] -df_piv[cat + '_3'] -df_piv[cat + '_2'] - df_piv[cat + '_1']"
   ]
  },
  {
   "cell_type": "code",
   "execution_count": 135,
   "metadata": {
    "collapsed": false
   },
   "outputs": [],
   "source": [
    "for cat in categories:\n",
    "    df_piv.drop(cat + '_all', axis = 1, inplace = True)\n",
    "\n",
    "df_piv.drop('active_4', axis = 1, inplace = True)\n",
    "df_piv.drop('active_0', axis = 1, inplace = True)\n"
   ]
  },
  {
   "cell_type": "code",
   "execution_count": 106,
   "metadata": {
    "collapsed": false
   },
   "outputs": [],
   "source": [
    "df_all = df_piv.ix[:, [x + '_all' for x in categories]]\n",
    "df_all.drop('active_all', axis = 1, inplace = True)\n"
   ]
  },
  {
   "cell_type": "code",
   "execution_count": 66,
   "metadata": {
    "collapsed": false
   },
   "outputs": [],
   "source": [
    "from sklearn.cluster import KMeans"
   ]
  },
  {
   "cell_type": "code",
   "execution_count": 107,
   "metadata": {
    "collapsed": false
   },
   "outputs": [
    {
     "name": "stdout",
     "output_type": "stream",
     "text": [
      "For n_clusters = 3 The average silhouette_score is : 0.657442686529\n",
      "For n_clusters = 4 The average silhouette_score is : 0.616079678826\n",
      "For n_clusters = 5 The average silhouette_score is : 0.621527905199\n",
      "For n_clusters = 6 The average silhouette_score is : 0.435774643996\n",
      "For n_clusters = 7 The average silhouette_score is : 0.432324887248\n",
      "For n_clusters = 8 The average silhouette_score is : 0.407488846487\n",
      "For n_clusters = 9 The average silhouette_score is : 0.405804268627\n",
      "For n_clusters = 10 The average silhouette_score is : 0.40978009814\n"
     ]
    }
   ],
   "source": [
    "rf = ReduceFeatures(df_all, list(df_all.index))\n",
    "rf.preprocessing(0)\n",
    "# rf.hcluster_cols(.1)\n",
    "# rf.preprocessing(0)\n",
    "#df_sp = rf.fit_pca(n_components = 3)\n",
    "rf.best_cluster()"
   ]
  },
  {
   "cell_type": "code",
   "execution_count": null,
   "metadata": {
    "collapsed": false
   },
   "outputs": [],
   "source": []
  },
  {
   "cell_type": "code",
   "execution_count": 112,
   "metadata": {
    "collapsed": false
   },
   "outputs": [
    {
     "data": {
      "text/html": [
       "<div>\n",
       "<table border=\"1\" class=\"dataframe\">\n",
       "  <thead>\n",
       "    <tr style=\"text-align: right;\">\n",
       "      <th></th>\n",
       "      <th>1</th>\n",
       "      <th>2</th>\n",
       "      <th>3</th>\n",
       "    </tr>\n",
       "  </thead>\n",
       "  <tbody>\n",
       "    <tr>\n",
       "      <th>restaurants_all</th>\n",
       "      <td>0.597498</td>\n",
       "      <td>0.187343</td>\n",
       "      <td>0.779679</td>\n",
       "    </tr>\n",
       "    <tr>\n",
       "      <th>shopping_all</th>\n",
       "      <td>0.577626</td>\n",
       "      <td>0.573859</td>\n",
       "      <td>-0.580545</td>\n",
       "    </tr>\n",
       "    <tr>\n",
       "      <th>nightlife_all</th>\n",
       "      <td>0.556187</td>\n",
       "      <td>-0.797238</td>\n",
       "      <td>-0.234666</td>\n",
       "    </tr>\n",
       "  </tbody>\n",
       "</table>\n",
       "</div>"
      ],
      "text/plain": [
       "                        1         2         3\n",
       "restaurants_all  0.597498  0.187343  0.779679\n",
       "shopping_all     0.577626  0.573859 -0.580545\n",
       "nightlife_all    0.556187 -0.797238 -0.234666"
      ]
     },
     "execution_count": 112,
     "metadata": {},
     "output_type": "execute_result"
    }
   ],
   "source": [
    "df_sp.sort(1, ascending = False)"
   ]
  },
  {
   "cell_type": "code",
   "execution_count": 108,
   "metadata": {
    "collapsed": false
   },
   "outputs": [
    {
     "data": {
      "image/png": "[encoded data removed]",
      "text/plain": [
       "<matplotlib.figure.Figure at 0x1099ae110>"
      ]
     },
     "metadata": {},
     "output_type": "display_data"
    }
   ],
   "source": [
    "rf.plot_embedding()"
   ]
  },
  {
   "cell_type": "code",
   "execution_count": 111,
   "metadata": {
    "collapsed": false
   },
   "outputs": [
    {
     "data": {
      "text/html": [
       "<div>\n",
       "<table border=\"1\" class=\"dataframe\">\n",
       "  <thead>\n",
       "    <tr style=\"text-align: right;\">\n",
       "      <th>col</th>\n",
       "      <th>nightlife_all</th>\n",
       "      <th>arts_all</th>\n",
       "      <th>restaurants_all</th>\n",
       "      <th>shopping_all</th>\n",
       "    </tr>\n",
       "    <tr>\n",
       "      <th>hood</th>\n",
       "      <th></th>\n",
       "      <th></th>\n",
       "      <th></th>\n",
       "      <th></th>\n",
       "    </tr>\n",
       "  </thead>\n",
       "  <tbody>\n",
       "    <tr>\n",
       "      <th>Pioneer Square</th>\n",
       "      <td>5</td>\n",
       "      <td>9</td>\n",
       "      <td>10</td>\n",
       "      <td>16</td>\n",
       "    </tr>\n",
       "  </tbody>\n",
       "</table>\n",
       "</div>"
      ],
      "text/plain": [
       "col             nightlife_all  arts_all  restaurants_all  shopping_all\n",
       "hood                                                                  \n",
       "Pioneer Square              5         9               10            16"
      ]
     },
     "execution_count": 111,
     "metadata": {},
     "output_type": "execute_result"
    }
   ],
   "source": [
    "df_all.ix[df_all.index == 'Pioneer Square', :]"
   ]
  },
  {
   "cell_type": "code",
   "execution_count": 234,
   "metadata": {
    "collapsed": false
   },
   "outputs": [
    {
     "data": {
      "text/plain": [
       "'15'"
      ]
     },
     "execution_count": 234,
     "metadata": {},
     "output_type": "execute_result"
    }
   ],
   "source": []
  },
  {
   "cell_type": "code",
   "execution_count": 8,
   "metadata": {
    "collapsed": false
   },
   "outputs": [],
   "source": [
    "with open('seattle.json', 'r') as f:\n",
    "    neibs = json.load(f)\n"
   ]
  },
  {
   "cell_type": "code",
   "execution_count": 198,
   "metadata": {
    "collapsed": false
   },
   "outputs": [],
   "source": [
    "hoods_new = []\n",
    "for i in neibs['features']:\n",
    "    hoods_new.append(i['properties']['NAME'])"
   ]
  },
  {
   "cell_type": "code",
   "execution_count": 4,
   "metadata": {
    "collapsed": false
   },
   "outputs": [],
   "source": [
    "df = pd.read_csv('demographics.csv')\n",
    "df = df.ix[:, ['name', 'id']]"
   ]
  },
  {
   "cell_type": "code",
   "execution_count": 3,
   "metadata": {
    "collapsed": false
   },
   "outputs": [],
   "source": [
    "with open('hood_list.txt', 'r') as f:\n",
    "    h = []\n",
    "    for i in f:\n",
    "        h.append(i.strip())"
   ]
  },
  {
   "cell_type": "code",
   "execution_count": 6,
   "metadata": {
    "collapsed": false
   },
   "outputs": [],
   "source": [
    "h = pd.DataFrame(h, columns = ['name'])"
   ]
  },
  {
   "cell_type": "code",
   "execution_count": 7,
   "metadata": {
    "collapsed": false
   },
   "outputs": [],
   "source": [
    "df_scrape = h.merge(df, on = 'name', how = 'left')"
   ]
  },
  {
   "cell_type": "code",
   "execution_count": null,
   "metadata": {
    "collapsed": false
   },
   "outputs": [],
   "source": []
  },
  {
   "cell_type": "code",
   "execution_count": 9,
   "metadata": {
    "collapsed": false
   },
   "outputs": [],
   "source": [
    "ids = df_scrape['id'].values\n",
    "hoods = df_scrape['name'].values\n",
    "\n",
    "categories = ['nightlife', 'arts', 'active','restaurants', 'shopping']\n",
    "prices = ['all']"
   ]
  },
  {
   "cell_type": "code",
   "execution_count": 197,
   "metadata": {
    "collapsed": true
   },
   "outputs": [],
   "source": [
    "from scrape_yelp import ScrapeYelp\n"
   ]
  },
  {
   "cell_type": "code",
   "execution_count": 12,
   "metadata": {
    "collapsed": false
   },
   "outputs": [],
   "source": [
    "sy = ScrapeYelp(hoods, ids, categories, prices)\n",
    "sy.scrape_GS()"
   ]
  },
  {
   "cell_type": "code",
   "execution_count": 218,
   "metadata": {
    "collapsed": false
   },
   "outputs": [
    {
     "data": {
      "text/plain": [
       "array(['Admiral', 'Alki', 'Arbor Heights', 'Atlantic', 'Ballard',\n",
       "       'Beacon Hill', 'Belltown', 'Bitter Lake', 'Blue Ridge', 'Brighton',\n",
       "       'Broadview', 'Bryant', 'Capitol Hill', 'Central District',\n",
       "       'Columbia City', 'Cottage Grove', 'Crown Hill', 'Denny Triangle',\n",
       "       'Denny-Blaine', 'Downtown', 'Eastlake', 'Fairmount Park',\n",
       "       'Fauntleroy', 'First Hill', 'Fremont', 'Gatewood', 'Genesee',\n",
       "       'Georgetown', 'Greenlake', 'Greenwood', 'Haller Lake',\n",
       "       'Hawthorne Hills', 'High Point', 'Highland Park', 'Hillman City',\n",
       "       'Industrial District', 'Interbay', 'International District',\n",
       "       'Junction', 'Laurelhurst', 'Leschi', 'Lichton Springs',\n",
       "       'Licton Springs', 'Lower Queen Anne', 'Loyal Heights',\n",
       "       'Madison Park', 'Madison Valley', 'Madrona', 'Magnolia',\n",
       "       'Mapleleaf', 'Montlake', 'Mount Baker', 'North Beach', 'Northgate',\n",
       "       'Olympic Hills', 'Olympic Manor', 'Phinney Ridge', 'Pigeon Point',\n",
       "       'Pinehurst', 'Pioneer Square', 'Portage Bay', 'Queen Anne',\n",
       "       'Rainier Beach', 'Ravenna', 'Riverview', 'Roosevelt', 'Roxhill',\n",
       "       'Sand Point', 'Seaview', 'Seward Park', 'Shorewood', 'Snake Hill',\n",
       "       'SoDo', 'South Lake Union', 'South Park', 'Sunset Hill',\n",
       "       'University District', 'Victory Heights', 'View Ridge',\n",
       "       'Wallingford', 'Washington Park', 'Waterfront', 'Wedgwood',\n",
       "       'Westlake', 'Westwood', 'White Center'], dtype=object)"
      ]
     },
     "execution_count": 218,
     "metadata": {},
     "output_type": "execute_result"
    }
   ],
   "source": []
  },
  {
   "cell_type": "code",
   "execution_count": null,
   "metadata": {
    "collapsed": true
   },
   "outputs": [],
   "source": []
  }
 ],
 "metadata": {
  "kernelspec": {
   "display_name": "Python 2",
   "language": "python",
   "name": "python2"
  },
  "language_info": {
   "codemirror_mode": {
    "name": "ipython",
    "version": 2
   },
   "file_extension": ".py",
   "mimetype": "text/x-python",
   "name": "python",
   "nbconvert_exporter": "python",
   "pygments_lexer": "ipython2",
   "version": "2.7.10"
  }
 },
 "nbformat": 4,
 "nbformat_minor": 0
}
