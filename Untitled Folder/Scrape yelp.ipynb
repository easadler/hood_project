{
 "cells": [
  {
   "cell_type": "code",
   "execution_count": 2,
   "metadata": {
    "collapsed": false
   },
   "outputs": [],
   "source": [
    "import pandas as pd \n",
    "import numpy as np\n",
    "from bs4 import BeautifulSoup\n",
    "import requests\n",
    "from pymongo import MongoClient\n",
    "import socks\n",
    "import socket\n",
    "import nose\n",
    "from fake_useragent import UserAgent\n",
    "import time\n",
    "from numpy.random import poisson"
   ]
  },
  {
   "cell_type": "code",
   "execution_count": 2,
   "metadata": {
    "collapsed": false
   },
   "outputs": [],
   "source": [
    "# get names of neighborhoods\n",
    "df_o = pd.read_csv('final_1.csv')\n",
    "hoods = df_o['hood'].values\n",
    "ids = df_o['id'].values\n",
    "categories = ['nightlife', 'arts', 'active','restaurants', 'shopping']\n",
    "#prices = ['1','2','3','4']\n",
    "# from scrape_yelp import ScrapeYelp\n",
    "# sy = ScrapeYelp(hoods, ids, categories, prices)\n",
    "# sy.scrape_GS()"
   ]
  },
  {
   "cell_type": "code",
   "execution_count": 50,
   "metadata": {
    "collapsed": false
   },
   "outputs": [],
   "source": [
    "client = MongoClient('localhost', 27017)\n",
    "db = client['hood_app']\n",
    "collection = db['yelp_scrape']"
   ]
  },
  {
   "cell_type": "code",
   "execution_count": 51,
   "metadata": {
    "collapsed": false
   },
   "outputs": [],
   "source": [
    "data = [c for c in collection.find({})]\n",
    "df = pd.DataFrame(data)\n",
    "    "
   ]
  },
  {
   "cell_type": "code",
   "execution_count": 52,
   "metadata": {
    "collapsed": false
   },
   "outputs": [],
   "source": [
    "df.drop('_id', axis = 1, inplace = True)\n",
    "df = df.drop_duplicates()"
   ]
  },
  {
   "cell_type": "code",
   "execution_count": 53,
   "metadata": {
    "collapsed": false
   },
   "outputs": [],
   "source": [
    "df['pages'] = df['pages'].astype(float)"
   ]
  },
  {
   "cell_type": "code",
   "execution_count": 54,
   "metadata": {
    "collapsed": false
   },
   "outputs": [],
   "source": [
    "df_g = pd.DataFrame(df.groupby(['hood', 'category', 'price']).sum()).reset_index()"
   ]
  },
  {
   "cell_type": "code",
   "execution_count": 55,
   "metadata": {
    "collapsed": true
   },
   "outputs": [],
   "source": [
    "df_g['col'] = df_g['category'] + '_' + df_g['price']"
   ]
  },
  {
   "cell_type": "code",
   "execution_count": 56,
   "metadata": {
    "collapsed": false
   },
   "outputs": [],
   "source": [
    "df_piv = df_g.pivot(index = 'hood', columns = 'col', values = 'pages')"
   ]
  },
  {
   "cell_type": "code",
   "execution_count": 57,
   "metadata": {
    "collapsed": false
   },
   "outputs": [
    {
     "name": "stdout",
     "output_type": "stream",
     "text": [
      "/Users/evansadler/Desktop/Project Files\n"
     ]
    }
   ],
   "source": [
    "cd .."
   ]
  },
  {
   "cell_type": "code",
   "execution_count": 58,
   "metadata": {
    "collapsed": false
   },
   "outputs": [
    {
     "name": "stdout",
     "output_type": "stream",
     "text": [
      "/Users/evansadler/Desktop/Project Files/Dimension Reduction\n"
     ]
    }
   ],
   "source": [
    "cd Dimension\\ Reduction"
   ]
  },
  {
   "cell_type": "code",
   "execution_count": 59,
   "metadata": {
    "collapsed": false
   },
   "outputs": [],
   "source": [
    "from pca_class import ReduceFeatures\n",
    "%matplotlib inline"
   ]
  },
  {
   "cell_type": "code",
   "execution_count": 60,
   "metadata": {
    "collapsed": false
   },
   "outputs": [],
   "source": [
    "df_piv.drop('active_all', axis = 1, inplace = True)\n"
   ]
  },
  {
   "cell_type": "code",
   "execution_count": 66,
   "metadata": {
    "collapsed": false
   },
   "outputs": [],
   "source": [
    "from sklearn.cluster import KMeans"
   ]
  },
  {
   "cell_type": "code",
   "execution_count": 94,
   "metadata": {
    "collapsed": false
   },
   "outputs": [
    {
     "name": "stdout",
     "output_type": "stream",
     "text": [
      "For n_clusters = 3 The average silhouette_score is : 0.689186972471\n",
      "For n_clusters = 4 The average silhouette_score is : 0.661908669278\n",
      "For n_clusters = 5 The average silhouette_score is : 0.661472261438\n",
      "For n_clusters = 6 The average silhouette_score is : 0.665653819948\n",
      "For n_clusters = 7 The average silhouette_score is : 0.475884997922\n",
      "For n_clusters = 8 The average silhouette_score is : 0.464008322272\n",
      "For n_clusters = 9 The average silhouette_score is : 0.436611211406\n",
      "For n_clusters = 10 The average silhouette_score is : 0.454586156315\n"
     ]
    }
   ],
   "source": [
    "rf = ReduceFeatures(df_piv, list(df_piv.index))\n",
    "rf.preprocessing(0)\n",
    "rf.hcluster_cols(.1)\n",
    "rf.preprocessing(0)\n",
    "df_sp = rf.sparse_pca(n_components = 3, alpha = 2)\n",
    "rf.best_cluster()"
   ]
  },
  {
   "cell_type": "code",
   "execution_count": 95,
   "metadata": {
    "collapsed": false
   },
   "outputs": [
    {
     "data": {
      "text/html": [
       "<div>\n",
       "<table border=\"1\" class=\"dataframe\">\n",
       "  <thead>\n",
       "    <tr style=\"text-align: right;\">\n",
       "      <th></th>\n",
       "      <th>1</th>\n",
       "      <th>2</th>\n",
       "      <th>3</th>\n",
       "    </tr>\n",
       "  </thead>\n",
       "  <tbody>\n",
       "    <tr>\n",
       "      <th>arts_all</th>\n",
       "      <td>0.000000</td>\n",
       "      <td>0.000000</td>\n",
       "      <td>-7.327379</td>\n",
       "    </tr>\n",
       "    <tr>\n",
       "      <th>nightlife_all</th>\n",
       "      <td>0.000000</td>\n",
       "      <td>-7.327379</td>\n",
       "      <td>0.000000</td>\n",
       "    </tr>\n",
       "    <tr>\n",
       "      <th>[u'restaurants_all' u'shopping_all']</th>\n",
       "      <td>-7.327379</td>\n",
       "      <td>0.000000</td>\n",
       "      <td>0.000000</td>\n",
       "    </tr>\n",
       "  </tbody>\n",
       "</table>\n",
       "</div>"
      ],
      "text/plain": [
       "                                             1         2         3\n",
       "arts_all                              0.000000  0.000000 -7.327379\n",
       "nightlife_all                         0.000000 -7.327379  0.000000\n",
       "[u'restaurants_all' u'shopping_all'] -7.327379  0.000000  0.000000"
      ]
     },
     "execution_count": 95,
     "metadata": {},
     "output_type": "execute_result"
    }
   ],
   "source": [
    "df_sp.sort(1, ascending = False)"
   ]
  },
  {
   "cell_type": "code",
   "execution_count": 69,
   "metadata": {
    "collapsed": false
   },
   "outputs": [
    {
     "data": {
      "image/png": "[encoded data removed]",
      "text/plain": [
       "<matplotlib.figure.Figure at 0x10a8fc450>"
      ]
     },
     "metadata": {},
     "output_type": "display_data"
    }
   ],
   "source": [
    "rf.plot_embedding()"
   ]
  },
  {
   "cell_type": "code",
   "execution_count": 91,
   "metadata": {
    "collapsed": false
   },
   "outputs": [],
   "source": [
    "df_yf = pd.DataFrame(rf.X, index = list(df_piv.index)).reset_index()\n",
    "df_yf.columns = ['hood','shopping-food','nightlife', 'art']\n"
   ]
  },
  {
   "cell_type": "code",
   "execution_count": 92,
   "metadata": {
    "collapsed": false
   },
   "outputs": [],
   "source": [
    "x = df_yf.ix[df_yf['hood'].isin(['Seaview','Junction']), :].mean()\n",
    "x['hood'] = 'West Seattle'\n",
    "df_yf = df_yf.append(x,ignore_index=True)\n",
    "\n",
    "x = df_yf.ix[df_yf['hood'] == 'Northgate', :].mean()\n",
    "x['hood'] = 'North College Park'\n",
    "df_yf = df_yf.append(x,ignore_index=True)\n",
    "\n",
    "\n",
    "\n",
    "df_yf.ix[df_yf['hood'] == 'Greenlake', 'hood'] = 'Green Lake'\n",
    "df_yf.ix[df_yf['hood'] == 'Mapleleaf', 'hood'] = 'Maple Leaf'\n",
    "\n"
   ]
  },
  {
   "cell_type": "code",
   "execution_count": 93,
   "metadata": {
    "collapsed": false
   },
   "outputs": [],
   "source": [
    "df_yf.to_csv('yelp_pca_data.csv', index = False)"
   ]
  },
  {
   "cell_type": "code",
   "execution_count": 89,
   "metadata": {
    "collapsed": false
   },
   "outputs": [
    {
     "data": {
      "text/html": [
       "<div>\n",
       "<table border=\"1\" class=\"dataframe\">\n",
       "  <thead>\n",
       "    <tr style=\"text-align: right;\">\n",
       "      <th></th>\n",
       "      <th>hood</th>\n",
       "      <th>shopping-food</th>\n",
       "      <th>nightlife</th>\n",
       "      <th>art</th>\n",
       "    </tr>\n",
       "  </thead>\n",
       "  <tbody>\n",
       "    <tr>\n",
       "      <th>0</th>\n",
       "      <td>Admiral</td>\n",
       "      <td>0.020001</td>\n",
       "      <td>0.011702</td>\n",
       "      <td>0.042006</td>\n",
       "    </tr>\n",
       "    <tr>\n",
       "      <th>1</th>\n",
       "      <td>Alki</td>\n",
       "      <td>0.038414</td>\n",
       "      <td>0.032803</td>\n",
       "      <td>0.056722</td>\n",
       "    </tr>\n",
       "    <tr>\n",
       "      <th>2</th>\n",
       "      <td>Arbor Heights</td>\n",
       "      <td>0.068270</td>\n",
       "      <td>0.059178</td>\n",
       "      <td>0.061628</td>\n",
       "    </tr>\n",
       "    <tr>\n",
       "      <th>3</th>\n",
       "      <td>Atlantic</td>\n",
       "      <td>0.031444</td>\n",
       "      <td>0.053903</td>\n",
       "      <td>0.056722</td>\n",
       "    </tr>\n",
       "    <tr>\n",
       "      <th>4</th>\n",
       "      <td>Ballard</td>\n",
       "      <td>-0.253811</td>\n",
       "      <td>-0.310078</td>\n",
       "      <td>-0.178738</td>\n",
       "    </tr>\n",
       "    <tr>\n",
       "      <th>5</th>\n",
       "      <td>Beacon Hill</td>\n",
       "      <td>-0.049643</td>\n",
       "      <td>0.038078</td>\n",
       "      <td>0.027290</td>\n",
       "    </tr>\n",
       "    <tr>\n",
       "      <th>6</th>\n",
       "      <td>Belltown</td>\n",
       "      <td>-0.121669</td>\n",
       "      <td>-0.204577</td>\n",
       "      <td>-0.178738</td>\n",
       "    </tr>\n",
       "    <tr>\n",
       "      <th>7</th>\n",
       "      <td>Bitter Lake</td>\n",
       "      <td>0.015703</td>\n",
       "      <td>0.048628</td>\n",
       "      <td>0.046912</td>\n",
       "    </tr>\n",
       "    <tr>\n",
       "      <th>8</th>\n",
       "      <td>Blue Ridge</td>\n",
       "      <td>0.068032</td>\n",
       "      <td>0.059178</td>\n",
       "      <td>0.066533</td>\n",
       "    </tr>\n",
       "    <tr>\n",
       "      <th>9</th>\n",
       "      <td>Brighton</td>\n",
       "      <td>0.045471</td>\n",
       "      <td>0.059178</td>\n",
       "      <td>0.066533</td>\n",
       "    </tr>\n",
       "    <tr>\n",
       "      <th>10</th>\n",
       "      <td>Broadview</td>\n",
       "      <td>0.046807</td>\n",
       "      <td>0.053903</td>\n",
       "      <td>0.056722</td>\n",
       "    </tr>\n",
       "    <tr>\n",
       "      <th>11</th>\n",
       "      <td>Bryant</td>\n",
       "      <td>0.062212</td>\n",
       "      <td>0.059178</td>\n",
       "      <td>0.061628</td>\n",
       "    </tr>\n",
       "    <tr>\n",
       "      <th>12</th>\n",
       "      <td>Capitol Hill</td>\n",
       "      <td>-0.285760</td>\n",
       "      <td>-0.626584</td>\n",
       "      <td>-0.325900</td>\n",
       "    </tr>\n",
       "    <tr>\n",
       "      <th>13</th>\n",
       "      <td>Central District</td>\n",
       "      <td>-0.036284</td>\n",
       "      <td>-0.099075</td>\n",
       "      <td>-0.080629</td>\n",
       "    </tr>\n",
       "    <tr>\n",
       "      <th>14</th>\n",
       "      <td>Columbia City</td>\n",
       "      <td>-0.002420</td>\n",
       "      <td>-0.046324</td>\n",
       "      <td>-0.031575</td>\n",
       "    </tr>\n",
       "    <tr>\n",
       "      <th>15</th>\n",
       "      <td>Cottage Grove</td>\n",
       "      <td>0.066888</td>\n",
       "      <td>0.059178</td>\n",
       "      <td>0.056722</td>\n",
       "    </tr>\n",
       "    <tr>\n",
       "      <th>16</th>\n",
       "      <td>Crown Hill</td>\n",
       "      <td>0.038124</td>\n",
       "      <td>0.048628</td>\n",
       "      <td>0.042006</td>\n",
       "    </tr>\n",
       "    <tr>\n",
       "      <th>17</th>\n",
       "      <td>Denny Triangle</td>\n",
       "      <td>-0.033902</td>\n",
       "      <td>-0.046324</td>\n",
       "      <td>-0.031575</td>\n",
       "    </tr>\n",
       "    <tr>\n",
       "      <th>18</th>\n",
       "      <td>Denny-Blaine</td>\n",
       "      <td>0.068938</td>\n",
       "      <td>0.059178</td>\n",
       "      <td>0.066533</td>\n",
       "    </tr>\n",
       "    <tr>\n",
       "      <th>19</th>\n",
       "      <td>Downtown</td>\n",
       "      <td>-0.725110</td>\n",
       "      <td>-0.362829</td>\n",
       "      <td>-0.522117</td>\n",
       "    </tr>\n",
       "    <tr>\n",
       "      <th>20</th>\n",
       "      <td>Eastlake</td>\n",
       "      <td>0.020001</td>\n",
       "      <td>0.016977</td>\n",
       "      <td>0.017479</td>\n",
       "    </tr>\n",
       "    <tr>\n",
       "      <th>21</th>\n",
       "      <td>Fairmount Park</td>\n",
       "      <td>0.031444</td>\n",
       "      <td>0.027527</td>\n",
       "      <td>0.027290</td>\n",
       "    </tr>\n",
       "    <tr>\n",
       "      <th>22</th>\n",
       "      <td>Fauntleroy</td>\n",
       "      <td>0.061259</td>\n",
       "      <td>0.059178</td>\n",
       "      <td>0.051817</td>\n",
       "    </tr>\n",
       "    <tr>\n",
       "      <th>23</th>\n",
       "      <td>First Hill</td>\n",
       "      <td>-0.049643</td>\n",
       "      <td>-0.099075</td>\n",
       "      <td>-0.080629</td>\n",
       "    </tr>\n",
       "    <tr>\n",
       "      <th>24</th>\n",
       "      <td>Fremont</td>\n",
       "      <td>-0.116905</td>\n",
       "      <td>-0.151826</td>\n",
       "      <td>-0.178738</td>\n",
       "    </tr>\n",
       "    <tr>\n",
       "      <th>25</th>\n",
       "      <td>Gatewood</td>\n",
       "      <td>0.047475</td>\n",
       "      <td>0.048628</td>\n",
       "      <td>0.046912</td>\n",
       "    </tr>\n",
       "    <tr>\n",
       "      <th>26</th>\n",
       "      <td>Genesee</td>\n",
       "      <td>0.063978</td>\n",
       "      <td>0.059178</td>\n",
       "      <td>0.061628</td>\n",
       "    </tr>\n",
       "    <tr>\n",
       "      <th>27</th>\n",
       "      <td>Georgetown</td>\n",
       "      <td>-0.107376</td>\n",
       "      <td>-0.046324</td>\n",
       "      <td>-0.129683</td>\n",
       "    </tr>\n",
       "    <tr>\n",
       "      <th>28</th>\n",
       "      <td>Green Lake</td>\n",
       "      <td>0.006642</td>\n",
       "      <td>0.016977</td>\n",
       "      <td>0.022384</td>\n",
       "    </tr>\n",
       "    <tr>\n",
       "      <th>29</th>\n",
       "      <td>Greenwood</td>\n",
       "      <td>-0.060620</td>\n",
       "      <td>-0.046324</td>\n",
       "      <td>-0.080629</td>\n",
       "    </tr>\n",
       "    <tr>\n",
       "      <th>...</th>\n",
       "      <td>...</td>\n",
       "      <td>...</td>\n",
       "      <td>...</td>\n",
       "      <td>...</td>\n",
       "    </tr>\n",
       "    <tr>\n",
       "      <th>65</th>\n",
       "      <td>Roosevelt</td>\n",
       "      <td>0.015703</td>\n",
       "      <td>0.027527</td>\n",
       "      <td>0.046912</td>\n",
       "    </tr>\n",
       "    <tr>\n",
       "      <th>66</th>\n",
       "      <td>Roxhill</td>\n",
       "      <td>0.031444</td>\n",
       "      <td>0.048628</td>\n",
       "      <td>0.046912</td>\n",
       "    </tr>\n",
       "    <tr>\n",
       "      <th>67</th>\n",
       "      <td>Sand Point</td>\n",
       "      <td>0.063739</td>\n",
       "      <td>0.059178</td>\n",
       "      <td>0.032195</td>\n",
       "    </tr>\n",
       "    <tr>\n",
       "      <th>68</th>\n",
       "      <td>Seaview</td>\n",
       "      <td>0.056584</td>\n",
       "      <td>0.043353</td>\n",
       "      <td>0.051817</td>\n",
       "    </tr>\n",
       "    <tr>\n",
       "      <th>69</th>\n",
       "      <td>Seward Park</td>\n",
       "      <td>0.057443</td>\n",
       "      <td>0.059178</td>\n",
       "      <td>0.056722</td>\n",
       "    </tr>\n",
       "    <tr>\n",
       "      <th>70</th>\n",
       "      <td>Shorewood</td>\n",
       "      <td>0.038124</td>\n",
       "      <td>0.059178</td>\n",
       "      <td>0.056722</td>\n",
       "    </tr>\n",
       "    <tr>\n",
       "      <th>71</th>\n",
       "      <td>Snake Hill</td>\n",
       "      <td>0.069606</td>\n",
       "      <td>0.059178</td>\n",
       "      <td>0.066533</td>\n",
       "    </tr>\n",
       "    <tr>\n",
       "      <th>72</th>\n",
       "      <td>SoDo</td>\n",
       "      <td>0.015703</td>\n",
       "      <td>-0.046324</td>\n",
       "      <td>-0.080629</td>\n",
       "    </tr>\n",
       "    <tr>\n",
       "      <th>73</th>\n",
       "      <td>South Lake Union</td>\n",
       "      <td>-0.065384</td>\n",
       "      <td>-0.099075</td>\n",
       "      <td>-0.080629</td>\n",
       "    </tr>\n",
       "    <tr>\n",
       "      <th>74</th>\n",
       "      <td>South Park</td>\n",
       "      <td>0.024765</td>\n",
       "      <td>0.053903</td>\n",
       "      <td>0.037101</td>\n",
       "    </tr>\n",
       "    <tr>\n",
       "      <th>75</th>\n",
       "      <td>Sunset Hill</td>\n",
       "      <td>0.044803</td>\n",
       "      <td>0.038078</td>\n",
       "      <td>0.032195</td>\n",
       "    </tr>\n",
       "    <tr>\n",
       "      <th>76</th>\n",
       "      <td>University District</td>\n",
       "      <td>-0.249513</td>\n",
       "      <td>-0.151826</td>\n",
       "      <td>-0.178738</td>\n",
       "    </tr>\n",
       "    <tr>\n",
       "      <th>77</th>\n",
       "      <td>Victory Heights</td>\n",
       "      <td>0.066934</td>\n",
       "      <td>0.059178</td>\n",
       "      <td>0.061628</td>\n",
       "    </tr>\n",
       "    <tr>\n",
       "      <th>78</th>\n",
       "      <td>View Ridge</td>\n",
       "      <td>0.067364</td>\n",
       "      <td>0.059178</td>\n",
       "      <td>0.056722</td>\n",
       "    </tr>\n",
       "    <tr>\n",
       "      <th>79</th>\n",
       "      <td>Wallingford</td>\n",
       "      <td>-0.076361</td>\n",
       "      <td>-0.046324</td>\n",
       "      <td>-0.031575</td>\n",
       "    </tr>\n",
       "    <tr>\n",
       "      <th>80</th>\n",
       "      <td>Washington Park</td>\n",
       "      <td>0.067126</td>\n",
       "      <td>0.059178</td>\n",
       "      <td>0.066533</td>\n",
       "    </tr>\n",
       "    <tr>\n",
       "      <th>81</th>\n",
       "      <td>Waterfront</td>\n",
       "      <td>0.029062</td>\n",
       "      <td>0.038078</td>\n",
       "      <td>0.042006</td>\n",
       "    </tr>\n",
       "    <tr>\n",
       "      <th>82</th>\n",
       "      <td>Wedgwood</td>\n",
       "      <td>0.038124</td>\n",
       "      <td>0.022252</td>\n",
       "      <td>0.032195</td>\n",
       "    </tr>\n",
       "    <tr>\n",
       "      <th>83</th>\n",
       "      <td>Westlake</td>\n",
       "      <td>0.022383</td>\n",
       "      <td>0.038078</td>\n",
       "      <td>-0.031575</td>\n",
       "    </tr>\n",
       "    <tr>\n",
       "      <th>84</th>\n",
       "      <td>Westwood</td>\n",
       "      <td>0.058158</td>\n",
       "      <td>0.053903</td>\n",
       "      <td>0.061628</td>\n",
       "    </tr>\n",
       "    <tr>\n",
       "      <th>85</th>\n",
       "      <td>White Center</td>\n",
       "      <td>-0.018161</td>\n",
       "      <td>-0.046324</td>\n",
       "      <td>0.017479</td>\n",
       "    </tr>\n",
       "    <tr>\n",
       "      <th>86</th>\n",
       "      <td>Windermere</td>\n",
       "      <td>0.067794</td>\n",
       "      <td>0.059178</td>\n",
       "      <td>0.066533</td>\n",
       "    </tr>\n",
       "    <tr>\n",
       "      <th>87</th>\n",
       "      <td>West Seattle</td>\n",
       "      <td>0.024933</td>\n",
       "      <td>0.024890</td>\n",
       "      <td>0.034648</td>\n",
       "    </tr>\n",
       "    <tr>\n",
       "      <th>88</th>\n",
       "      <td>North College Park</td>\n",
       "      <td>-0.066833</td>\n",
       "      <td>0.053903</td>\n",
       "      <td>0.042006</td>\n",
       "    </tr>\n",
       "    <tr>\n",
       "      <th>89</th>\n",
       "      <td>West Seattle</td>\n",
       "      <td>0.024933</td>\n",
       "      <td>0.024890</td>\n",
       "      <td>0.034648</td>\n",
       "    </tr>\n",
       "    <tr>\n",
       "      <th>90</th>\n",
       "      <td>North College Park</td>\n",
       "      <td>-0.066833</td>\n",
       "      <td>0.053903</td>\n",
       "      <td>0.042006</td>\n",
       "    </tr>\n",
       "    <tr>\n",
       "      <th>91</th>\n",
       "      <td>West Seattle</td>\n",
       "      <td>0.024933</td>\n",
       "      <td>0.024890</td>\n",
       "      <td>0.034648</td>\n",
       "    </tr>\n",
       "    <tr>\n",
       "      <th>92</th>\n",
       "      <td>North College Park</td>\n",
       "      <td>-0.066833</td>\n",
       "      <td>0.053903</td>\n",
       "      <td>0.042006</td>\n",
       "    </tr>\n",
       "    <tr>\n",
       "      <th>93</th>\n",
       "      <td>West Seattle</td>\n",
       "      <td>0.024933</td>\n",
       "      <td>0.024890</td>\n",
       "      <td>0.034648</td>\n",
       "    </tr>\n",
       "    <tr>\n",
       "      <th>94</th>\n",
       "      <td>North College Park</td>\n",
       "      <td>-0.066833</td>\n",
       "      <td>0.053903</td>\n",
       "      <td>0.042006</td>\n",
       "    </tr>\n",
       "  </tbody>\n",
       "</table>\n",
       "<p>95 rows × 4 columns</p>\n",
       "</div>"
      ],
      "text/plain": [
       "                   hood  shopping-food  nightlife       art\n",
       "0               Admiral       0.020001   0.011702  0.042006\n",
       "1                  Alki       0.038414   0.032803  0.056722\n",
       "2         Arbor Heights       0.068270   0.059178  0.061628\n",
       "3              Atlantic       0.031444   0.053903  0.056722\n",
       "4               Ballard      -0.253811  -0.310078 -0.178738\n",
       "5           Beacon Hill      -0.049643   0.038078  0.027290\n",
       "6              Belltown      -0.121669  -0.204577 -0.178738\n",
       "7           Bitter Lake       0.015703   0.048628  0.046912\n",
       "8            Blue Ridge       0.068032   0.059178  0.066533\n",
       "9              Brighton       0.045471   0.059178  0.066533\n",
       "10            Broadview       0.046807   0.053903  0.056722\n",
       "11               Bryant       0.062212   0.059178  0.061628\n",
       "12         Capitol Hill      -0.285760  -0.626584 -0.325900\n",
       "13     Central District      -0.036284  -0.099075 -0.080629\n",
       "14        Columbia City      -0.002420  -0.046324 -0.031575\n",
       "15        Cottage Grove       0.066888   0.059178  0.056722\n",
       "16           Crown Hill       0.038124   0.048628  0.042006\n",
       "17       Denny Triangle      -0.033902  -0.046324 -0.031575\n",
       "18         Denny-Blaine       0.068938   0.059178  0.066533\n",
       "19             Downtown      -0.725110  -0.362829 -0.522117\n",
       "20             Eastlake       0.020001   0.016977  0.017479\n",
       "21       Fairmount Park       0.031444   0.027527  0.027290\n",
       "22           Fauntleroy       0.061259   0.059178  0.051817\n",
       "23           First Hill      -0.049643  -0.099075 -0.080629\n",
       "24              Fremont      -0.116905  -0.151826 -0.178738\n",
       "25             Gatewood       0.047475   0.048628  0.046912\n",
       "26              Genesee       0.063978   0.059178  0.061628\n",
       "27           Georgetown      -0.107376  -0.046324 -0.129683\n",
       "28           Green Lake       0.006642   0.016977  0.022384\n",
       "29            Greenwood      -0.060620  -0.046324 -0.080629\n",
       "..                  ...            ...        ...       ...\n",
       "65            Roosevelt       0.015703   0.027527  0.046912\n",
       "66              Roxhill       0.031444   0.048628  0.046912\n",
       "67           Sand Point       0.063739   0.059178  0.032195\n",
       "68              Seaview       0.056584   0.043353  0.051817\n",
       "69          Seward Park       0.057443   0.059178  0.056722\n",
       "70            Shorewood       0.038124   0.059178  0.056722\n",
       "71           Snake Hill       0.069606   0.059178  0.066533\n",
       "72                 SoDo       0.015703  -0.046324 -0.080629\n",
       "73     South Lake Union      -0.065384  -0.099075 -0.080629\n",
       "74           South Park       0.024765   0.053903  0.037101\n",
       "75          Sunset Hill       0.044803   0.038078  0.032195\n",
       "76  University District      -0.249513  -0.151826 -0.178738\n",
       "77      Victory Heights       0.066934   0.059178  0.061628\n",
       "78           View Ridge       0.067364   0.059178  0.056722\n",
       "79          Wallingford      -0.076361  -0.046324 -0.031575\n",
       "80      Washington Park       0.067126   0.059178  0.066533\n",
       "81           Waterfront       0.029062   0.038078  0.042006\n",
       "82             Wedgwood       0.038124   0.022252  0.032195\n",
       "83             Westlake       0.022383   0.038078 -0.031575\n",
       "84             Westwood       0.058158   0.053903  0.061628\n",
       "85         White Center      -0.018161  -0.046324  0.017479\n",
       "86           Windermere       0.067794   0.059178  0.066533\n",
       "87         West Seattle       0.024933   0.024890  0.034648\n",
       "88   North College Park      -0.066833   0.053903  0.042006\n",
       "89         West Seattle       0.024933   0.024890  0.034648\n",
       "90   North College Park      -0.066833   0.053903  0.042006\n",
       "91         West Seattle       0.024933   0.024890  0.034648\n",
       "92   North College Park      -0.066833   0.053903  0.042006\n",
       "93         West Seattle       0.024933   0.024890  0.034648\n",
       "94   North College Park      -0.066833   0.053903  0.042006\n",
       "\n",
       "[95 rows x 4 columns]"
      ]
     },
     "execution_count": 89,
     "metadata": {},
     "output_type": "execute_result"
    }
   ],
   "source": [
    "df_yf"
   ]
  },
  {
   "cell_type": "code",
   "execution_count": 4,
   "metadata": {
    "collapsed": false
   },
   "outputs": [],
   "source": [
    "# accidentally deleted, but get list of hoods from csv and parse\n",
    "# Then get ids from demographic data, some will be missing (doesn't matter)"
   ]
  },
  {
   "cell_type": "code",
   "execution_count": 49,
   "metadata": {
    "collapsed": false
   },
   "outputs": [],
   "source": [
    "from scrape_yelp import ScrapeYelp\n",
    "categories = ['nightlife', 'arts','restaurants', 'shopping']\n",
    "prices = ['all']\n",
    "\n",
    "sy = ScrapeYelp(['Windermere'], [10498281], categories, prices)\n",
    "sy.scrape_GS()"
   ]
  },
  {
   "cell_type": "code",
   "execution_count": null,
   "metadata": {
    "collapsed": true
   },
   "outputs": [],
   "source": []
  }
 ],
 "metadata": {
  "kernelspec": {
   "display_name": "Python 2",
   "language": "python",
   "name": "python2"
  },
  "language_info": {
   "codemirror_mode": {
    "name": "ipython",
    "version": 2
   },
   "file_extension": ".py",
   "mimetype": "text/x-python",
   "name": "python",
   "nbconvert_exporter": "python",
   "pygments_lexer": "ipython2",
   "version": "2.7.10"
  }
 },
 "nbformat": 4,
 "nbformat_minor": 0
}
