{
 "cells": [
  {
   "cell_type": "code",
   "execution_count": 108,
   "metadata": {
    "collapsed": false
   },
   "outputs": [],
   "source": [
    "import site\n",
    "site.addsitedir('/anaconda/lib/python2.7/site-packages')\n",
    "import pandas as pd \n",
    "import numpy as np \n",
    "from pymongo import MongoClient\n",
    "\n",
    "\n",
    "city = 'Seattle'\n",
    "state = 'WA'\n",
    "client = MongoClient('localhost', 27017)\n",
    "db = client['neighborhood_recommender']\n",
    "yelp_collection = db['yelp_data' + '_' + city + '_' + state]\n",
    "hoods = db['hood_data_Seattle_WA']\n",
    "cursor = yelp_collection.find()\n",
    "\n",
    "data = [hood for hood in cursor]\n",
    "\n",
    "df = pd.DataFrame(data)\n",
    "\n",
    "d = hoods.find()\n",
    "hoods = [hood for hood in d]\n"
   ]
  },
  {
   "cell_type": "code",
   "execution_count": 109,
   "metadata": {
    "collapsed": false
   },
   "outputs": [],
   "source": [
    "df_h = pd.DataFrame(hoods)\n",
    "\n",
    "dff = pd.merge(df_h, df, left_on ='id', right_on = 'hood_id')\n",
    "\n",
    "\n"
   ]
  },
  {
   "cell_type": "code",
   "execution_count": 123,
   "metadata": {
    "collapsed": false
   },
   "outputs": [
    {
     "data": {
      "text/plain": [
       "name_x\n",
       "Admiral                20\n",
       "Alki                   20\n",
       "Atlantic               20\n",
       "Ballard                20\n",
       "Beacon Hill            20\n",
       "Belltown               20\n",
       "Bitter Lake            20\n",
       "Blue Ridge             20\n",
       "Briarcliff             20\n",
       "Broadmoor              20\n",
       "Broadview              20\n",
       "Broadway               20\n",
       "Bryant                 20\n",
       "Capitol Hill           20\n",
       "Cascade                20\n",
       "Cedar Park             20\n",
       "Central                20\n",
       "Columbia City          20\n",
       "Crown Hill             19\n",
       "Denny Triangle         20\n",
       "Downtown               20\n",
       "Dunlap                 20\n",
       "East Queen Anne        20\n",
       "Eastlake               20\n",
       "Fairmount Park         20\n",
       "Fauntleroy              1\n",
       "First Hill             20\n",
       "Fremont                20\n",
       "Garfield               20\n",
       "Gatewood               14\n",
       "                       ..\n",
       "Pioneer Square         20\n",
       "Portage Bay            20\n",
       "Rainier Beach          20\n",
       "Rainier View           20\n",
       "Ravenna                20\n",
       "Riverview              20\n",
       "Roosevelt              20\n",
       "Roxhill                17\n",
       "Sand Point             20\n",
       "Seaview                20\n",
       "Seward Park            20\n",
       "South Beacon Hill      20\n",
       "South Delridge         20\n",
       "South Lake Union       20\n",
       "South Park             20\n",
       "Sunset Hill            20\n",
       "University District    20\n",
       "Uptown                 20\n",
       "Victory Heights         2\n",
       "View Ridge             20\n",
       "Wallingford            20\n",
       "Waterfront             20\n",
       "Wedgwood               20\n",
       "West Queen Anne        20\n",
       "West Woodland          20\n",
       "Westlake               20\n",
       "Whittier Heights       20\n",
       "Windermere             20\n",
       "Woodland               20\n",
       "Yesler Terrace         20\n",
       "Name: id_y, dtype: int64"
      ]
     },
     "execution_count": 123,
     "metadata": {},
     "output_type": "execute_result"
    }
   ],
   "source": [
    "z = dff.groupby(['name_x'])['id_y'].count()\n",
    "z"
   ]
  },
  {
   "cell_type": "code",
   "execution_count": 125,
   "metadata": {
    "collapsed": false
   },
   "outputs": [
    {
     "data": {
      "text/plain": [
       "1705                        kendalls-dj-and-event-seattle\n",
       "1706                         time-out-sports-bar-kirkland\n",
       "1707                                        liams-seattle\n",
       "1708                                     eureka-seattle-4\n",
       "1709                              brix-wine-cafe-kirkland\n",
       "1710                                 juanita-pub-kirkland\n",
       "1711                              elemental-pizza-seattle\n",
       "1712                     the-lodge-sports-grille-kirkland\n",
       "1713           joey-kitchen-at-university-village-seattle\n",
       "1714                            tiki-joes-wetbar-kirkland\n",
       "1715             mamma-melina-ristorante-pizzeria-seattle\n",
       "1716                                     wet-bar-kirkland\n",
       "1717                 lake-street-bar-and-grill-kirkland-2\n",
       "1718                              emerald-garden-kirkland\n",
       "1719                                 karaoke-kurt-seattle\n",
       "1720    alaska-airlines-arena-at-hec-edmundson-pavilio...\n",
       "1721                                dj-doug-friday-harbor\n",
       "1722                               hub-games-area-seattle\n",
       "1723                     seattle-guitar-teacher-seattle-2\n",
       "1724                         feel-good-productions-renton\n",
       "Name: id_y, dtype: object"
      ]
     },
     "execution_count": 125,
     "metadata": {},
     "output_type": "execute_result"
    }
   ],
   "source": [
    "dff.ix[dff['name_x'] == 'Sand Point', 'id_y']"
   ]
  },
  {
   "cell_type": "code",
   "execution_count": 14,
   "metadata": {
    "collapsed": false
   },
   "outputs": [],
   "source": [
    "x = df['categories'].value_counts()"
   ]
  },
  {
   "cell_type": "code",
   "execution_count": 15,
   "metadata": {
    "collapsed": true
   },
   "outputs": [],
   "source": [
    "import matplotlib.pyplot as plt\n",
    "%matplotlib inline"
   ]
  },
  {
   "cell_type": "code",
   "execution_count": 26,
   "metadata": {
    "collapsed": false
   },
   "outputs": [
    {
     "data": {
      "text/plain": [
       "(0, 150)"
      ]
     },
     "execution_count": 26,
     "metadata": {},
     "output_type": "execute_result"
    },
    {
     "data": {
      "image/png": "[encoded data removed]",
      "text/plain": [
       "<matplotlib.figure.Figure at 0x124dff410>"
      ]
     },
     "metadata": {},
     "output_type": "display_data"
    }
   ],
   "source": [
    "plt.hist(x.values, bins = 1000)\n",
    "plt.xlim([0,150])"
   ]
  },
  {
   "cell_type": "code",
   "execution_count": 27,
   "metadata": {
    "collapsed": false
   },
   "outputs": [
    {
     "data": {
      "text/plain": [
       "[[Delis, delis], [Italian, italian], [Gluten-Free, gluten_free]]                                 1\n",
       "[[Cajun/Creole, cajun], [Chinese, chinese]]                                                      1\n",
       "[[Hot Dogs, hotdog], [German, german], [Gastropubs, gastropubs]]                                 1\n",
       "[[Latin American, latin], [Ethnic Food, ethnicmarkets]]                                          1\n",
       "[[Sandwiches, sandwiches], [Breakfast & Brunch, breakfast_brunch], [Burgers, burgers]]           1\n",
       "[[Ice Cream & Frozen Yogurt, icecream], [Sandwiches, sandwiches], [Pop-up Shops, popupshops]]    1\n",
       "[[Italian, italian], [Wine Bars, wine_bars], [Desserts, desserts]]                               1\n",
       "[[Breakfast & Brunch, breakfast_brunch], [Mexican, mexican], [Burgers, burgers]]                 1\n",
       "[[Juice Bars & Smoothies, juicebars], [Gluten-Free, gluten_free]]                                1\n",
       "[[Comfort Food, comfortfood], [Barbeque, bbq]]                                                   1\n",
       "[[American (New), newamerican], [Latin American, latin]]                                         1\n",
       "[[Salad, salad], [Burgers, burgers], [Bars, bars]]                                               1\n",
       "[[Italian, italian], [Comfort Food, comfortfood], [Asian Fusion, asianfusion]]                   1\n",
       "[[Chicken Wings, chicken_wings], [Barbeque, bbq], [Dive Bars, divebars]]                         1\n",
       "[[Party & Event Planning, eventplanning], [American (Traditional), tradamerican]]                1\n",
       "[[Sandwiches, sandwiches], [Delis, delis], [Fast Food, hotdogs]]                                 1\n",
       "[[Vietnamese, vietnamese], [Thai, thai], [Chinese, chinese]]                                     1\n",
       "[[Mexican, mexican], [American (Traditional), tradamerican]]                                     1\n",
       "[[Bagels, bagels], [Coffee & Tea, coffee], [Sandwiches, sandwiches]]                             1\n",
       "[[Indian, indpak], [Gluten-Free, gluten_free], [Vegan, vegan]]                                   1\n",
       "[[Mexican, mexican], [Beer, Wine & Spirits, beer_and_wine]]                                      1\n",
       "[[American (Traditional), tradamerican], [Greek, greek], [Mediterranean, mediterranean]]         1\n",
       "[[Chinese, chinese], [Thai, thai], [Vietnamese, vietnamese]]                                     1\n",
       "[[Mediterranean, mediterranean], [Greek, greek], [Middle Eastern, mideastern]]                   1\n",
       "[[Food Trucks, foodtrucks], [Caterers, catering], [Cajun/Creole, cajun]]                         1\n",
       "[[Italian, italian], [Pizza, pizza], [Seafood, seafood]]                                         1\n",
       "[[Delis, delis], [Bagels, bagels]]                                                               1\n",
       "[[American (Traditional), tradamerican], [Burgers, burgers], [Hot Dogs, hotdog]]                 1\n",
       "[[Mediterranean, mediterranean], [Steakhouses, steak]]                                           1\n",
       "[[American (New), newamerican], [Vegan, vegan], [Burgers, burgers]]                              1\n",
       "                                                                                                ..\n",
       "[[Japanese, japanese], [Steakhouses, steak]]                                                     1\n",
       "[[Greek, greek], [Sandwiches, sandwiches]]                                                       1\n",
       "[[Chinese, chinese], [American (New), newamerican], [Korean, korean]]                            1\n",
       "[[American (New), newamerican], [Chinese, chinese]]                                              1\n",
       "[[Japanese, japanese], [Mexican, mexican]]                                                       1\n",
       "[[Hot Dogs, hotdog], [Food Trucks, foodtrucks], [Mediterranean, mediterranean]]                  1\n",
       "[[Indian, indpak], [Pakistani, pakistani], [Buffets, buffets]]                                   1\n",
       "[[French, french], [Bakeries, bakeries], [Vietnamese, vietnamese]]                               1\n",
       "[[Juice Bars & Smoothies, juicebars], [Tea Rooms, tea], [Vietnamese, vietnamese]]                1\n",
       "[[Vietnamese, vietnamese], [Food, food]]                                                         1\n",
       "[[Bakeries, bakeries], [Coffee & Tea, coffee], [Vietnamese, vietnamese]]                         1\n",
       "[[Desserts, desserts], [Salad, salad], [Sandwiches, sandwiches]]                                 1\n",
       "[[Bubble Tea, bubbletea], [Specialty Food, gourmet], [Vietnamese, vietnamese]]                   1\n",
       "[[Vietnamese, vietnamese], [Bakeries, bakeries], [Sandwiches, sandwiches]]                       1\n",
       "[[Chinese, chinese], [Vietnamese, vietnamese], [Cambodian, cambodian]]                           1\n",
       "[[Chinese, chinese], [Caterers, catering], [Venues & Event Spaces, venues]]                      1\n",
       "[[Specialty Food, gourmet], [Vegetarian, vegetarian]]                                            1\n",
       "[[Vietnamese, vietnamese], [Asian Fusion, asianfusion], [Do-It-Yourself Food, diyfood]]          1\n",
       "[[Southern, southern], [Barbeque, bbq]]                                                          1\n",
       "[[Vietnamese, vietnamese], [Dim Sum, dimsum]]                                                    1\n",
       "[[Vietnamese, vietnamese], [Seafood, seafood], [Hot Pot, hotpot]]                                1\n",
       "[[Donuts, donuts], [Sandwiches, sandwiches]]                                                     1\n",
       "[[Desserts, desserts], [Creperies, creperies], [Coffee & Tea, coffee]]                           1\n",
       "[[Vegan, vegan], [Live/Raw Food, raw_food]]                                                      1\n",
       "[[American (Traditional), tradamerican], [Pizza, pizza], [Chicken Wings, chicken_wings]]         1\n",
       "[[Italian, italian], [Cafes, cafes], [Delis, delis]]                                             1\n",
       "[[Seafood, seafood], [Asian Fusion, asianfusion], [Cajun/Creole, cajun]]                         1\n",
       "[[Bars, bars], [Chinese, chinese], [Vietnamese, vietnamese]]                                     1\n",
       "[[Performing Arts, theater], [Cinema, movietheaters], [Music Venues, musicvenues]]               1\n",
       "[[Venues & Event Spaces, venues], [Bars, bars], [Museums, museums]]                              1\n",
       "dtype: int64"
      ]
     },
     "execution_count": 27,
     "metadata": {},
     "output_type": "execute_result"
    }
   ],
   "source": [
    "x[-200:-100]"
   ]
  },
  {
   "cell_type": "code",
   "execution_count": 46,
   "metadata": {
    "collapsed": false
   },
   "outputs": [
    {
     "data": {
      "text/plain": [
       "42333"
      ]
     },
     "execution_count": 46,
     "metadata": {},
     "output_type": "execute_result"
    }
   ],
   "source": [
    "df.ix[df['categories'] == \"[[u'Bars', u'bars']]\", 'name'].value_counts()"
   ]
  },
  {
   "cell_type": "code",
   "execution_count": 53,
   "metadata": {
    "collapsed": false
   },
   "outputs": [],
   "source": [
    "df['categories'] = df['categories'].astype(str)"
   ]
  },
  {
   "cell_type": "code",
   "execution_count": 54,
   "metadata": {
    "collapsed": false
   },
   "outputs": [
    {
     "ename": "TypeError",
     "evalue": "unhashable type: 'list'",
     "output_type": "error",
     "traceback": [
      "\u001b[0;31m---------------------------------------------------------------------------\u001b[0m",
      "\u001b[0;31mTypeError\u001b[0m                                 Traceback (most recent call last)",
      "\u001b[0;32m<ipython-input-54-daf275b6788b>\u001b[0m in \u001b[0;36m<module>\u001b[0;34m()\u001b[0m\n\u001b[0;32m----> 1\u001b[0;31m \u001b[0mdf\u001b[0m\u001b[0;34m.\u001b[0m\u001b[0mdrop_duplicates\u001b[0m\u001b[0;34m(\u001b[0m\u001b[0;34m)\u001b[0m\u001b[0;34m\u001b[0m\u001b[0m\n\u001b[0m",
      "\u001b[0;32m//anaconda/lib/python2.7/site-packages/pandas/util/decorators.pyc\u001b[0m in \u001b[0;36mwrapper\u001b[0;34m(*args, **kwargs)\u001b[0m\n\u001b[1;32m     86\u001b[0m                 \u001b[0;32melse\u001b[0m\u001b[0;34m:\u001b[0m\u001b[0;34m\u001b[0m\u001b[0m\n\u001b[1;32m     87\u001b[0m                     \u001b[0mkwargs\u001b[0m\u001b[0;34m[\u001b[0m\u001b[0mnew_arg_name\u001b[0m\u001b[0;34m]\u001b[0m \u001b[0;34m=\u001b[0m \u001b[0mnew_arg_value\u001b[0m\u001b[0;34m\u001b[0m\u001b[0m\n\u001b[0;32m---> 88\u001b[0;31m             \u001b[0;32mreturn\u001b[0m \u001b[0mfunc\u001b[0m\u001b[0;34m(\u001b[0m\u001b[0;34m*\u001b[0m\u001b[0margs\u001b[0m\u001b[0;34m,\u001b[0m \u001b[0;34m**\u001b[0m\u001b[0mkwargs\u001b[0m\u001b[0;34m)\u001b[0m\u001b[0;34m\u001b[0m\u001b[0m\n\u001b[0m\u001b[1;32m     89\u001b[0m         \u001b[0;32mreturn\u001b[0m \u001b[0mwrapper\u001b[0m\u001b[0;34m\u001b[0m\u001b[0m\n\u001b[1;32m     90\u001b[0m     \u001b[0;32mreturn\u001b[0m \u001b[0m_deprecate_kwarg\u001b[0m\u001b[0;34m\u001b[0m\u001b[0m\n",
      "\u001b[0;32m//anaconda/lib/python2.7/site-packages/pandas/core/frame.pyc\u001b[0m in \u001b[0;36mdrop_duplicates\u001b[0;34m(self, subset, take_last, inplace)\u001b[0m\n\u001b[1;32m   2826\u001b[0m         \u001b[0mdeduplicated\u001b[0m \u001b[0;34m:\u001b[0m \u001b[0mDataFrame\u001b[0m\u001b[0;34m\u001b[0m\u001b[0m\n\u001b[1;32m   2827\u001b[0m         \"\"\"\n\u001b[0;32m-> 2828\u001b[0;31m         \u001b[0mduplicated\u001b[0m \u001b[0;34m=\u001b[0m \u001b[0mself\u001b[0m\u001b[0;34m.\u001b[0m\u001b[0mduplicated\u001b[0m\u001b[0;34m(\u001b[0m\u001b[0msubset\u001b[0m\u001b[0;34m,\u001b[0m \u001b[0mtake_last\u001b[0m\u001b[0;34m=\u001b[0m\u001b[0mtake_last\u001b[0m\u001b[0;34m)\u001b[0m\u001b[0;34m\u001b[0m\u001b[0m\n\u001b[0m\u001b[1;32m   2829\u001b[0m \u001b[0;34m\u001b[0m\u001b[0m\n\u001b[1;32m   2830\u001b[0m         \u001b[0;32mif\u001b[0m \u001b[0minplace\u001b[0m\u001b[0;34m:\u001b[0m\u001b[0;34m\u001b[0m\u001b[0m\n",
      "\u001b[0;32m//anaconda/lib/python2.7/site-packages/pandas/util/decorators.pyc\u001b[0m in \u001b[0;36mwrapper\u001b[0;34m(*args, **kwargs)\u001b[0m\n\u001b[1;32m     86\u001b[0m                 \u001b[0;32melse\u001b[0m\u001b[0;34m:\u001b[0m\u001b[0;34m\u001b[0m\u001b[0m\n\u001b[1;32m     87\u001b[0m                     \u001b[0mkwargs\u001b[0m\u001b[0;34m[\u001b[0m\u001b[0mnew_arg_name\u001b[0m\u001b[0;34m]\u001b[0m \u001b[0;34m=\u001b[0m \u001b[0mnew_arg_value\u001b[0m\u001b[0;34m\u001b[0m\u001b[0m\n\u001b[0;32m---> 88\u001b[0;31m             \u001b[0;32mreturn\u001b[0m \u001b[0mfunc\u001b[0m\u001b[0;34m(\u001b[0m\u001b[0;34m*\u001b[0m\u001b[0margs\u001b[0m\u001b[0;34m,\u001b[0m \u001b[0;34m**\u001b[0m\u001b[0mkwargs\u001b[0m\u001b[0;34m)\u001b[0m\u001b[0;34m\u001b[0m\u001b[0m\n\u001b[0m\u001b[1;32m     89\u001b[0m         \u001b[0;32mreturn\u001b[0m \u001b[0mwrapper\u001b[0m\u001b[0;34m\u001b[0m\u001b[0m\n\u001b[1;32m     90\u001b[0m     \u001b[0;32mreturn\u001b[0m \u001b[0m_deprecate_kwarg\u001b[0m\u001b[0;34m\u001b[0m\u001b[0m\n",
      "\u001b[0;32m//anaconda/lib/python2.7/site-packages/pandas/core/frame.pyc\u001b[0m in \u001b[0;36mduplicated\u001b[0;34m(self, subset, take_last)\u001b[0m\n\u001b[1;32m   2871\u001b[0m \u001b[0;34m\u001b[0m\u001b[0m\n\u001b[1;32m   2872\u001b[0m         \u001b[0mvals\u001b[0m \u001b[0;34m=\u001b[0m \u001b[0;34m(\u001b[0m\u001b[0mself\u001b[0m\u001b[0;34m[\u001b[0m\u001b[0mcol\u001b[0m\u001b[0;34m]\u001b[0m\u001b[0;34m.\u001b[0m\u001b[0mvalues\u001b[0m \u001b[0;32mfor\u001b[0m \u001b[0mcol\u001b[0m \u001b[0;32min\u001b[0m \u001b[0msubset\u001b[0m\u001b[0;34m)\u001b[0m\u001b[0;34m\u001b[0m\u001b[0m\n\u001b[0;32m-> 2873\u001b[0;31m         \u001b[0mlabels\u001b[0m\u001b[0;34m,\u001b[0m \u001b[0mshape\u001b[0m \u001b[0;34m=\u001b[0m \u001b[0mmap\u001b[0m\u001b[0;34m(\u001b[0m\u001b[0mlist\u001b[0m\u001b[0;34m,\u001b[0m \u001b[0mzip\u001b[0m\u001b[0;34m(\u001b[0m \u001b[0;34m*\u001b[0m \u001b[0mmap\u001b[0m\u001b[0;34m(\u001b[0m\u001b[0mf\u001b[0m\u001b[0;34m,\u001b[0m \u001b[0mvals\u001b[0m\u001b[0;34m)\u001b[0m\u001b[0;34m)\u001b[0m\u001b[0;34m)\u001b[0m\u001b[0;34m\u001b[0m\u001b[0m\n\u001b[0m\u001b[1;32m   2874\u001b[0m \u001b[0;34m\u001b[0m\u001b[0m\n\u001b[1;32m   2875\u001b[0m         \u001b[0mids\u001b[0m \u001b[0;34m=\u001b[0m \u001b[0mget_group_index\u001b[0m\u001b[0;34m(\u001b[0m\u001b[0mlabels\u001b[0m\u001b[0;34m,\u001b[0m \u001b[0mshape\u001b[0m\u001b[0;34m,\u001b[0m \u001b[0msort\u001b[0m\u001b[0;34m=\u001b[0m\u001b[0mFalse\u001b[0m\u001b[0;34m,\u001b[0m \u001b[0mxnull\u001b[0m\u001b[0;34m=\u001b[0m\u001b[0mFalse\u001b[0m\u001b[0;34m)\u001b[0m\u001b[0;34m\u001b[0m\u001b[0m\n",
      "\u001b[0;32m//anaconda/lib/python2.7/site-packages/pandas/core/frame.pyc\u001b[0m in \u001b[0;36mf\u001b[0;34m(vals)\u001b[0m\n\u001b[1;32m   2860\u001b[0m \u001b[0;34m\u001b[0m\u001b[0m\n\u001b[1;32m   2861\u001b[0m         \u001b[0;32mdef\u001b[0m \u001b[0mf\u001b[0m\u001b[0;34m(\u001b[0m\u001b[0mvals\u001b[0m\u001b[0;34m)\u001b[0m\u001b[0;34m:\u001b[0m\u001b[0;34m\u001b[0m\u001b[0m\n\u001b[0;32m-> 2862\u001b[0;31m             \u001b[0mlabels\u001b[0m\u001b[0;34m,\u001b[0m \u001b[0mshape\u001b[0m \u001b[0;34m=\u001b[0m \u001b[0mfactorize\u001b[0m\u001b[0;34m(\u001b[0m\u001b[0mvals\u001b[0m\u001b[0;34m,\u001b[0m \u001b[0msize_hint\u001b[0m\u001b[0;34m=\u001b[0m\u001b[0mmin\u001b[0m\u001b[0;34m(\u001b[0m\u001b[0mlen\u001b[0m\u001b[0;34m(\u001b[0m\u001b[0mself\u001b[0m\u001b[0;34m)\u001b[0m\u001b[0;34m,\u001b[0m \u001b[0m_SIZE_HINT_LIMIT\u001b[0m\u001b[0;34m)\u001b[0m\u001b[0;34m)\u001b[0m\u001b[0;34m\u001b[0m\u001b[0m\n\u001b[0m\u001b[1;32m   2863\u001b[0m             \u001b[0;32mreturn\u001b[0m \u001b[0mlabels\u001b[0m\u001b[0;34m.\u001b[0m\u001b[0mastype\u001b[0m\u001b[0;34m(\u001b[0m\u001b[0;34m'i8'\u001b[0m\u001b[0;34m,\u001b[0m\u001b[0mcopy\u001b[0m\u001b[0;34m=\u001b[0m\u001b[0mFalse\u001b[0m\u001b[0;34m)\u001b[0m\u001b[0;34m,\u001b[0m \u001b[0mlen\u001b[0m\u001b[0;34m(\u001b[0m\u001b[0mshape\u001b[0m\u001b[0;34m)\u001b[0m\u001b[0;34m\u001b[0m\u001b[0m\n\u001b[1;32m   2864\u001b[0m \u001b[0;34m\u001b[0m\u001b[0m\n",
      "\u001b[0;32m//anaconda/lib/python2.7/site-packages/pandas/core/algorithms.pyc\u001b[0m in \u001b[0;36mfactorize\u001b[0;34m(values, sort, order, na_sentinel, size_hint)\u001b[0m\n\u001b[1;32m    133\u001b[0m     \u001b[0mtable\u001b[0m \u001b[0;34m=\u001b[0m \u001b[0mhash_klass\u001b[0m\u001b[0;34m(\u001b[0m\u001b[0msize_hint\u001b[0m \u001b[0;32mor\u001b[0m \u001b[0mlen\u001b[0m\u001b[0;34m(\u001b[0m\u001b[0mvals\u001b[0m\u001b[0;34m)\u001b[0m\u001b[0;34m)\u001b[0m\u001b[0;34m\u001b[0m\u001b[0m\n\u001b[1;32m    134\u001b[0m     \u001b[0muniques\u001b[0m \u001b[0;34m=\u001b[0m \u001b[0mvec_klass\u001b[0m\u001b[0;34m(\u001b[0m\u001b[0;34m)\u001b[0m\u001b[0;34m\u001b[0m\u001b[0m\n\u001b[0;32m--> 135\u001b[0;31m     \u001b[0mlabels\u001b[0m \u001b[0;34m=\u001b[0m \u001b[0mtable\u001b[0m\u001b[0;34m.\u001b[0m\u001b[0mget_labels\u001b[0m\u001b[0;34m(\u001b[0m\u001b[0mvals\u001b[0m\u001b[0;34m,\u001b[0m \u001b[0muniques\u001b[0m\u001b[0;34m,\u001b[0m \u001b[0;36m0\u001b[0m\u001b[0;34m,\u001b[0m \u001b[0mna_sentinel\u001b[0m\u001b[0;34m)\u001b[0m\u001b[0;34m\u001b[0m\u001b[0m\n\u001b[0m\u001b[1;32m    136\u001b[0m \u001b[0;34m\u001b[0m\u001b[0m\n\u001b[1;32m    137\u001b[0m     \u001b[0mlabels\u001b[0m \u001b[0;34m=\u001b[0m \u001b[0mcom\u001b[0m\u001b[0;34m.\u001b[0m\u001b[0m_ensure_platform_int\u001b[0m\u001b[0;34m(\u001b[0m\u001b[0mlabels\u001b[0m\u001b[0;34m)\u001b[0m\u001b[0;34m\u001b[0m\u001b[0m\n",
      "\u001b[0;32mpandas/hashtable.pyx\u001b[0m in \u001b[0;36mpandas.hashtable.PyObjectHashTable.get_labels (pandas/hashtable.c:14073)\u001b[0;34m()\u001b[0m\n",
      "\u001b[0;31mTypeError\u001b[0m: unhashable type: 'list'"
     ]
    }
   ],
   "source": [
    "df.drop_duplicates()"
   ]
  },
  {
   "cell_type": "code",
   "execution_count": 64,
   "metadata": {
    "collapsed": false
   },
   "outputs": [],
   "source": [
    "df2 = df.ix[:, ['id','hood_id','categories','ratings','search_term','number_reviews']].drop_duplicates()"
   ]
  },
  {
   "cell_type": "code",
   "execution_count": 66,
   "metadata": {
    "collapsed": false
   },
   "outputs": [
    {
     "data": {
      "text/plain": [
       "hood_id  search_term\n",
       "250017   nightlife      160\n",
       "         restaurants    260\n",
       "250050   nightlife      160\n",
       "         restaurants    260\n",
       "250146   nightlife        8\n",
       "         restaurants     57\n",
       "250149   nightlife       33\n",
       "         restaurants    163\n",
       "250150   nightlife      160\n",
       "         restaurants    260\n",
       "250206   nightlife      158\n",
       "         restaurants    260\n",
       "250383   nightlife       38\n",
       "         restaurants    108\n",
       "250478   nightlife      138\n",
       "         restaurants     18\n",
       "250692   nightlife      160\n",
       "         restaurants    260\n",
       "250714   nightlife      160\n",
       "         restaurants    260\n",
       "250780   nightlife      160\n",
       "         restaurants    260\n",
       "250788   nightlife      160\n",
       "         restaurants    259\n",
       "250801   nightlife       61\n",
       "         restaurants    251\n",
       "250889   nightlife        5\n",
       "         restaurants     81\n",
       "250939   nightlife      160\n",
       "         restaurants    260\n",
       "                       ... \n",
       "344021   nightlife       52\n",
       "         restaurants    239\n",
       "344022   nightlife       30\n",
       "         restaurants    168\n",
       "344023   nightlife       17\n",
       "         restaurants    104\n",
       "344024   nightlife       12\n",
       "         restaurants    109\n",
       "344025   nightlife       18\n",
       "         restaurants     90\n",
       "344026   nightlife       35\n",
       "         restaurants    166\n",
       "344027   nightlife      144\n",
       "         restaurants    260\n",
       "344028   nightlife        9\n",
       "         restaurants      8\n",
       "344029   nightlife       44\n",
       "         restaurants    228\n",
       "344030   nightlife       33\n",
       "         restaurants    190\n",
       "344031   nightlife       41\n",
       "         restaurants    221\n",
       "344032   nightlife       18\n",
       "         restaurants     86\n",
       "344033   nightlife        9\n",
       "         restaurants     35\n",
       "344034   nightlife       65\n",
       "         restaurants    256\n",
       "56654    nightlife       42\n",
       "         restaurants    185\n",
       "Name: id, dtype: int64"
      ]
     },
     "execution_count": 66,
     "metadata": {},
     "output_type": "execute_result"
    }
   ],
   "source": [
    "df2.groupby(['hood_id','search_term'])['id'].count()"
   ]
  },
  {
   "cell_type": "code",
   "execution_count": 68,
   "metadata": {
    "collapsed": false
   },
   "outputs": [
    {
     "data": {
      "text/plain": [
       "id\n",
       "1-2-3-thai-food-seattle                           6\n",
       "1-republik-north-arlington                        1\n",
       "1-restaurant-westminster-2                        1\n",
       "1020-bar-new-york                                 1\n",
       "105-ten-bar-and-grill-briarcliff-manor            2\n",
       "10th-street-live-kenilworth-2                     1\n",
       "121-on-main-round-rock-2                          2\n",
       "125th-street-grill-seattle                        7\n",
       "13-coins-restaurant-seattle                       2\n",
       "135-chinese-restaurant-lakewood                   1\n",
       "137-bar-and-grill-new-york                        1\n",
       "137-broadway-chinese-restaurant-new-york          1\n",
       "14-and-hudson-kitchen-and-bar-piermont            1\n",
       "14-carrot-cafe-seattle                            5\n",
       "14-carrot-taco-stand-seattle                     21\n",
       "14-parish-caribbean-kitchen-hackensack            2\n",
       "1431-cafe-cedar-park                              1\n",
       "15-fox-place-jersey-city                          1\n",
       "1512-new-york                                     1\n",
       "16-front-street-haverstraw                        1\n",
       "17-summer-restaurant-lodi                         2\n",
       "183-grill-austin-austin                           1\n",
       "1st-ave-deli-mart-seattle                         2\n",
       "2-pesos-mexican-cafe-pelham-2                     1\n",
       "2-tango-restaurant-and-lounge-garden-grove        1\n",
       "2000-points-billiards-garden-grove                1\n",
       "205-club-new-york                                 1\n",
       "206-burger-company-seattle                        6\n",
       "206-zulu-seattle                                  1\n",
       "21-bar-new-york                                   1\n",
       "                                                 ..\n",
       "zero-otto-nove-armonk                             1\n",
       "zesto-fast-food-seattle                           9\n",
       "zhengs-river-restaurant-new-york                  1\n",
       "zhu-dang-seattle                                  5\n",
       "ziggies-saloon-denver-2                           1\n",
       "ziggys-bar-and-grill-chattanooga                  1\n",
       "zinburger-clifton                                 2\n",
       "zinnia-bistro-seattle                            11\n",
       "zio-romolos-alley-bar-denver                      1\n",
       "zippys-giant-burgers-seattle                     13\n",
       "zippys-giant-burgers-seattle-2                   11\n",
       "zitio-taco-truck-woodland                         1\n",
       "zitis-italian-express-boston                      2\n",
       "zo-boston                                         2\n",
       "zo-boston-2                                       2\n",
       "zobel-seattle                                     1\n",
       "zoe-hookah-cafe-new-york                          1\n",
       "zoka-coffee-roaster-and-tea-company-seattle-4     8\n",
       "zoma-new-york                                     1\n",
       "zoës-kitchen-birmingham-7                         1\n",
       "zoës-kitchen-cedar-park-2                         1\n",
       "zoës-kitchen-homewood-3                           1\n",
       "zoës-kitchen-vestavia-hills-2                     1\n",
       "ztejas-southwestern-grill-austin-4                1\n",
       "zuma-grocery-seattle                              8\n",
       "zydeco-birmingham                                 1\n",
       "zócalo-mexican-bistro-and-tequila-bar-boston      2\n",
       "ändra-loft-seattle                                5\n",
       "ô-prestige-baugé                                  1\n",
       "über-tavern-seattle-2                            23\n",
       "Name: id, dtype: int64"
      ]
     },
     "execution_count": 68,
     "metadata": {},
     "output_type": "execute_result"
    }
   ],
   "source": [
    "df2.groupby(['id'])['id'].count()"
   ]
  },
  {
   "cell_type": "code",
   "execution_count": null,
   "metadata": {
    "collapsed": true
   },
   "outputs": [],
   "source": []
  }
 ],
 "metadata": {
  "kernelspec": {
   "display_name": "Python 2",
   "language": "python",
   "name": "python2"
  },
  "language_info": {
   "codemirror_mode": {
    "name": "ipython",
    "version": 2
   },
   "file_extension": ".py",
   "mimetype": "text/x-python",
   "name": "python",
   "nbconvert_exporter": "python",
   "pygments_lexer": "ipython2",
   "version": "2.7.10"
  }
 },
 "nbformat": 4,
 "nbformat_minor": 0
}
