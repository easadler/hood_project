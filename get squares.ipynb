{
 "cells": [
  {
   "cell_type": "code",
   "execution_count": 5,
   "metadata": {
    "collapsed": false
   },
   "outputs": [],
   "source": [
    "import json"
   ]
  },
  {
   "cell_type": "code",
   "execution_count": 8,
   "metadata": {
    "collapsed": false
   },
   "outputs": [
    {
     "name": "stdout",
     "output_type": "stream",
     "text": [
      "/Users/evansadler/Desktop/Project Files/data collection\n"
     ]
    }
   ],
   "source": [
    "cd data\\ collection"
   ]
  },
  {
   "cell_type": "code",
   "execution_count": 9,
   "metadata": {
    "collapsed": false
   },
   "outputs": [],
   "source": [
    "with open('Seattle.json', 'r') as f:\n",
    "    js = json.load(f)"
   ]
  },
  {
   "cell_type": "code",
   "execution_count": 10,
   "metadata": {
    "collapsed": false
   },
   "outputs": [],
   "source": [
    "dic = {}\n",
    "\n",
    "for geo in js['features']:\n",
    "    fp = geo['geometry']['coordinates'][0][0]\n",
    "    lat_max, lat_min = fp[1], fp[1]\n",
    "    lng_max, lng_min = fp[0], fp[0]\n",
    "    for point in geo['geometry']['coordinates'][0]:\n",
    "        if point[1] > lat_max:\n",
    "            lat_max = point[1]\n",
    "        elif point[1] < lat_min:\n",
    "            lat_min = point[1]\n",
    "        if point[0] > lng_max:\n",
    "            lng_max = point[0]\n",
    "        elif point[0] < lng_min:\n",
    "            lng_min = point[0]\n",
    "    dic[geo['properties']['REGIONID']] = [lat_min, lng_min, lat_max, lng_max]\n",
    "\n"
   ]
  },
  {
   "cell_type": "code",
   "execution_count": 33,
   "metadata": {
    "collapsed": false,
    "scrolled": true
   },
   "outputs": [],
   "source": [
    "with open('yelp_json.json', 'w') as outfile:\n",
    "    json.dump(dic, outfile)"
   ]
  },
  {
   "cell_type": "code",
   "execution_count": 5,
   "metadata": {
    "collapsed": false
   },
   "outputs": [
    {
     "name": "stdout",
     "output_type": "stream",
     "text": [
      "/Users/evansadler/Desktop/Project Files/data collection\n"
     ]
    }
   ],
   "source": [
    "cd data\\ collection"
   ]
  },
  {
   "cell_type": "code",
   "execution_count": 6,
   "metadata": {
    "collapsed": false
   },
   "outputs": [],
   "source": [
    "from yelp_class_keyword import Yelp"
   ]
  },
  {
   "cell_type": "code",
   "execution_count": 17,
   "metadata": {
    "collapsed": true
   },
   "outputs": [],
   "source": [
    "y = Yelp('Seattle','WA',dic)"
   ]
  },
  {
   "cell_type": "code",
   "execution_count": 18,
   "metadata": {
    "collapsed": false
   },
   "outputs": [
    {
     "ename": "KeyError",
     "evalue": "'businesses'",
     "output_type": "error",
     "traceback": [
      "\u001b[0;31m---------------------------------------------------------------------------\u001b[0m",
      "\u001b[0;31mKeyError\u001b[0m                                  Traceback (most recent call last)",
      "\u001b[0;32m<ipython-input-18-f475ca2fd9ac>\u001b[0m in \u001b[0;36m<module>\u001b[0;34m()\u001b[0m\n\u001b[0;32m----> 1\u001b[0;31m \u001b[0my\u001b[0m\u001b[0;34m.\u001b[0m\u001b[0myelp_data\u001b[0m\u001b[0;34m(\u001b[0m\u001b[0;36m140\u001b[0m\u001b[0;34m,\u001b[0m \u001b[0;34m'nightlife'\u001b[0m\u001b[0;34m)\u001b[0m\u001b[0;34m\u001b[0m\u001b[0m\n\u001b[0m",
      "\u001b[0;32m/Users/evansadler/Desktop/Project Files/data collection/yelp_class_keyword.py\u001b[0m in \u001b[0;36myelp_data\u001b[0;34m(self, number, keyword)\u001b[0m\n\u001b[1;32m     38\u001b[0m                 \u001b[0;32mfor\u001b[0m \u001b[0mkey\u001b[0m\u001b[0;34m,\u001b[0m \u001b[0mcoords\u001b[0m \u001b[0;32min\u001b[0m \u001b[0mself\u001b[0m\u001b[0;34m.\u001b[0m\u001b[0mdata\u001b[0m\u001b[0;34m.\u001b[0m\u001b[0miteritems\u001b[0m\u001b[0;34m(\u001b[0m\u001b[0;34m)\u001b[0m\u001b[0;34m:\u001b[0m\u001b[0;34m\u001b[0m\u001b[0m\n\u001b[1;32m     39\u001b[0m                         \u001b[0;32mfor\u001b[0m \u001b[0mi\u001b[0m \u001b[0;32min\u001b[0m \u001b[0mxrange\u001b[0m\u001b[0;34m(\u001b[0m\u001b[0;36m0\u001b[0m\u001b[0;34m,\u001b[0m\u001b[0mnumber\u001b[0m\u001b[0;34m,\u001b[0m \u001b[0;36m20\u001b[0m\u001b[0;34m)\u001b[0m\u001b[0;34m:\u001b[0m\u001b[0;34m\u001b[0m\u001b[0m\n\u001b[0;32m---> 40\u001b[0;31m                                 \u001b[0mstop\u001b[0m \u001b[0;34m=\u001b[0m \u001b[0mself\u001b[0m\u001b[0;34m.\u001b[0m\u001b[0myelp_query\u001b[0m\u001b[0;34m(\u001b[0m\u001b[0mkey\u001b[0m\u001b[0;34m,\u001b[0m \u001b[0mcoords\u001b[0m\u001b[0;34m,\u001b[0m \u001b[0mi\u001b[0m\u001b[0;34m,\u001b[0m \u001b[0mkeyword\u001b[0m\u001b[0;34m)\u001b[0m\u001b[0;34m\u001b[0m\u001b[0m\n\u001b[0m\u001b[1;32m     41\u001b[0m                                 \u001b[0;32mif\u001b[0m \u001b[0mstop\u001b[0m\u001b[0;34m:\u001b[0m\u001b[0;34m\u001b[0m\u001b[0m\n\u001b[1;32m     42\u001b[0m                                         \u001b[0;32mbreak\u001b[0m\u001b[0;34m\u001b[0m\u001b[0m\n",
      "\u001b[0;32m/Users/evansadler/Desktop/Project Files/data collection/yelp_class_keyword.py\u001b[0m in \u001b[0;36myelp_query\u001b[0;34m(self, key, coords, offset, keyword)\u001b[0m\n\u001b[1;32m     57\u001b[0m                 \u001b[0mp\u001b[0m \u001b[0;34m=\u001b[0m \u001b[0mself\u001b[0m\u001b[0;34m.\u001b[0m\u001b[0mget_search_parameters\u001b[0m\u001b[0;34m(\u001b[0m\u001b[0mcoords\u001b[0m\u001b[0;34m,\u001b[0m \u001b[0mkeyword\u001b[0m\u001b[0;34m,\u001b[0m \u001b[0moffset\u001b[0m\u001b[0;34m)\u001b[0m\u001b[0;34m\u001b[0m\u001b[0m\n\u001b[1;32m     58\u001b[0m                 \u001b[0mr\u001b[0m \u001b[0;34m=\u001b[0m \u001b[0mself\u001b[0m\u001b[0;34m.\u001b[0m\u001b[0mget_results\u001b[0m\u001b[0;34m(\u001b[0m\u001b[0mp\u001b[0m\u001b[0;34m)\u001b[0m\u001b[0;34m\u001b[0m\u001b[0m\n\u001b[0;32m---> 59\u001b[0;31m \u001b[0;34m\u001b[0m\u001b[0m\n\u001b[0m\u001b[1;32m     60\u001b[0m                 \u001b[0;32mtry\u001b[0m\u001b[0;34m:\u001b[0m\u001b[0;34m\u001b[0m\u001b[0m\n\u001b[1;32m     61\u001b[0m                         \u001b[0mbizzes\u001b[0m \u001b[0;34m=\u001b[0m \u001b[0mr\u001b[0m\u001b[0;34m[\u001b[0m\u001b[0;34m'businesses'\u001b[0m\u001b[0;34m]\u001b[0m\u001b[0;34m\u001b[0m\u001b[0m\n",
      "\u001b[0;31mKeyError\u001b[0m: 'businesses'"
     ]
    }
   ],
   "source": [
    "y.yelp_data(40, 'nightlife')"
   ]
  },
  {
   "cell_type": "code",
   "execution_count": 11,
   "metadata": {
    "collapsed": false
   },
   "outputs": [],
   "source": [
    "dic[271892] = [dic[271892][0][1], dic[271892][1][0], dic[271892][1][1], dic[271892][0][0]]"
   ]
  },
  {
   "cell_type": "code",
   "execution_count": null,
   "metadata": {
    "collapsed": false
   },
   "outputs": [],
   "source": []
  },
  {
   "cell_type": "code",
   "execution_count": 12,
   "metadata": {
    "collapsed": false
   },
   "outputs": [],
   "source": [
    "import pandas as pd \n",
    "import numpy as np\n",
    "from pymongo import MongoClient\n",
    "\n",
    "city = 'Seattle'\n",
    "state = 'WA'\n",
    "client = MongoClient('localhost', 27017)\n",
    "db = client['neighborhood_recommender']\n",
    "yelp_collection = db['yelp_data_new' + '_' + city + '_' + state]\n",
    "cursor = yelp_collection.find()\n",
    "data = [hood for hood in cursor]\n",
    "df = pd.DataFrame(data)"
   ]
  },
  {
   "cell_type": "code",
   "execution_count": 13,
   "metadata": {
    "collapsed": false
   },
   "outputs": [],
   "source": [
    "group = df.groupby(['hood_id','category'])['id'].count()"
   ]
  },
  {
   "cell_type": "code",
   "execution_count": 14,
   "metadata": {
    "collapsed": false
   },
   "outputs": [],
   "source": [
    "df_g = pd.DataFrame(group).reset_index()"
   ]
  },
  {
   "cell_type": "code",
   "execution_count": 15,
   "metadata": {
    "collapsed": false
   },
   "outputs": [],
   "source": [
    "df_g = df_g.pivot(index = 'hood_id', values = 'id', columns = 'category')"
   ]
  },
  {
   "cell_type": "code",
   "execution_count": 16,
   "metadata": {
    "collapsed": false
   },
   "outputs": [],
   "source": [
    "df_g.fillna(0, inplace = True)"
   ]
  },
  {
   "cell_type": "code",
   "execution_count": 17,
   "metadata": {
    "collapsed": false
   },
   "outputs": [],
   "source": [
    "import matplotlib.pyplot as plt\n",
    "%matplotlib inline"
   ]
  },
  {
   "cell_type": "code",
   "execution_count": 18,
   "metadata": {
    "collapsed": false
   },
   "outputs": [],
   "source": [
    "# from pandas.tools.plotting import scatter_matrix\n",
    "# scatter_matrix(df_g, figsize=(12, 12))"
   ]
  },
  {
   "cell_type": "code",
   "execution_count": 19,
   "metadata": {
    "collapsed": false
   },
   "outputs": [],
   "source": [
    "df_g.drop(['auto', 'homeservices'], axis = 1, inplace = True)"
   ]
  },
  {
   "cell_type": "code",
   "execution_count": 20,
   "metadata": {
    "collapsed": false
   },
   "outputs": [],
   "source": [
    "from sklearn.decomposition import PCA, SparsePCA,TruncatedSVD\n",
    "from sklearn import preprocessing\n",
    "from sklearn.cluster import KMeans\n",
    "from mpl_toolkits.mplot3d import Axes3D\n",
    "from sklearn.metrics import silhouette_samples, silhouette_score"
   ]
  },
  {
   "cell_type": "code",
   "execution_count": 23,
   "metadata": {
    "collapsed": false
   },
   "outputs": [
    {
     "name": "stdout",
     "output_type": "stream",
     "text": [
      "/Users/evansadler/Desktop/Project Files/Dimension Reduction\n"
     ]
    }
   ],
   "source": [
    "cd Dimension\\ Reduction"
   ]
  },
  {
   "cell_type": "code",
   "execution_count": 24,
   "metadata": {
    "collapsed": false
   },
   "outputs": [],
   "source": [
    "from pca_class import ReduceFeatures"
   ]
  },
  {
   "cell_type": "code",
   "execution_count": 290,
   "metadata": {
    "collapsed": false
   },
   "outputs": [
    {
     "name": "stdout",
     "output_type": "stream",
     "text": [
      "For n_clusters = 3 The average silhouette_score is : 0.651859432968\n",
      "For n_clusters = 4 The average silhouette_score is : 0.578800884256\n",
      "For n_clusters = 5 The average silhouette_score is : 0.57216346834\n",
      "For n_clusters = 6 The average silhouette_score is : 0.51314959455\n",
      "For n_clusters = 7 The average silhouette_score is : 0.508632503496\n",
      "For n_clusters = 8 The average silhouette_score is : 0.465981440497\n",
      "For n_clusters = 9 The average silhouette_score is : 0.385567936917\n",
      "For n_clusters = 10 The average silhouette_score is : 0.389198788216\n"
     ]
    }
   ],
   "source": [
    "rf = ReduceFeatures(df_g, df_g.index)\n",
    "rf.preprocessing(0)\n",
    "rf.crimes = pd.Index(rf.crimes)\n",
    "rf.hcluster_cols(0.10)\n",
    "rf.preprocessing(0)\n",
    "\n",
    "df_c = rf.sparse_pca(n_components = 3)\n",
    "rf.best_cluster()"
   ]
  },
  {
   "cell_type": "code",
   "execution_count": 291,
   "metadata": {
    "collapsed": false
   },
   "outputs": [
    {
     "data": {
      "text/html": [
       "<div>\n",
       "<table border=\"1\" class=\"dataframe\">\n",
       "  <thead>\n",
       "    <tr style=\"text-align: right;\">\n",
       "      <th></th>\n",
       "      <th>1</th>\n",
       "      <th>2</th>\n",
       "      <th>3</th>\n",
       "    </tr>\n",
       "  </thead>\n",
       "  <tbody>\n",
       "    <tr>\n",
       "      <th>restaurants</th>\n",
       "      <td>-5.229814</td>\n",
       "      <td>-2.828842</td>\n",
       "      <td>0.000000</td>\n",
       "    </tr>\n",
       "    <tr>\n",
       "      <th>shopping</th>\n",
       "      <td>-7.685625</td>\n",
       "      <td>0.000000</td>\n",
       "      <td>0.000000</td>\n",
       "    </tr>\n",
       "    <tr>\n",
       "      <th>[u'arts' u'nightlife']</th>\n",
       "      <td>0.000000</td>\n",
       "      <td>-7.790434</td>\n",
       "      <td>0.000000</td>\n",
       "    </tr>\n",
       "    <tr>\n",
       "      <th>active</th>\n",
       "      <td>0.000000</td>\n",
       "      <td>0.000000</td>\n",
       "      <td>7.831761</td>\n",
       "    </tr>\n",
       "  </tbody>\n",
       "</table>\n",
       "</div>"
      ],
      "text/plain": [
       "                               1         2         3\n",
       "restaurants            -5.229814 -2.828842  0.000000\n",
       "shopping               -7.685625  0.000000  0.000000\n",
       "[u'arts' u'nightlife']  0.000000 -7.790434  0.000000\n",
       "active                  0.000000  0.000000  7.831761"
      ]
     },
     "execution_count": 291,
     "metadata": {},
     "output_type": "execute_result"
    }
   ],
   "source": [
    "df_c"
   ]
  },
  {
   "cell_type": "code",
   "execution_count": 292,
   "metadata": {
    "collapsed": false
   },
   "outputs": [
    {
     "data": {
      "image/png": "[encoded data removed]",
      "text/plain": [
       "<matplotlib.figure.Figure at 0x1341385d0>"
      ]
     },
     "metadata": {},
     "output_type": "display_data"
    }
   ],
   "source": [
    "rf.plot_embedding()"
   ]
  },
  {
   "cell_type": "code",
   "execution_count": 289,
   "metadata": {
    "collapsed": false
   },
   "outputs": [
    {
     "data": {
      "text/html": [
       "<div>\n",
       "<table border=\"1\" class=\"dataframe\">\n",
       "  <thead>\n",
       "    <tr style=\"text-align: right;\">\n",
       "      <th>category</th>\n",
       "      <th>active</th>\n",
       "      <th>arts</th>\n",
       "      <th>nightlife</th>\n",
       "      <th>restaurants</th>\n",
       "      <th>shopping</th>\n",
       "    </tr>\n",
       "    <tr>\n",
       "      <th>hood_id</th>\n",
       "      <th></th>\n",
       "      <th></th>\n",
       "      <th></th>\n",
       "      <th></th>\n",
       "      <th></th>\n",
       "    </tr>\n",
       "  </thead>\n",
       "  <tbody>\n",
       "    <tr>\n",
       "      <th>250017</th>\n",
       "      <td>79</td>\n",
       "      <td>41</td>\n",
       "      <td>59</td>\n",
       "      <td>149</td>\n",
       "      <td>199</td>\n",
       "    </tr>\n",
       "    <tr>\n",
       "      <th>250050</th>\n",
       "      <td>75</td>\n",
       "      <td>47</td>\n",
       "      <td>32</td>\n",
       "      <td>179</td>\n",
       "      <td>170</td>\n",
       "    </tr>\n",
       "    <tr>\n",
       "      <th>250146</th>\n",
       "      <td>18</td>\n",
       "      <td>9</td>\n",
       "      <td>2</td>\n",
       "      <td>26</td>\n",
       "      <td>72</td>\n",
       "    </tr>\n",
       "    <tr>\n",
       "      <th>250149</th>\n",
       "      <td>29</td>\n",
       "      <td>13</td>\n",
       "      <td>4</td>\n",
       "      <td>5</td>\n",
       "      <td>86</td>\n",
       "    </tr>\n",
       "    <tr>\n",
       "      <th>250206</th>\n",
       "      <td>128</td>\n",
       "      <td>74</td>\n",
       "      <td>137</td>\n",
       "      <td>200</td>\n",
       "      <td>200</td>\n",
       "    </tr>\n",
       "    <tr>\n",
       "      <th>250383</th>\n",
       "      <td>25</td>\n",
       "      <td>10</td>\n",
       "      <td>6</td>\n",
       "      <td>10</td>\n",
       "      <td>84</td>\n",
       "    </tr>\n",
       "    <tr>\n",
       "      <th>250692</th>\n",
       "      <td>98</td>\n",
       "      <td>50</td>\n",
       "      <td>39</td>\n",
       "      <td>98</td>\n",
       "      <td>187</td>\n",
       "    </tr>\n",
       "    <tr>\n",
       "      <th>250714</th>\n",
       "      <td>38</td>\n",
       "      <td>31</td>\n",
       "      <td>20</td>\n",
       "      <td>74</td>\n",
       "      <td>129</td>\n",
       "    </tr>\n",
       "    <tr>\n",
       "      <th>250780</th>\n",
       "      <td>57</td>\n",
       "      <td>14</td>\n",
       "      <td>14</td>\n",
       "      <td>42</td>\n",
       "      <td>121</td>\n",
       "    </tr>\n",
       "    <tr>\n",
       "      <th>250788</th>\n",
       "      <td>48</td>\n",
       "      <td>24</td>\n",
       "      <td>22</td>\n",
       "      <td>57</td>\n",
       "      <td>134</td>\n",
       "    </tr>\n",
       "    <tr>\n",
       "      <th>250801</th>\n",
       "      <td>34</td>\n",
       "      <td>11</td>\n",
       "      <td>5</td>\n",
       "      <td>53</td>\n",
       "      <td>192</td>\n",
       "    </tr>\n",
       "    <tr>\n",
       "      <th>250939</th>\n",
       "      <td>112</td>\n",
       "      <td>31</td>\n",
       "      <td>37</td>\n",
       "      <td>121</td>\n",
       "      <td>199</td>\n",
       "    </tr>\n",
       "    <tr>\n",
       "      <th>251100</th>\n",
       "      <td>36</td>\n",
       "      <td>9</td>\n",
       "      <td>4</td>\n",
       "      <td>7</td>\n",
       "      <td>89</td>\n",
       "    </tr>\n",
       "    <tr>\n",
       "      <th>251170</th>\n",
       "      <td>27</td>\n",
       "      <td>10</td>\n",
       "      <td>6</td>\n",
       "      <td>10</td>\n",
       "      <td>87</td>\n",
       "    </tr>\n",
       "    <tr>\n",
       "      <th>251186</th>\n",
       "      <td>32</td>\n",
       "      <td>10</td>\n",
       "      <td>7</td>\n",
       "      <td>15</td>\n",
       "      <td>97</td>\n",
       "    </tr>\n",
       "    <tr>\n",
       "      <th>251187</th>\n",
       "      <td>29</td>\n",
       "      <td>14</td>\n",
       "      <td>5</td>\n",
       "      <td>12</td>\n",
       "      <td>85</td>\n",
       "    </tr>\n",
       "    <tr>\n",
       "      <th>251704</th>\n",
       "      <td>32</td>\n",
       "      <td>15</td>\n",
       "      <td>9</td>\n",
       "      <td>25</td>\n",
       "      <td>86</td>\n",
       "    </tr>\n",
       "    <tr>\n",
       "      <th>251709</th>\n",
       "      <td>40</td>\n",
       "      <td>11</td>\n",
       "      <td>17</td>\n",
       "      <td>50</td>\n",
       "      <td>185</td>\n",
       "    </tr>\n",
       "    <tr>\n",
       "      <th>251971</th>\n",
       "      <td>25</td>\n",
       "      <td>13</td>\n",
       "      <td>5</td>\n",
       "      <td>13</td>\n",
       "      <td>85</td>\n",
       "    </tr>\n",
       "    <tr>\n",
       "      <th>252056</th>\n",
       "      <td>49</td>\n",
       "      <td>14</td>\n",
       "      <td>7</td>\n",
       "      <td>17</td>\n",
       "      <td>63</td>\n",
       "    </tr>\n",
       "    <tr>\n",
       "      <th>252248</th>\n",
       "      <td>90</td>\n",
       "      <td>32</td>\n",
       "      <td>25</td>\n",
       "      <td>90</td>\n",
       "      <td>179</td>\n",
       "    </tr>\n",
       "    <tr>\n",
       "      <th>252336</th>\n",
       "      <td>28</td>\n",
       "      <td>9</td>\n",
       "      <td>9</td>\n",
       "      <td>11</td>\n",
       "      <td>85</td>\n",
       "    </tr>\n",
       "    <tr>\n",
       "      <th>271804</th>\n",
       "      <td>36</td>\n",
       "      <td>12</td>\n",
       "      <td>6</td>\n",
       "      <td>25</td>\n",
       "      <td>102</td>\n",
       "    </tr>\n",
       "    <tr>\n",
       "      <th>271808</th>\n",
       "      <td>56</td>\n",
       "      <td>50</td>\n",
       "      <td>55</td>\n",
       "      <td>169</td>\n",
       "      <td>179</td>\n",
       "    </tr>\n",
       "    <tr>\n",
       "      <th>271814</th>\n",
       "      <td>30</td>\n",
       "      <td>10</td>\n",
       "      <td>6</td>\n",
       "      <td>22</td>\n",
       "      <td>97</td>\n",
       "    </tr>\n",
       "    <tr>\n",
       "      <th>271819</th>\n",
       "      <td>23</td>\n",
       "      <td>10</td>\n",
       "      <td>5</td>\n",
       "      <td>10</td>\n",
       "      <td>78</td>\n",
       "    </tr>\n",
       "    <tr>\n",
       "      <th>271831</th>\n",
       "      <td>31</td>\n",
       "      <td>14</td>\n",
       "      <td>12</td>\n",
       "      <td>33</td>\n",
       "      <td>104</td>\n",
       "    </tr>\n",
       "    <tr>\n",
       "      <th>271849</th>\n",
       "      <td>171</td>\n",
       "      <td>200</td>\n",
       "      <td>200</td>\n",
       "      <td>200</td>\n",
       "      <td>200</td>\n",
       "    </tr>\n",
       "    <tr>\n",
       "      <th>271857</th>\n",
       "      <td>48</td>\n",
       "      <td>18</td>\n",
       "      <td>16</td>\n",
       "      <td>37</td>\n",
       "      <td>97</td>\n",
       "    </tr>\n",
       "    <tr>\n",
       "      <th>271869</th>\n",
       "      <td>75</td>\n",
       "      <td>62</td>\n",
       "      <td>34</td>\n",
       "      <td>137</td>\n",
       "      <td>175</td>\n",
       "    </tr>\n",
       "    <tr>\n",
       "      <th>...</th>\n",
       "      <td>...</td>\n",
       "      <td>...</td>\n",
       "      <td>...</td>\n",
       "      <td>...</td>\n",
       "      <td>...</td>\n",
       "    </tr>\n",
       "    <tr>\n",
       "      <th>272022</th>\n",
       "      <td>67</td>\n",
       "      <td>28</td>\n",
       "      <td>11</td>\n",
       "      <td>40</td>\n",
       "      <td>108</td>\n",
       "    </tr>\n",
       "    <tr>\n",
       "      <th>272026</th>\n",
       "      <td>23</td>\n",
       "      <td>9</td>\n",
       "      <td>4</td>\n",
       "      <td>1</td>\n",
       "      <td>77</td>\n",
       "    </tr>\n",
       "    <tr>\n",
       "      <th>343993</th>\n",
       "      <td>26</td>\n",
       "      <td>10</td>\n",
       "      <td>4</td>\n",
       "      <td>10</td>\n",
       "      <td>65</td>\n",
       "    </tr>\n",
       "    <tr>\n",
       "      <th>343996</th>\n",
       "      <td>28</td>\n",
       "      <td>12</td>\n",
       "      <td>4</td>\n",
       "      <td>4</td>\n",
       "      <td>79</td>\n",
       "    </tr>\n",
       "    <tr>\n",
       "      <th>343998</th>\n",
       "      <td>20</td>\n",
       "      <td>13</td>\n",
       "      <td>3</td>\n",
       "      <td>33</td>\n",
       "      <td>182</td>\n",
       "    </tr>\n",
       "    <tr>\n",
       "      <th>343999</th>\n",
       "      <td>20</td>\n",
       "      <td>14</td>\n",
       "      <td>3</td>\n",
       "      <td>15</td>\n",
       "      <td>73</td>\n",
       "    </tr>\n",
       "    <tr>\n",
       "      <th>344000</th>\n",
       "      <td>37</td>\n",
       "      <td>21</td>\n",
       "      <td>14</td>\n",
       "      <td>62</td>\n",
       "      <td>199</td>\n",
       "    </tr>\n",
       "    <tr>\n",
       "      <th>344001</th>\n",
       "      <td>37</td>\n",
       "      <td>14</td>\n",
       "      <td>11</td>\n",
       "      <td>27</td>\n",
       "      <td>94</td>\n",
       "    </tr>\n",
       "    <tr>\n",
       "      <th>344002</th>\n",
       "      <td>34</td>\n",
       "      <td>11</td>\n",
       "      <td>10</td>\n",
       "      <td>25</td>\n",
       "      <td>104</td>\n",
       "    </tr>\n",
       "    <tr>\n",
       "      <th>344003</th>\n",
       "      <td>32</td>\n",
       "      <td>9</td>\n",
       "      <td>4</td>\n",
       "      <td>11</td>\n",
       "      <td>93</td>\n",
       "    </tr>\n",
       "    <tr>\n",
       "      <th>344004</th>\n",
       "      <td>23</td>\n",
       "      <td>8</td>\n",
       "      <td>4</td>\n",
       "      <td>2</td>\n",
       "      <td>82</td>\n",
       "    </tr>\n",
       "    <tr>\n",
       "      <th>344005</th>\n",
       "      <td>24</td>\n",
       "      <td>11</td>\n",
       "      <td>6</td>\n",
       "      <td>6</td>\n",
       "      <td>64</td>\n",
       "    </tr>\n",
       "    <tr>\n",
       "      <th>344006</th>\n",
       "      <td>22</td>\n",
       "      <td>8</td>\n",
       "      <td>4</td>\n",
       "      <td>0</td>\n",
       "      <td>77</td>\n",
       "    </tr>\n",
       "    <tr>\n",
       "      <th>344009</th>\n",
       "      <td>22</td>\n",
       "      <td>8</td>\n",
       "      <td>4</td>\n",
       "      <td>1</td>\n",
       "      <td>76</td>\n",
       "    </tr>\n",
       "    <tr>\n",
       "      <th>344011</th>\n",
       "      <td>28</td>\n",
       "      <td>9</td>\n",
       "      <td>4</td>\n",
       "      <td>0</td>\n",
       "      <td>76</td>\n",
       "    </tr>\n",
       "    <tr>\n",
       "      <th>344012</th>\n",
       "      <td>27</td>\n",
       "      <td>10</td>\n",
       "      <td>7</td>\n",
       "      <td>13</td>\n",
       "      <td>91</td>\n",
       "    </tr>\n",
       "    <tr>\n",
       "      <th>344013</th>\n",
       "      <td>77</td>\n",
       "      <td>28</td>\n",
       "      <td>39</td>\n",
       "      <td>123</td>\n",
       "      <td>132</td>\n",
       "    </tr>\n",
       "    <tr>\n",
       "      <th>344019</th>\n",
       "      <td>48</td>\n",
       "      <td>16</td>\n",
       "      <td>14</td>\n",
       "      <td>27</td>\n",
       "      <td>93</td>\n",
       "    </tr>\n",
       "    <tr>\n",
       "      <th>344020</th>\n",
       "      <td>75</td>\n",
       "      <td>26</td>\n",
       "      <td>21</td>\n",
       "      <td>77</td>\n",
       "      <td>146</td>\n",
       "    </tr>\n",
       "    <tr>\n",
       "      <th>344023</th>\n",
       "      <td>34</td>\n",
       "      <td>12</td>\n",
       "      <td>5</td>\n",
       "      <td>9</td>\n",
       "      <td>79</td>\n",
       "    </tr>\n",
       "    <tr>\n",
       "      <th>344024</th>\n",
       "      <td>23</td>\n",
       "      <td>8</td>\n",
       "      <td>4</td>\n",
       "      <td>0</td>\n",
       "      <td>75</td>\n",
       "    </tr>\n",
       "    <tr>\n",
       "      <th>344028</th>\n",
       "      <td>40</td>\n",
       "      <td>12</td>\n",
       "      <td>4</td>\n",
       "      <td>35</td>\n",
       "      <td>85</td>\n",
       "    </tr>\n",
       "    <tr>\n",
       "      <th>344029</th>\n",
       "      <td>29</td>\n",
       "      <td>9</td>\n",
       "      <td>4</td>\n",
       "      <td>4</td>\n",
       "      <td>86</td>\n",
       "    </tr>\n",
       "    <tr>\n",
       "      <th>344030</th>\n",
       "      <td>28</td>\n",
       "      <td>13</td>\n",
       "      <td>7</td>\n",
       "      <td>11</td>\n",
       "      <td>74</td>\n",
       "    </tr>\n",
       "    <tr>\n",
       "      <th>344031</th>\n",
       "      <td>25</td>\n",
       "      <td>11</td>\n",
       "      <td>11</td>\n",
       "      <td>19</td>\n",
       "      <td>100</td>\n",
       "    </tr>\n",
       "    <tr>\n",
       "      <th>344033</th>\n",
       "      <td>25</td>\n",
       "      <td>10</td>\n",
       "      <td>3</td>\n",
       "      <td>5</td>\n",
       "      <td>61</td>\n",
       "    </tr>\n",
       "    <tr>\n",
       "      <th>344034</th>\n",
       "      <td>31</td>\n",
       "      <td>11</td>\n",
       "      <td>5</td>\n",
       "      <td>4</td>\n",
       "      <td>89</td>\n",
       "    </tr>\n",
       "    <tr>\n",
       "      <th>344055</th>\n",
       "      <td>39</td>\n",
       "      <td>19</td>\n",
       "      <td>20</td>\n",
       "      <td>49</td>\n",
       "      <td>101</td>\n",
       "    </tr>\n",
       "    <tr>\n",
       "      <th>344056</th>\n",
       "      <td>40</td>\n",
       "      <td>13</td>\n",
       "      <td>5</td>\n",
       "      <td>6</td>\n",
       "      <td>80</td>\n",
       "    </tr>\n",
       "    <tr>\n",
       "      <th>344058</th>\n",
       "      <td>46</td>\n",
       "      <td>15</td>\n",
       "      <td>18</td>\n",
       "      <td>49</td>\n",
       "      <td>91</td>\n",
       "    </tr>\n",
       "  </tbody>\n",
       "</table>\n",
       "<p>78 rows × 5 columns</p>\n",
       "</div>"
      ],
      "text/plain": [
       "category  active  arts  nightlife  restaurants  shopping\n",
       "hood_id                                                 \n",
       "250017        79    41         59          149       199\n",
       "250050        75    47         32          179       170\n",
       "250146        18     9          2           26        72\n",
       "250149        29    13          4            5        86\n",
       "250206       128    74        137          200       200\n",
       "250383        25    10          6           10        84\n",
       "250692        98    50         39           98       187\n",
       "250714        38    31         20           74       129\n",
       "250780        57    14         14           42       121\n",
       "250788        48    24         22           57       134\n",
       "250801        34    11          5           53       192\n",
       "250939       112    31         37          121       199\n",
       "251100        36     9          4            7        89\n",
       "251170        27    10          6           10        87\n",
       "251186        32    10          7           15        97\n",
       "251187        29    14          5           12        85\n",
       "251704        32    15          9           25        86\n",
       "251709        40    11         17           50       185\n",
       "251971        25    13          5           13        85\n",
       "252056        49    14          7           17        63\n",
       "252248        90    32         25           90       179\n",
       "252336        28     9          9           11        85\n",
       "271804        36    12          6           25       102\n",
       "271808        56    50         55          169       179\n",
       "271814        30    10          6           22        97\n",
       "271819        23    10          5           10        78\n",
       "271831        31    14         12           33       104\n",
       "271849       171   200        200          200       200\n",
       "271857        48    18         16           37        97\n",
       "271869        75    62         34          137       175\n",
       "...          ...   ...        ...          ...       ...\n",
       "272022        67    28         11           40       108\n",
       "272026        23     9          4            1        77\n",
       "343993        26    10          4           10        65\n",
       "343996        28    12          4            4        79\n",
       "343998        20    13          3           33       182\n",
       "343999        20    14          3           15        73\n",
       "344000        37    21         14           62       199\n",
       "344001        37    14         11           27        94\n",
       "344002        34    11         10           25       104\n",
       "344003        32     9          4           11        93\n",
       "344004        23     8          4            2        82\n",
       "344005        24    11          6            6        64\n",
       "344006        22     8          4            0        77\n",
       "344009        22     8          4            1        76\n",
       "344011        28     9          4            0        76\n",
       "344012        27    10          7           13        91\n",
       "344013        77    28         39          123       132\n",
       "344019        48    16         14           27        93\n",
       "344020        75    26         21           77       146\n",
       "344023        34    12          5            9        79\n",
       "344024        23     8          4            0        75\n",
       "344028        40    12          4           35        85\n",
       "344029        29     9          4            4        86\n",
       "344030        28    13          7           11        74\n",
       "344031        25    11         11           19       100\n",
       "344033        25    10          3            5        61\n",
       "344034        31    11          5            4        89\n",
       "344055        39    19         20           49       101\n",
       "344056        40    13          5            6        80\n",
       "344058        46    15         18           49        91\n",
       "\n",
       "[78 rows x 5 columns]"
      ]
     },
     "execution_count": 289,
     "metadata": {},
     "output_type": "execute_result"
    }
   ],
   "source": []
  },
  {
   "cell_type": "code",
   "execution_count": 296,
   "metadata": {
    "collapsed": false
   },
   "outputs": [],
   "source": [
    "df_g.reset_index().to_csv('yelp_pca_data.csv', index = False)"
   ]
  },
  {
   "cell_type": "code",
   "execution_count": null,
   "metadata": {
    "collapsed": true
   },
   "outputs": [],
   "source": []
  }
 ],
 "metadata": {
  "kernelspec": {
   "display_name": "Python 2",
   "language": "python",
   "name": "python2"
  },
  "language_info": {
   "codemirror_mode": {
    "name": "ipython",
    "version": 2
   },
   "file_extension": ".py",
   "mimetype": "text/x-python",
   "name": "python",
   "nbconvert_exporter": "python",
   "pygments_lexer": "ipython2",
   "version": "2.7.10"
  }
 },
 "nbformat": 4,
 "nbformat_minor": 0
}
